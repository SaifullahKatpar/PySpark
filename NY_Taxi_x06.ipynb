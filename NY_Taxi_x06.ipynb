{
  "nbformat": 4,
  "nbformat_minor": 0,
  "metadata": {
    "colab": {
      "name": "NY_Taxi_x06.ipynb",
      "provenance": [],
      "collapsed_sections": [
        "oYoaNg5LCDyE",
        "jBwwn9chCL7-"
      ],
      "include_colab_link": true
    },
    "kernelspec": {
      "name": "python3",
      "display_name": "Python 3"
    },
    "accelerator": "GPU"
  },
  "cells": [
    {
      "cell_type": "markdown",
      "metadata": {
        "id": "view-in-github",
        "colab_type": "text"
      },
      "source": [
        "<a href=\"https://colab.research.google.com/github/SaifullahKatpar/PySpark/blob/master/NY_Taxi_x06.ipynb\" target=\"_parent\"><img src=\"https://colab.research.google.com/assets/colab-badge.svg\" alt=\"Open In Colab\"/></a>"
      ]
    },
    {
      "cell_type": "markdown",
      "metadata": {
        "id": "IWBJsWoVBcxL",
        "colab_type": "text"
      },
      "source": [
        "# Setup Spark"
      ]
    },
    {
      "cell_type": "code",
      "metadata": {
        "id": "ApKDFLVg6gV5",
        "colab_type": "code",
        "colab": {}
      },
      "source": [
        "!apt-get install openjdk-8-jdk-headless -qq > /dev/null\n",
        "!wget -q https://www-us.apache.org/dist/spark/spark-2.3.4/spark-2.3.4-bin-hadoop2.7.tgz\n",
        "!tar xf spark-2.3.4-bin-hadoop2.7.tgz\n",
        "!pip install -q findspark"
      ],
      "execution_count": 0,
      "outputs": []
    },
    {
      "cell_type": "code",
      "metadata": {
        "id": "ovWlFEJ2fAxu",
        "colab_type": "code",
        "outputId": "f5560190-de35-44b9-94ce-75329f6379ca",
        "colab": {
          "base_uri": "https://localhost:8080/",
          "height": 224
        }
      },
      "source": [
        "# Install dependencies\n",
        "!pip install pyshp"
      ],
      "execution_count": 0,
      "outputs": [
        {
          "output_type": "stream",
          "text": [
            "Collecting pyshp\n",
            "\u001b[?25l  Downloading https://files.pythonhosted.org/packages/27/16/3bf15aa864fb77845fab8007eda22c2bd67bd6c1fd13496df452c8c43621/pyshp-2.1.0.tar.gz (215kB)\n",
            "\r\u001b[K     |█▌                              | 10kB 29.3MB/s eta 0:00:01\r\u001b[K     |███                             | 20kB 3.1MB/s eta 0:00:01\r\u001b[K     |████▋                           | 30kB 4.2MB/s eta 0:00:01\r\u001b[K     |██████                          | 40kB 4.5MB/s eta 0:00:01\r\u001b[K     |███████▋                        | 51kB 3.7MB/s eta 0:00:01\r\u001b[K     |█████████▏                      | 61kB 4.2MB/s eta 0:00:01\r\u001b[K     |██████████▋                     | 71kB 4.4MB/s eta 0:00:01\r\u001b[K     |████████████▏                   | 81kB 4.8MB/s eta 0:00:01\r\u001b[K     |█████████████▊                  | 92kB 5.1MB/s eta 0:00:01\r\u001b[K     |███████████████▏                | 102kB 4.9MB/s eta 0:00:01\r\u001b[K     |████████████████▊               | 112kB 4.9MB/s eta 0:00:01\r\u001b[K     |██████████████████▎             | 122kB 4.9MB/s eta 0:00:01\r\u001b[K     |███████████████████▉            | 133kB 4.9MB/s eta 0:00:01\r\u001b[K     |█████████████████████▎          | 143kB 4.9MB/s eta 0:00:01\r\u001b[K     |██████████████████████▉         | 153kB 4.9MB/s eta 0:00:01\r\u001b[K     |████████████████████████▍       | 163kB 4.9MB/s eta 0:00:01\r\u001b[K     |█████████████████████████▉      | 174kB 4.9MB/s eta 0:00:01\r\u001b[K     |███████████████████████████▍    | 184kB 4.9MB/s eta 0:00:01\r\u001b[K     |█████████████████████████████   | 194kB 4.9MB/s eta 0:00:01\r\u001b[K     |██████████████████████████████▍ | 204kB 4.9MB/s eta 0:00:01\r\u001b[K     |████████████████████████████████| 215kB 4.9MB/s eta 0:00:01\r\u001b[K     |████████████████████████████████| 225kB 4.9MB/s \n",
            "\u001b[?25hBuilding wheels for collected packages: pyshp\n",
            "  Building wheel for pyshp (setup.py) ... \u001b[?25l\u001b[?25hdone\n",
            "  Created wheel for pyshp: filename=pyshp-2.1.0-cp36-none-any.whl size=32609 sha256=037e4b9853ac0a4147f7802022a565677ef393b2c78b61da816f9a2b6ef2d74d\n",
            "  Stored in directory: /root/.cache/pip/wheels/a6/0c/de/321b5192ad416b328975a2f0385f72c64db4656501eba7cc1a\n",
            "Successfully built pyshp\n",
            "Installing collected packages: pyshp\n",
            "Successfully installed pyshp-2.1.0\n"
          ],
          "name": "stdout"
        }
      ]
    },
    {
      "cell_type": "code",
      "metadata": {
        "id": "Nhl-NVc7Hz8g",
        "colab_type": "code",
        "colab": {}
      },
      "source": [
        "import os\n",
        "os.environ[\"JAVA_HOME\"] = \"/usr/lib/jvm/java-8-openjdk-amd64\"\n",
        "os.environ[\"SPARK_HOME\"] = \"/content/spark-2.3.4-bin-hadoop2.7\"\n",
        "\n",
        "import findspark\n",
        "findspark.init()\n"
      ],
      "execution_count": 0,
      "outputs": []
    },
    {
      "cell_type": "code",
      "metadata": {
        "id": "gZjVXnaz5hZd",
        "colab_type": "code",
        "colab": {}
      },
      "source": [
        "# Import the PySpark module\n",
        "from pyspark.sql import SparkSession\n",
        "\n",
        "# Create SparkSession object\n",
        "spark = SparkSession.builder \\\n",
        "                    .master('local[*]') \\\n",
        "                    .appName('test') \\\n",
        "                    .config(\"spark.driver.memory\", \"12g\")\\\n",
        "                    .getOrCreate()"
      ],
      "execution_count": 0,
      "outputs": []
    },
    {
      "cell_type": "code",
      "metadata": {
        "id": "FdrqwbiYw0kj",
        "colab_type": "code",
        "colab": {}
      },
      "source": [
        ""
      ],
      "execution_count": 0,
      "outputs": []
    },
    {
      "cell_type": "code",
      "metadata": {
        "id": "VZIZXjLaw0pj",
        "colab_type": "code",
        "outputId": "fe9b7d73-fa85-4e1d-d8f7-bfd75c6f0671",
        "colab": {
          "base_uri": "https://localhost:8080/",
          "height": 131
        }
      },
      "source": [
        "from google.colab import drive\n",
        "drive.mount('/content/gdrive')"
      ],
      "execution_count": 0,
      "outputs": [
        {
          "output_type": "stream",
          "text": [
            "Go to this URL in a browser: https://accounts.google.com/o/oauth2/auth?client_id=947318989803-6bn6qk8qdgf4n4g3pfee6491hc0brc4i.apps.googleusercontent.com&redirect_uri=urn%3aietf%3awg%3aoauth%3a2.0%3aoob&response_type=code&scope=email%20https%3a%2f%2fwww.googleapis.com%2fauth%2fdocs.test%20https%3a%2f%2fwww.googleapis.com%2fauth%2fdrive%20https%3a%2f%2fwww.googleapis.com%2fauth%2fdrive.photos.readonly%20https%3a%2f%2fwww.googleapis.com%2fauth%2fpeopleapi.readonly\n",
            "\n",
            "Enter your authorization code:\n",
            "··········\n",
            "Mounted at /content/gdrive\n"
          ],
          "name": "stdout"
        }
      ]
    },
    {
      "cell_type": "code",
      "metadata": {
        "id": "mj0oIhDcw1wR",
        "colab_type": "code",
        "colab": {}
      },
      "source": [
        "# import os\n",
        "# os.listdir(r'/content/gdrive/My Drive/')"
      ],
      "execution_count": 0,
      "outputs": []
    },
    {
      "cell_type": "code",
      "metadata": {
        "id": "l2pOEdfExHeJ",
        "colab_type": "code",
        "colab": {}
      },
      "source": [
        ""
      ],
      "execution_count": 0,
      "outputs": []
    },
    {
      "cell_type": "code",
      "metadata": {
        "id": "1i_IsdS1xHhP",
        "colab_type": "code",
        "colab": {}
      },
      "source": [
        ""
      ],
      "execution_count": 0,
      "outputs": []
    },
    {
      "cell_type": "code",
      "metadata": {
        "id": "K1OmGGFSxHk1",
        "colab_type": "code",
        "colab": {}
      },
      "source": [
        ""
      ],
      "execution_count": 0,
      "outputs": []
    },
    {
      "cell_type": "code",
      "metadata": {
        "id": "JHSGxMBylDiY",
        "colab_type": "code",
        "colab": {}
      },
      "source": [
        "# spark.sparkContext._conf.getAll()"
      ],
      "execution_count": 0,
      "outputs": []
    },
    {
      "cell_type": "markdown",
      "metadata": {
        "id": "LEyrkSGjpqzK",
        "colab_type": "text"
      },
      "source": [
        "# Libaries"
      ]
    },
    {
      "cell_type": "code",
      "metadata": {
        "id": "vnMy6_BweXQa",
        "colab_type": "code",
        "outputId": "edace0d8-f909-4583-eb6b-b04272c5950f",
        "colab": {
          "base_uri": "https://localhost:8080/",
          "height": 74
        }
      },
      "source": [
        "from pyspark import SparkFiles\n",
        "from pyspark.sql.types import IntegerType, TimestampType, DoubleType, StringType, DoubleType, StructType, StructField, LongType,FloatType\n",
        "from pyspark.sql.functions import col, dayofweek, hour, datediff, minute,to_timestamp, radians, asin, sin, sqrt, cos, lit\n",
        "from pyspark.sql import DataFrame\n",
        "\n",
        "import pyarrow.parquet as pq\n",
        "from functools import reduce\n",
        "import time\n",
        "import pandas as pd\n",
        "import shapefile\n",
        "import seaborn as sns\n",
        "import matplotlib.pyplot as plt\n"
      ],
      "execution_count": 0,
      "outputs": [
        {
          "output_type": "stream",
          "text": [
            "/usr/local/lib/python3.6/dist-packages/statsmodels/tools/_testing.py:19: FutureWarning: pandas.util.testing is deprecated. Use the functions in the public API at pandas.testing instead.\n",
            "  import pandas.util.testing as tm\n"
          ],
          "name": "stderr"
        }
      ]
    },
    {
      "cell_type": "markdown",
      "metadata": {
        "id": "XSiAm-rRB0wU",
        "colab_type": "text"
      },
      "source": [
        " # 2. Loading data as parquet files"
      ]
    },
    {
      "cell_type": "markdown",
      "metadata": {
        "id": "mpzMe_HYP-6B",
        "colab_type": "text"
      },
      "source": [
        "##Part-I"
      ]
    },
    {
      "cell_type": "markdown",
      "metadata": {
        "id": "oYoaNg5LCDyE",
        "colab_type": "text"
      },
      "source": [
        "## 1. Read without imposing a schema.\n",
        "\n",
        "**Answer:** Read with inferSchema as None. If None is set, it uses the default value, false.\n"
      ]
    },
    {
      "cell_type": "code",
      "metadata": {
        "id": "gtov0_3_CBsO",
        "colab_type": "code",
        "colab": {}
      },
      "source": [
        "url_2015 = \"https://s3.amazonaws.com/nyc-tlc/trip+data/yellow_tripdata_2015-05.csv\"\n",
        "spark.sparkContext.addFile(url_2015)\n",
        "df_2015 = spark.read.csv(\"file://\"+SparkFiles.get(\"yellow_tripdata_2015-05.csv\"), header=True)\n"
      ],
      "execution_count": 0,
      "outputs": []
    },
    {
      "cell_type": "code",
      "metadata": {
        "id": "X4dWZeu7CGo6",
        "colab_type": "code",
        "colab": {}
      },
      "source": [
        "url_2018 = \"https://s3.amazonaws.com/nyc-tlc/trip+data/yellow_tripdata_2018-05.csv\"\n",
        "spark.sparkContext.addFile(url_2018)\n",
        "df_2018 = spark.read.csv(\"file://\"+SparkFiles.get(\"yellow_tripdata_2018-05.csv\"), header=True)\n"
      ],
      "execution_count": 0,
      "outputs": []
    },
    {
      "cell_type": "markdown",
      "metadata": {
        "id": "jBwwn9chCL7-",
        "colab_type": "text"
      },
      "source": [
        "##2. Inspect the inferred schema. Do you agree with Spark’s typing decision?\n",
        "\n",
        "**Answer:** No. I disagree with the inferred schema as it sets the datatype of every column to string regardless of the value present in column"
      ]
    },
    {
      "cell_type": "code",
      "metadata": {
        "id": "qQB0QdEOCS_h",
        "colab_type": "code",
        "outputId": "1f37579d-64f1-4656-fade-85190072e4fc",
        "colab": {
          "base_uri": "https://localhost:8080/",
          "height": 409
        }
      },
      "source": [
        "df_2015.printSchema()"
      ],
      "execution_count": 0,
      "outputs": [
        {
          "output_type": "stream",
          "text": [
            "root\n",
            " |-- VendorID: string (nullable = true)\n",
            " |-- tpep_pickup_datetime: string (nullable = true)\n",
            " |-- tpep_dropoff_datetime: string (nullable = true)\n",
            " |-- passenger_count: string (nullable = true)\n",
            " |-- trip_distance: string (nullable = true)\n",
            " |-- pickup_longitude: string (nullable = true)\n",
            " |-- pickup_latitude: string (nullable = true)\n",
            " |-- RateCodeID: string (nullable = true)\n",
            " |-- store_and_fwd_flag: string (nullable = true)\n",
            " |-- dropoff_longitude: string (nullable = true)\n",
            " |-- dropoff_latitude: string (nullable = true)\n",
            " |-- payment_type: string (nullable = true)\n",
            " |-- fare_amount: string (nullable = true)\n",
            " |-- extra: string (nullable = true)\n",
            " |-- mta_tax: string (nullable = true)\n",
            " |-- tip_amount: string (nullable = true)\n",
            " |-- tolls_amount: string (nullable = true)\n",
            " |-- improvement_surcharge: string (nullable = true)\n",
            " |-- total_amount: string (nullable = true)\n",
            "\n"
          ],
          "name": "stdout"
        }
      ]
    },
    {
      "cell_type": "code",
      "metadata": {
        "id": "P0orMPFTCXg0",
        "colab_type": "code",
        "outputId": "d23b5ee4-a1ce-426a-ce77-b9f20b0768e3",
        "colab": {
          "base_uri": "https://localhost:8080/",
          "height": 372
        }
      },
      "source": [
        "df_2018.printSchema()"
      ],
      "execution_count": 0,
      "outputs": [
        {
          "output_type": "stream",
          "text": [
            "root\n",
            " |-- VendorID: string (nullable = true)\n",
            " |-- tpep_pickup_datetime: string (nullable = true)\n",
            " |-- tpep_dropoff_datetime: string (nullable = true)\n",
            " |-- passenger_count: string (nullable = true)\n",
            " |-- trip_distance: string (nullable = true)\n",
            " |-- RatecodeID: string (nullable = true)\n",
            " |-- store_and_fwd_flag: string (nullable = true)\n",
            " |-- PULocationID: string (nullable = true)\n",
            " |-- DOLocationID: string (nullable = true)\n",
            " |-- payment_type: string (nullable = true)\n",
            " |-- fare_amount: string (nullable = true)\n",
            " |-- extra: string (nullable = true)\n",
            " |-- mta_tax: string (nullable = true)\n",
            " |-- tip_amount: string (nullable = true)\n",
            " |-- tolls_amount: string (nullable = true)\n",
            " |-- improvement_surcharge: string (nullable = true)\n",
            " |-- total_amount: string (nullable = true)\n",
            "\n"
          ],
          "name": "stdout"
        }
      ]
    },
    {
      "cell_type": "markdown",
      "metadata": {
        "id": "Bo4wCe9gCq3d",
        "colab_type": "text"
      },
      "source": [
        "##3. Eventually correct the schema and read again the data.\n",
        "\n",
        "**Answer**: There are two ways to correct the schema. "
      ]
    },
    {
      "cell_type": "markdown",
      "metadata": {
        "id": "3vEhf2vjn5-J",
        "colab_type": "text"
      },
      "source": [
        "\n",
        "**1. While reading data, set inferSchema = True. It requires one extra pass over the data to get the input schema automatically from data.**\n"
      ]
    },
    {
      "cell_type": "code",
      "metadata": {
        "id": "HE4QsHcpj3RD",
        "colab_type": "code",
        "colab": {}
      },
      "source": [
        "# df_2015_inferred = spark.read.csv(\"file://\"+SparkFiles.get(\"yellow_tripdata_2015-01.csv\"), header=True, inferSchema = True)"
      ],
      "execution_count": 0,
      "outputs": []
    },
    {
      "cell_type": "code",
      "metadata": {
        "id": "cc6dGTBLj5OS",
        "colab_type": "code",
        "colab": {}
      },
      "source": [
        "# df_2018_inferred = spark.read.csv(\"file://\"+SparkFiles.get(\"yellow_tripdata_2018-01.csv\"), header=True, inferSchema = True)"
      ],
      "execution_count": 0,
      "outputs": []
    },
    {
      "cell_type": "code",
      "metadata": {
        "id": "vL-QN0CRlg7Q",
        "colab_type": "code",
        "outputId": "1eda13c8-01a9-4a78-d325-f73e8e82ba3e",
        "colab": {
          "base_uri": "https://localhost:8080/",
          "height": 766
        }
      },
      "source": [
        "# df_2015_inferred.printSchema()\n",
        "# df_2018_inferred.printSchema()"
      ],
      "execution_count": 0,
      "outputs": [
        {
          "output_type": "stream",
          "text": [
            "root\n",
            " |-- VendorID: integer (nullable = true)\n",
            " |-- tpep_pickup_datetime: timestamp (nullable = true)\n",
            " |-- tpep_dropoff_datetime: timestamp (nullable = true)\n",
            " |-- passenger_count: integer (nullable = true)\n",
            " |-- trip_distance: double (nullable = true)\n",
            " |-- pickup_longitude: double (nullable = true)\n",
            " |-- pickup_latitude: double (nullable = true)\n",
            " |-- RateCodeID: integer (nullable = true)\n",
            " |-- store_and_fwd_flag: string (nullable = true)\n",
            " |-- dropoff_longitude: double (nullable = true)\n",
            " |-- dropoff_latitude: double (nullable = true)\n",
            " |-- payment_type: integer (nullable = true)\n",
            " |-- fare_amount: double (nullable = true)\n",
            " |-- extra: double (nullable = true)\n",
            " |-- mta_tax: double (nullable = true)\n",
            " |-- tip_amount: double (nullable = true)\n",
            " |-- tolls_amount: double (nullable = true)\n",
            " |-- improvement_surcharge: double (nullable = true)\n",
            " |-- total_amount: double (nullable = true)\n",
            "\n",
            "root\n",
            " |-- VendorID: integer (nullable = true)\n",
            " |-- tpep_pickup_datetime: timestamp (nullable = true)\n",
            " |-- tpep_dropoff_datetime: timestamp (nullable = true)\n",
            " |-- passenger_count: integer (nullable = true)\n",
            " |-- trip_distance: double (nullable = true)\n",
            " |-- RatecodeID: integer (nullable = true)\n",
            " |-- store_and_fwd_flag: string (nullable = true)\n",
            " |-- PULocationID: integer (nullable = true)\n",
            " |-- DOLocationID: integer (nullable = true)\n",
            " |-- payment_type: integer (nullable = true)\n",
            " |-- fare_amount: double (nullable = true)\n",
            " |-- extra: double (nullable = true)\n",
            " |-- mta_tax: double (nullable = true)\n",
            " |-- tip_amount: double (nullable = true)\n",
            " |-- tolls_amount: double (nullable = true)\n",
            " |-- improvement_surcharge: double (nullable = true)\n",
            " |-- total_amount: double (nullable = true)\n",
            "\n"
          ],
          "name": "stdout"
        }
      ]
    },
    {
      "cell_type": "markdown",
      "metadata": {
        "id": "mDSckZEWoEmB",
        "colab_type": "text"
      },
      "source": [
        "**2. Force schema**"
      ]
    },
    {
      "cell_type": "code",
      "metadata": {
        "id": "IA7JnyMSlV7B",
        "colab_type": "code",
        "colab": {}
      },
      "source": [
        "schema_2015 = StructType([\n",
        "    StructField(\"VendorID\", IntegerType()),\n",
        "    StructField(\"tpep_pickup_datetime\", TimestampType()),\n",
        "    StructField(\"tpep_dropoff_datetime\", TimestampType()),\n",
        "    StructField(\"passenger_count\", IntegerType()),\n",
        "    StructField(\"trip_distance\", DoubleType()),\n",
        "    StructField(\"pickup_longitude\", DoubleType()),\n",
        "    StructField(\"pickup_latitude\", DoubleType()),\n",
        "    StructField(\"RateCodeID\", IntegerType()),\n",
        "    StructField(\"store_and_fwd_flag\", StringType()),\n",
        "    StructField(\"dropoff_longitude\", DoubleType()),\n",
        "    StructField(\"dropoff_latitude\", DoubleType()),\n",
        "    StructField(\"payment_type\", IntegerType()),\n",
        "    StructField(\"fare_amount\", DoubleType()),\n",
        "    StructField(\"extra\", DoubleType()),\n",
        "    StructField(\"mta_tax\", DoubleType()),\n",
        "    StructField(\"tip_amount\", DoubleType()),\n",
        "    StructField(\"tolls_amount\", DoubleType()),\n",
        "    StructField(\"improvement_surcharge\", DoubleType()),\n",
        "    StructField(\"total_amount\", DoubleType())\n",
        "])\n",
        "\n",
        "schema_2018 = StructType([\n",
        "    StructField(\"VendorID\", IntegerType()),\n",
        "    StructField(\"tpep_pickup_datetime\", TimestampType()),\n",
        "    StructField(\"tpep_dropoff_datetime\", TimestampType()),\n",
        "    StructField(\"passenger_count\", IntegerType()),\n",
        "    StructField(\"trip_distance\", DoubleType()),\n",
        "    StructField(\"RateCodeID\", IntegerType()),\n",
        "    StructField(\"store_and_fwd_flag\", StringType()),\n",
        "    StructField(\"PULocationID\", IntegerType()),\n",
        "    StructField(\"DOLocationID\", IntegerType()),\n",
        "    StructField(\"payment_type\", IntegerType()),\n",
        "    StructField(\"fare_amount\", DoubleType()),\n",
        "    StructField(\"extra\", DoubleType()),\n",
        "    StructField(\"mta_tax\", DoubleType()),\n",
        "    StructField(\"tip_amount\", DoubleType()),\n",
        "    StructField(\"tolls_amount\", DoubleType()),\n",
        "    StructField(\"improvement_surcharge\", DoubleType()),\n",
        "    StructField(\"total_amount\", DoubleType())\n",
        "])"
      ],
      "execution_count": 0,
      "outputs": []
    },
    {
      "cell_type": "code",
      "metadata": {
        "id": "Y7t7kWnalV-R",
        "colab_type": "code",
        "colab": {}
      },
      "source": [
        "url_2015 = \"https://s3.amazonaws.com/nyc-tlc/trip+data/yellow_tripdata_2015-05.csv\"\n",
        "spark.sparkContext.addFile(url_2015)\n",
        "df_2015_schema = spark.read.csv(\"file://\"+SparkFiles.get(\"yellow_tripdata_2015-05.csv\"), header=True, nullValue='NA', schema=schema_2015)"
      ],
      "execution_count": 0,
      "outputs": []
    },
    {
      "cell_type": "code",
      "metadata": {
        "id": "hw7Q4HjwNqUW",
        "colab_type": "code",
        "colab": {}
      },
      "source": [
        "url_2018 = \"https://s3.amazonaws.com/nyc-tlc/trip+data/yellow_tripdata_2018-05.csv\"\n",
        "spark.sparkContext.addFile(url_2018)\n",
        "df_2018_schema = spark.read.csv(\"file://\"+SparkFiles.get(\"yellow_tripdata_2018-05.csv\"), header=True, nullValue='NA', schema=schema_2018)"
      ],
      "execution_count": 0,
      "outputs": []
    },
    {
      "cell_type": "code",
      "metadata": {
        "id": "ZPrStFphyIHx",
        "colab_type": "code",
        "colab": {}
      },
      "source": [
        ""
      ],
      "execution_count": 0,
      "outputs": []
    },
    {
      "cell_type": "code",
      "metadata": {
        "id": "lFDi8P1LyILv",
        "colab_type": "code",
        "colab": {}
      },
      "source": [
        ""
      ],
      "execution_count": 0,
      "outputs": []
    },
    {
      "cell_type": "markdown",
      "metadata": {
        "id": "DL816nfeFunA",
        "colab_type": "text"
      },
      "source": [
        "## 4. Save the data into parquet files given number of partitions and partition column"
      ]
    },
    {
      "cell_type": "code",
      "metadata": {
        "id": "y_KOSdCiFu2r",
        "colab_type": "code",
        "colab": {}
      },
      "source": [
        "# df_2015_schema.repartition(1).write.partitionBy('VendorID').mode(\n",
        "# \"overwrite\").parquet(\"data/df_2015.parquet\")"
      ],
      "execution_count": 0,
      "outputs": []
    },
    {
      "cell_type": "code",
      "metadata": {
        "id": "2Jh_ZZLGyKsJ",
        "colab_type": "code",
        "outputId": "45aafcd1-3195-456f-9e84-ab5f3abb6a15",
        "colab": {
          "base_uri": "https://localhost:8080/",
          "height": 349
        }
      },
      "source": [
        "df_2015_schema.repartition(1).write.partitionBy('VendorID').mode(\n",
        "\"overwrite\").parquet(\"/content/gdrive/My Drive/data/df_2015.parquet\")"
      ],
      "execution_count": 0,
      "outputs": [
        {
          "output_type": "error",
          "ename": "KeyboardInterrupt",
          "evalue": "ignored",
          "traceback": [
            "\u001b[0;31m---------------------------------------------------------------------------\u001b[0m",
            "\u001b[0;31mKeyboardInterrupt\u001b[0m                         Traceback (most recent call last)",
            "\u001b[0;32m<ipython-input-23-a8e450fea9a9>\u001b[0m in \u001b[0;36m<module>\u001b[0;34m()\u001b[0m\n\u001b[1;32m      1\u001b[0m df_2015_schema.repartition(1).write.partitionBy('VendorID').mode(\n\u001b[0;32m----> 2\u001b[0;31m \"overwrite\").parquet(\"/content/gdrive/My Drive/data/df_2015.parquet\")\n\u001b[0m",
            "\u001b[0;32m/content/spark-2.3.4-bin-hadoop2.7/python/pyspark/sql/readwriter.py\u001b[0m in \u001b[0;36mparquet\u001b[0;34m(self, path, mode, partitionBy, compression)\u001b[0m\n\u001b[1;32m    802\u001b[0m             \u001b[0mself\u001b[0m\u001b[0;34m.\u001b[0m\u001b[0mpartitionBy\u001b[0m\u001b[0;34m(\u001b[0m\u001b[0mpartitionBy\u001b[0m\u001b[0;34m)\u001b[0m\u001b[0;34m\u001b[0m\u001b[0;34m\u001b[0m\u001b[0m\n\u001b[1;32m    803\u001b[0m         \u001b[0mself\u001b[0m\u001b[0;34m.\u001b[0m\u001b[0m_set_opts\u001b[0m\u001b[0;34m(\u001b[0m\u001b[0mcompression\u001b[0m\u001b[0;34m=\u001b[0m\u001b[0mcompression\u001b[0m\u001b[0;34m)\u001b[0m\u001b[0;34m\u001b[0m\u001b[0;34m\u001b[0m\u001b[0m\n\u001b[0;32m--> 804\u001b[0;31m         \u001b[0mself\u001b[0m\u001b[0;34m.\u001b[0m\u001b[0m_jwrite\u001b[0m\u001b[0;34m.\u001b[0m\u001b[0mparquet\u001b[0m\u001b[0;34m(\u001b[0m\u001b[0mpath\u001b[0m\u001b[0;34m)\u001b[0m\u001b[0;34m\u001b[0m\u001b[0;34m\u001b[0m\u001b[0m\n\u001b[0m\u001b[1;32m    805\u001b[0m \u001b[0;34m\u001b[0m\u001b[0m\n\u001b[1;32m    806\u001b[0m     \u001b[0;34m@\u001b[0m\u001b[0msince\u001b[0m\u001b[0;34m(\u001b[0m\u001b[0;36m1.6\u001b[0m\u001b[0;34m)\u001b[0m\u001b[0;34m\u001b[0m\u001b[0;34m\u001b[0m\u001b[0m\n",
            "\u001b[0;32m/content/spark-2.3.4-bin-hadoop2.7/python/lib/py4j-0.10.7-src.zip/py4j/java_gateway.py\u001b[0m in \u001b[0;36m__call__\u001b[0;34m(self, *args)\u001b[0m\n\u001b[1;32m   1253\u001b[0m             \u001b[0mproto\u001b[0m\u001b[0;34m.\u001b[0m\u001b[0mEND_COMMAND_PART\u001b[0m\u001b[0;34m\u001b[0m\u001b[0;34m\u001b[0m\u001b[0m\n\u001b[1;32m   1254\u001b[0m \u001b[0;34m\u001b[0m\u001b[0m\n\u001b[0;32m-> 1255\u001b[0;31m         \u001b[0manswer\u001b[0m \u001b[0;34m=\u001b[0m \u001b[0mself\u001b[0m\u001b[0;34m.\u001b[0m\u001b[0mgateway_client\u001b[0m\u001b[0;34m.\u001b[0m\u001b[0msend_command\u001b[0m\u001b[0;34m(\u001b[0m\u001b[0mcommand\u001b[0m\u001b[0;34m)\u001b[0m\u001b[0;34m\u001b[0m\u001b[0;34m\u001b[0m\u001b[0m\n\u001b[0m\u001b[1;32m   1256\u001b[0m         return_value = get_return_value(\n\u001b[1;32m   1257\u001b[0m             answer, self.gateway_client, self.target_id, self.name)\n",
            "\u001b[0;32m/content/spark-2.3.4-bin-hadoop2.7/python/lib/py4j-0.10.7-src.zip/py4j/java_gateway.py\u001b[0m in \u001b[0;36msend_command\u001b[0;34m(self, command, retry, binary)\u001b[0m\n\u001b[1;32m    983\u001b[0m         \u001b[0mconnection\u001b[0m \u001b[0;34m=\u001b[0m \u001b[0mself\u001b[0m\u001b[0;34m.\u001b[0m\u001b[0m_get_connection\u001b[0m\u001b[0;34m(\u001b[0m\u001b[0;34m)\u001b[0m\u001b[0;34m\u001b[0m\u001b[0;34m\u001b[0m\u001b[0m\n\u001b[1;32m    984\u001b[0m         \u001b[0;32mtry\u001b[0m\u001b[0;34m:\u001b[0m\u001b[0;34m\u001b[0m\u001b[0;34m\u001b[0m\u001b[0m\n\u001b[0;32m--> 985\u001b[0;31m             \u001b[0mresponse\u001b[0m \u001b[0;34m=\u001b[0m \u001b[0mconnection\u001b[0m\u001b[0;34m.\u001b[0m\u001b[0msend_command\u001b[0m\u001b[0;34m(\u001b[0m\u001b[0mcommand\u001b[0m\u001b[0;34m)\u001b[0m\u001b[0;34m\u001b[0m\u001b[0;34m\u001b[0m\u001b[0m\n\u001b[0m\u001b[1;32m    986\u001b[0m             \u001b[0;32mif\u001b[0m \u001b[0mbinary\u001b[0m\u001b[0;34m:\u001b[0m\u001b[0;34m\u001b[0m\u001b[0;34m\u001b[0m\u001b[0m\n\u001b[1;32m    987\u001b[0m                 \u001b[0;32mreturn\u001b[0m \u001b[0mresponse\u001b[0m\u001b[0;34m,\u001b[0m \u001b[0mself\u001b[0m\u001b[0;34m.\u001b[0m\u001b[0m_create_connection_guard\u001b[0m\u001b[0;34m(\u001b[0m\u001b[0mconnection\u001b[0m\u001b[0;34m)\u001b[0m\u001b[0;34m\u001b[0m\u001b[0;34m\u001b[0m\u001b[0m\n",
            "\u001b[0;32m/content/spark-2.3.4-bin-hadoop2.7/python/lib/py4j-0.10.7-src.zip/py4j/java_gateway.py\u001b[0m in \u001b[0;36msend_command\u001b[0;34m(self, command)\u001b[0m\n\u001b[1;32m   1150\u001b[0m \u001b[0;34m\u001b[0m\u001b[0m\n\u001b[1;32m   1151\u001b[0m         \u001b[0;32mtry\u001b[0m\u001b[0;34m:\u001b[0m\u001b[0;34m\u001b[0m\u001b[0;34m\u001b[0m\u001b[0m\n\u001b[0;32m-> 1152\u001b[0;31m             \u001b[0manswer\u001b[0m \u001b[0;34m=\u001b[0m \u001b[0msmart_decode\u001b[0m\u001b[0;34m(\u001b[0m\u001b[0mself\u001b[0m\u001b[0;34m.\u001b[0m\u001b[0mstream\u001b[0m\u001b[0;34m.\u001b[0m\u001b[0mreadline\u001b[0m\u001b[0;34m(\u001b[0m\u001b[0;34m)\u001b[0m\u001b[0;34m[\u001b[0m\u001b[0;34m:\u001b[0m\u001b[0;34m-\u001b[0m\u001b[0;36m1\u001b[0m\u001b[0;34m]\u001b[0m\u001b[0;34m)\u001b[0m\u001b[0;34m\u001b[0m\u001b[0;34m\u001b[0m\u001b[0m\n\u001b[0m\u001b[1;32m   1153\u001b[0m             \u001b[0mlogger\u001b[0m\u001b[0;34m.\u001b[0m\u001b[0mdebug\u001b[0m\u001b[0;34m(\u001b[0m\u001b[0;34m\"Answer received: {0}\"\u001b[0m\u001b[0;34m.\u001b[0m\u001b[0mformat\u001b[0m\u001b[0;34m(\u001b[0m\u001b[0manswer\u001b[0m\u001b[0;34m)\u001b[0m\u001b[0;34m)\u001b[0m\u001b[0;34m\u001b[0m\u001b[0;34m\u001b[0m\u001b[0m\n\u001b[1;32m   1154\u001b[0m             \u001b[0;32mif\u001b[0m \u001b[0manswer\u001b[0m\u001b[0;34m.\u001b[0m\u001b[0mstartswith\u001b[0m\u001b[0;34m(\u001b[0m\u001b[0mproto\u001b[0m\u001b[0;34m.\u001b[0m\u001b[0mRETURN_MESSAGE\u001b[0m\u001b[0;34m)\u001b[0m\u001b[0;34m:\u001b[0m\u001b[0;34m\u001b[0m\u001b[0;34m\u001b[0m\u001b[0m\n",
            "\u001b[0;32m/usr/lib/python3.6/socket.py\u001b[0m in \u001b[0;36mreadinto\u001b[0;34m(self, b)\u001b[0m\n\u001b[1;32m    584\u001b[0m         \u001b[0;32mwhile\u001b[0m \u001b[0;32mTrue\u001b[0m\u001b[0;34m:\u001b[0m\u001b[0;34m\u001b[0m\u001b[0;34m\u001b[0m\u001b[0m\n\u001b[1;32m    585\u001b[0m             \u001b[0;32mtry\u001b[0m\u001b[0;34m:\u001b[0m\u001b[0;34m\u001b[0m\u001b[0;34m\u001b[0m\u001b[0m\n\u001b[0;32m--> 586\u001b[0;31m                 \u001b[0;32mreturn\u001b[0m \u001b[0mself\u001b[0m\u001b[0;34m.\u001b[0m\u001b[0m_sock\u001b[0m\u001b[0;34m.\u001b[0m\u001b[0mrecv_into\u001b[0m\u001b[0;34m(\u001b[0m\u001b[0mb\u001b[0m\u001b[0;34m)\u001b[0m\u001b[0;34m\u001b[0m\u001b[0;34m\u001b[0m\u001b[0m\n\u001b[0m\u001b[1;32m    587\u001b[0m             \u001b[0;32mexcept\u001b[0m \u001b[0mtimeout\u001b[0m\u001b[0;34m:\u001b[0m\u001b[0;34m\u001b[0m\u001b[0;34m\u001b[0m\u001b[0m\n\u001b[1;32m    588\u001b[0m                 \u001b[0mself\u001b[0m\u001b[0;34m.\u001b[0m\u001b[0m_timeout_occurred\u001b[0m \u001b[0;34m=\u001b[0m \u001b[0;32mTrue\u001b[0m\u001b[0;34m\u001b[0m\u001b[0;34m\u001b[0m\u001b[0m\n",
            "\u001b[0;31mKeyboardInterrupt\u001b[0m: "
          ]
        }
      ]
    },
    {
      "cell_type": "code",
      "metadata": {
        "id": "UxzyTjNX22Z9",
        "colab_type": "code",
        "colab": {}
      },
      "source": [
        ""
      ],
      "execution_count": 0,
      "outputs": []
    },
    {
      "cell_type": "code",
      "metadata": {
        "id": "UyZebbA8F0HK",
        "colab_type": "code",
        "colab": {}
      },
      "source": [
        "df_2018_schema.repartition(1).write.partitionBy('VendorID').mode(\n",
        "\"overwrite\").parquet(\"data/df_2018.parquet\")"
      ],
      "execution_count": 0,
      "outputs": []
    },
    {
      "cell_type": "code",
      "metadata": {
        "id": "og8LTXYYyVbP",
        "colab_type": "code",
        "colab": {}
      },
      "source": [
        "df_2015_schema=None\n",
        "df_2018_schema=None\n"
      ],
      "execution_count": 0,
      "outputs": []
    },
    {
      "cell_type": "code",
      "metadata": {
        "id": "SOJ-WeHzomhv",
        "colab_type": "code",
        "colab": {}
      },
      "source": [
        "# import gc\n",
        "# collected = gc.collect()\n",
        "# print(\"Garbage collector: collected %d objects.\",collected)"
      ],
      "execution_count": 0,
      "outputs": []
    },
    {
      "cell_type": "markdown",
      "metadata": {
        "id": "mmd0vpCoEvqq",
        "colab_type": "text"
      },
      "source": [
        "##Part-II\n",
        "**1. What is the StorageLevel of the dataframe after reading the csv files?**\n",
        "\n",
        "**Answer:** df.storageLevel(useDisk, useMemory, useOffHeap, deserialized, replication)"
      ]
    },
    {
      "cell_type": "code",
      "metadata": {
        "id": "QMlEIJtGrlrt",
        "colab_type": "code",
        "colab": {}
      },
      "source": [
        ""
      ],
      "execution_count": 0,
      "outputs": []
    },
    {
      "cell_type": "code",
      "metadata": {
        "id": "r3gdvBYZvirW",
        "colab_type": "code",
        "outputId": "c3715780-7da0-4584-c0a1-1b994576baa7",
        "colab": {
          "base_uri": "https://localhost:8080/",
          "height": 36
        }
      },
      "source": [
        "df_2015.storageLevel"
      ],
      "execution_count": 0,
      "outputs": [
        {
          "output_type": "execute_result",
          "data": {
            "text/plain": [
              "StorageLevel(False, False, False, False, 1)"
            ]
          },
          "metadata": {
            "tags": []
          },
          "execution_count": 15
        }
      ]
    },
    {
      "cell_type": "code",
      "metadata": {
        "id": "29DFTKJIE4H5",
        "colab_type": "code",
        "outputId": "7f414891-1990-4b6a-c673-5f76810f512f",
        "colab": {
          "base_uri": "https://localhost:8080/",
          "height": 36
        }
      },
      "source": [
        "df_2018.storageLevel"
      ],
      "execution_count": 0,
      "outputs": [
        {
          "output_type": "execute_result",
          "data": {
            "text/plain": [
              "StorageLevel(False, False, False, False, 1)"
            ]
          },
          "metadata": {
            "tags": []
          },
          "execution_count": 16
        }
      ]
    },
    {
      "cell_type": "markdown",
      "metadata": {
        "id": "oQ9TU4JmE8JY",
        "colab_type": "text"
      },
      "source": [
        "**2. What is the number of partitions of the dataframe?**\n",
        "\n",
        "**Answer:**"
      ]
    },
    {
      "cell_type": "code",
      "metadata": {
        "id": "EBsivIIouDub",
        "colab_type": "code",
        "outputId": "baf770c5-f095-4315-8a23-e2ff0b4df2a7",
        "colab": {
          "base_uri": "https://localhost:8080/",
          "height": 36
        }
      },
      "source": [
        "df_2015.rdd.getNumPartitions()"
      ],
      "execution_count": 0,
      "outputs": [
        {
          "output_type": "execute_result",
          "data": {
            "text/plain": [
              "15"
            ]
          },
          "metadata": {
            "tags": []
          },
          "execution_count": 17
        }
      ]
    },
    {
      "cell_type": "code",
      "metadata": {
        "id": "I__ltdcdFAyg",
        "colab_type": "code",
        "outputId": "41260b14-0d5e-4d5c-e039-839bfb84cd5b",
        "colab": {
          "base_uri": "https://localhost:8080/",
          "height": 36
        }
      },
      "source": [
        "df_2018.rdd.getNumPartitions()"
      ],
      "execution_count": 0,
      "outputs": [
        {
          "output_type": "execute_result",
          "data": {
            "text/plain": [
              "6"
            ]
          },
          "metadata": {
            "tags": []
          },
          "execution_count": 18
        }
      ]
    },
    {
      "cell_type": "markdown",
      "metadata": {
        "id": "oaH-28PLFFN9",
        "colab_type": "text"
      },
      "source": [
        "**3.Is it possible to tune this number at loading time?**\n",
        "\n",
        "**Answer:** Yes, we can tune the number of partitions at loading time with coalesce(n)."
      ]
    },
    {
      "cell_type": "code",
      "metadata": {
        "id": "qdrbFSLXvdLr",
        "colab_type": "code",
        "colab": {}
      },
      "source": [
        "df_2015_tuned = spark.read.csv(\"file://\"+SparkFiles.get(\"yellow_tripdata_2015-01.csv\"), header=True, nullValue='NA', schema=schema_2015).coalesce(10)\n"
      ],
      "execution_count": 0,
      "outputs": []
    },
    {
      "cell_type": "code",
      "metadata": {
        "id": "XkBV5WKNx5Wp",
        "colab_type": "code",
        "colab": {}
      },
      "source": [
        "df_2018_tuned = spark.read.csv(\"file://\"+SparkFiles.get(\"yellow_tripdata_2018-01.csv\"), header=True, nullValue='NA', schema=schema_2018).coalesce(3)\n"
      ],
      "execution_count": 0,
      "outputs": []
    },
    {
      "cell_type": "code",
      "metadata": {
        "id": "izVpKNTGvdOi",
        "colab_type": "code",
        "outputId": "be0f6174-0e68-4245-d0f0-50a234c39848",
        "colab": {
          "base_uri": "https://localhost:8080/",
          "height": 36
        }
      },
      "source": [
        "df_2015_tuned.rdd.getNumPartitions()"
      ],
      "execution_count": 0,
      "outputs": [
        {
          "output_type": "execute_result",
          "data": {
            "text/plain": [
              "10"
            ]
          },
          "metadata": {
            "tags": []
          },
          "execution_count": 23
        }
      ]
    },
    {
      "cell_type": "code",
      "metadata": {
        "id": "8QkH6flLyOLl",
        "colab_type": "code",
        "outputId": "24afe285-4dd8-46d7-c5d8-267769a451db",
        "colab": {
          "base_uri": "https://localhost:8080/",
          "height": 36
        }
      },
      "source": [
        "df_2018_tuned.rdd.getNumPartitions()"
      ],
      "execution_count": 0,
      "outputs": [
        {
          "output_type": "execute_result",
          "data": {
            "text/plain": [
              "3"
            ]
          },
          "metadata": {
            "tags": []
          },
          "execution_count": 24
        }
      ]
    },
    {
      "cell_type": "markdown",
      "metadata": {
        "id": "xyfeImUAFXgb",
        "colab_type": "text"
      },
      "source": [
        "**4. Why would we want to modify the number of partitions when creating the parquet files?**\n",
        "\n",
        "**Answer:** Becaue we want to utilize the distributive power of Spark and process data efficiently."
      ]
    },
    {
      "cell_type": "markdown",
      "metadata": {
        "id": "3u2kNw8CWw9d",
        "colab_type": "text"
      },
      "source": [
        "#3. Investigate (at least) one month of data in 2015\n",
        "The following longitudes and lattitudes encompass Newark and JFK airports, Northern Manhattanand Verazzano bridge"
      ]
    },
    {
      "cell_type": "markdown",
      "metadata": {
        "id": "YG3J8ZCgb9uy",
        "colab_type": "text"
      },
      "source": [
        "**Read parquet files**"
      ]
    },
    {
      "cell_type": "code",
      "metadata": {
        "id": "1WGpq6YGcBzd",
        "colab_type": "code",
        "colab": {}
      },
      "source": [
        "parque_2015_df = spark.read.option(\"mergeSchema\", \"true\").parquet(\"data/df_2015.parquet\")"
      ],
      "execution_count": 0,
      "outputs": []
    },
    {
      "cell_type": "code",
      "metadata": {
        "id": "5Pp2BheHdQ6U",
        "colab_type": "code",
        "outputId": "943a6235-61ca-44ef-ca69-8a4d7c313833",
        "colab": {
          "base_uri": "https://localhost:8080/",
          "height": 187
        }
      },
      "source": [
        "parque_2015_df.show(2)"
      ],
      "execution_count": 0,
      "outputs": [
        {
          "output_type": "stream",
          "text": [
            "+--------------------+---------------------+---------------+-------------+------------------+------------------+----------+------------------+------------------+------------------+------------+-----------+-----+-------+----------+------------+---------------------+------------+--------+\n",
            "|tpep_pickup_datetime|tpep_dropoff_datetime|passenger_count|trip_distance|  pickup_longitude|   pickup_latitude|RateCodeID|store_and_fwd_flag| dropoff_longitude|  dropoff_latitude|payment_type|fare_amount|extra|mta_tax|tip_amount|tolls_amount|improvement_surcharge|total_amount|VendorID|\n",
            "+--------------------+---------------------+---------------+-------------+------------------+------------------+----------+------------------+------------------+------------------+------------+-----------+-----+-------+----------+------------+---------------------+------------+--------+\n",
            "| 2015-05-05 23:37:40|  2015-05-05 23:40:36|              1|         0.54|-73.93083953857422|40.744789123535156|         1|                 N|-73.93751525878906|40.749359130859375|           2|        4.5|  0.5|    0.5|       0.0|         0.0|                  0.3|         5.8|       2|\n",
            "| 2015-05-05 23:37:40|  2015-05-05 23:44:03|              3|          2.1|-74.00141143798828| 40.73108673095703|         1|                 N|-73.98167419433594| 40.75828170776367|           2|        8.0|  0.5|    0.5|       0.0|         0.0|                  0.3|         9.3|       2|\n",
            "+--------------------+---------------------+---------------+-------------+------------------+------------------+----------+------------------+------------------+------------------+------------+-----------+-----+-------+----------+------------+---------------------+------------+--------+\n",
            "only showing top 2 rows\n",
            "\n"
          ],
          "name": "stdout"
        }
      ]
    },
    {
      "cell_type": "code",
      "metadata": {
        "id": "ZRcJSIk0GiW2",
        "colab_type": "code",
        "colab": {}
      },
      "source": [
        "long_min=-74.10\n",
        "long_max=-73.70\n",
        "lat_min=40.58\n",
        "lat_max=40.90"
      ],
      "execution_count": 0,
      "outputs": []
    },
    {
      "cell_type": "markdown",
      "metadata": {
        "id": "n1DHn1pmBvOB",
        "colab_type": "text"
      },
      "source": [
        "Using these boundaries,filter the 2015 data(using pickup and dropoff longitude andlatitude) and count the number of trips for each value of passenger_count and make a plot of that."
      ]
    },
    {
      "cell_type": "code",
      "metadata": {
        "id": "gKAwHALgW2ZO",
        "colab_type": "code",
        "colab": {}
      },
      "source": [
        "filtered_df = parque_2015_df.filter( \n",
        "    (func.round(col('pickup_longitude'),2)>= long_min) & \n",
        "    (func.round(col('pickup_longitude'),2)<= long_max ) &\n",
        "    (func.round(col('pickup_latitude'),2)>= lat_min ) & \n",
        "    (func.round(col('pickup_latitude'),2)<=  lat_max) &\n",
        "    (func.round(col('dropoff_longitude'),2)>= long_min) & \n",
        "    (func.round(col('dropoff_longitude'),2)<= long_max ) &\n",
        "    (func.round(col('dropoff_latitude'),2)>= lat_min ) & \n",
        "    (func.round(col('dropoff_latitude'),2)<=  lat_max) \n",
        "    )"
      ],
      "execution_count": 0,
      "outputs": []
    },
    {
      "cell_type": "code",
      "metadata": {
        "id": "40blpKi1b8s8",
        "colab_type": "code",
        "outputId": "1be105c1-8978-43ce-80d7-7e6c10badacf",
        "colab": {
          "base_uri": "https://localhost:8080/",
          "height": 36
        }
      },
      "source": [
        "filtered_df.count()"
      ],
      "execution_count": 0,
      "outputs": [
        {
          "output_type": "execute_result",
          "data": {
            "text/plain": [
              "12896295"
            ]
          },
          "metadata": {
            "tags": []
          },
          "execution_count": 34
        }
      ]
    },
    {
      "cell_type": "code",
      "metadata": {
        "id": "ArkWEDjZe_jR",
        "colab_type": "code",
        "colab": {}
      },
      "source": [
        "passenger_grouped = filtered_df.groupBy('passenger_count').count()"
      ],
      "execution_count": 0,
      "outputs": []
    },
    {
      "cell_type": "code",
      "metadata": {
        "id": "_L_Ctzr7iaR3",
        "colab_type": "code",
        "outputId": "c00f132e-47fd-423f-9b0c-369e29afcb1b",
        "colab": {
          "base_uri": "https://localhost:8080/",
          "height": 298
        }
      },
      "source": [
        "passenger_grouped.show()"
      ],
      "execution_count": 0,
      "outputs": [
        {
          "output_type": "stream",
          "text": [
            "+---------------+-------+\n",
            "|passenger_count|  count|\n",
            "+---------------+-------+\n",
            "|              1|9038276|\n",
            "|              6| 465291|\n",
            "|              3| 553508|\n",
            "|              5| 701952|\n",
            "|              9|      5|\n",
            "|              4| 261812|\n",
            "|              8|      6|\n",
            "|              7|     10|\n",
            "|              2|1872418|\n",
            "|              0|   3017|\n",
            "+---------------+-------+\n",
            "\n"
          ],
          "name": "stdout"
        }
      ]
    },
    {
      "cell_type": "code",
      "metadata": {
        "id": "bdqrByd0lMdb",
        "colab_type": "code",
        "outputId": "8020b46c-f5ae-427c-cf5a-1ff33f4b3af9",
        "colab": {
          "base_uri": "https://localhost:8080/",
          "height": 292
        }
      },
      "source": [
        "group_df = passenger_grouped.toPandas()\n",
        "ax = group_df.plot(kind='bar',x='passenger_count',y='count', title = 'No of trips for each value of passenger_count ') \n",
        "ax.set_xlabel(\"Passenger Count\")\n",
        "ax.set_ylabel(\"No of trips\")\n",
        "plt.show()"
      ],
      "execution_count": 0,
      "outputs": [
        {
          "output_type": "display_data",
          "data": {
            "image/png": "[encoded data removed]",
            "text/plain": [
              "<Figure size 432x288 with 1 Axes>"
            ]
          },
          "metadata": {
            "tags": [],
            "needs_background": "light"
          }
        }
      ]
    },
    {
      "cell_type": "markdown",
      "metadata": {
        "id": "sC23JfpjCsSG",
        "colab_type": "text"
      },
      "source": [
        "**1.What’s special with trips with zero passengers**\n",
        "\n",
        "These trips do not have anything worth analysing. These trips have mostly 0 trip distance and were charged for that. It means these trips may either be mistakenly booked by the customer or made by the capton to complete his rides.\n"
      ]
    },
    {
      "cell_type": "code",
      "metadata": {
        "id": "2ExebPe8Cs5X",
        "colab_type": "code",
        "colab": {}
      },
      "source": [
        "trips_0 = filtered_df.filter(col('passenger_count')==0)"
      ],
      "execution_count": 0,
      "outputs": []
    },
    {
      "cell_type": "code",
      "metadata": {
        "id": "4XoNt7MIgiRH",
        "colab_type": "code",
        "colab": {}
      },
      "source": [
        "trips_0.show()"
      ],
      "execution_count": 0,
      "outputs": []
    },
    {
      "cell_type": "markdown",
      "metadata": {
        "id": "CP1gMk1OCv3l",
        "colab_type": "text"
      },
      "source": [
        "2.What’s special with trips with more than 6 passengers?\n",
        "\n",
        "There are only 21 trips, which is not significant among the total trips. Trip distance is mostly zero. These trips are outliers and may not add anything to our anlysis. \n",
        "\n"
      ]
    },
    {
      "cell_type": "code",
      "metadata": {
        "id": "aHCFIhI1C1Xw",
        "colab_type": "code",
        "colab": {}
      },
      "source": [
        "trips_6 = filtered_df.filter(col('passenger_count')>6)"
      ],
      "execution_count": 0,
      "outputs": []
    },
    {
      "cell_type": "code",
      "metadata": {
        "id": "BxLcE8eQw4U9",
        "colab_type": "code",
        "colab": {}
      },
      "source": [
        "trips_6.show()"
      ],
      "execution_count": 0,
      "outputs": []
    },
    {
      "cell_type": "markdown",
      "metadata": {
        "id": "IVz0SCVpC3ti",
        "colab_type": "text"
      },
      "source": [
        "3.What is the largest distance travelled during this month? Is it the first taxi on the moon?"
      ]
    },
    {
      "cell_type": "code",
      "metadata": {
        "id": "QrwUgRFpC4J6",
        "colab_type": "code",
        "colab": {}
      },
      "source": [
        "max_dist = filtered_df.agg({\"trip_distance\": \"max\"}).collect()"
      ],
      "execution_count": 0,
      "outputs": []
    },
    {
      "cell_type": "code",
      "metadata": {
        "id": "xLRpm9_bxk1Z",
        "colab_type": "code",
        "colab": {}
      },
      "source": [
        "print('Max distance travelled OMG =D : ', max_dist[0][0])"
      ],
      "execution_count": 0,
      "outputs": []
    },
    {
      "cell_type": "code",
      "metadata": {
        "id": "ddto9xVkDl-Z",
        "colab_type": "code",
        "colab": {}
      },
      "source": [
        "filtered_df.filter(col('trip_distance')==15700000.0).show()"
      ],
      "execution_count": 0,
      "outputs": []
    },
    {
      "cell_type": "markdown",
      "metadata": {
        "id": "6qTurQcOC7-V",
        "colab_type": "text"
      },
      "source": [
        "4.Plot the distribution of the trip_distance(using an histogram for instance) during year 2105. Focus on trips with non-zero trip distance and trip distance less than 30 miles."
      ]
    },
    {
      "cell_type": "code",
      "metadata": {
        "id": "jHxbHrnyGiwl",
        "colab_type": "code",
        "colab": {}
      },
      "source": [
        "# parque_2015_df = spark.read.option(\"mergeSchema\", \"true\").parquet(\"data/df_2015.parquet\")\n",
        "df_dist = pq.read_pandas('data/df_2015.parquet', columns=['trip_distance']).to_pandas()\n",
        "filtered_dist = df_dist[(df_dist['trip_distance']>0)&(df_dist['trip_distance']<30) ]"
      ],
      "execution_count": 0,
      "outputs": []
    },
    {
      "cell_type": "code",
      "metadata": {
        "id": "MDgvmEuvN7U_",
        "colab_type": "code",
        "colab": {}
      },
      "source": [
        "plt.ticklabel_format(style = 'plain')\n",
        "plt.hist(filtered_dist['trip_distance'], bins=[0,5,10,15,20,25,30])\n",
        "plt.ylabel('Count of Trip Distances')\n",
        "plt.xlabel('Trip Distance')\n",
        "plt.title('Histogram of Trip Distances')\n",
        "plt.show()\n"
      ],
      "execution_count": 0,
      "outputs": []
    },
    {
      "cell_type": "markdown",
      "metadata": {
        "id": "BOMgrYmnmUSl",
        "colab_type": "text"
      },
      "source": [
        "# Let’s look at what Spark does for these computations\n",
        "\n",
        "1.Use the explain method or have a look at the Spark UIto analyze the job. You should be able to assess \n",
        "- Parsed Logical Plan\n",
        "- Analyzed Logical Plan\n",
        "- Optimized Logical Plan\n",
        "- Physical Plan\n"
      ]
    },
    {
      "cell_type": "code",
      "metadata": {
        "id": "gO8hr9QhmYSi",
        "colab_type": "code",
        "colab": {}
      },
      "source": [
        ""
      ],
      "execution_count": 0,
      "outputs": []
    },
    {
      "cell_type": "markdown",
      "metadata": {
        "id": "XkKbwTcgmwF4",
        "colab_type": "text"
      },
      "source": [
        "2.Do the Analyzed Logical Plan and Optimized Logical Plan differ? Spot the differences if any.How would a RDBMS proceed with such a query?"
      ]
    },
    {
      "cell_type": "code",
      "metadata": {
        "id": "SqnPvMDemxLa",
        "colab_type": "code",
        "colab": {}
      },
      "source": [
        ""
      ],
      "execution_count": 0,
      "outputs": []
    },
    {
      "cell_type": "markdown",
      "metadata": {
        "id": "wmkZoheAmxzB",
        "colab_type": "text"
      },
      "source": [
        "3.How does the physical plan differ from the Optimized Logical Plan? What are the keywordsyou would not expects in a RDBMS? What is their meaning?"
      ]
    },
    {
      "cell_type": "code",
      "metadata": {
        "id": "0RupaEm1m0j2",
        "colab_type": "code",
        "colab": {}
      },
      "source": [
        ""
      ],
      "execution_count": 0,
      "outputs": []
    },
    {
      "cell_type": "markdown",
      "metadata": {
        "id": "P3nEqb91m1_6",
        "colab_type": "text"
      },
      "source": [
        "4.Inspect the stages on Spark UI. How many stages are necessary to complete the Spark job? What are the roles of HashAggregate and Exchange hashpartitioning?"
      ]
    },
    {
      "cell_type": "code",
      "metadata": {
        "id": "QE6ARHzkm4It",
        "colab_type": "code",
        "colab": {}
      },
      "source": [
        ""
      ],
      "execution_count": 0,
      "outputs": []
    },
    {
      "cell_type": "markdown",
      "metadata": {
        "id": "pfSibASnnDa6",
        "colab_type": "text"
      },
      "source": [
        "5.Does the physical plan performshuffleoperations? If yes how many?"
      ]
    },
    {
      "cell_type": "code",
      "metadata": {
        "id": "5hKc1AfYnDsY",
        "colab_type": "code",
        "colab": {}
      },
      "source": [
        ""
      ],
      "execution_count": 0,
      "outputs": []
    },
    {
      "cell_type": "markdown",
      "metadata": {
        "id": "dNgdH8LTnGGm",
        "colab_type": "text"
      },
      "source": [
        "6.What are tasks with respect to stages (in Spark language)? How many tasks are your stagesmade of?"
      ]
    },
    {
      "cell_type": "code",
      "metadata": {
        "id": "ZnLpIUZfnGWx",
        "colab_type": "code",
        "colab": {}
      },
      "source": [
        ""
      ],
      "execution_count": 0,
      "outputs": []
    },
    {
      "cell_type": "markdown",
      "metadata": {
        "id": "OTjVErAznW4A",
        "colab_type": "text"
      },
      "source": [
        "**Now, compute the following and produce relevant plots:**\n",
        "\n",
        "1.Break down the trip distance distribution for each day of week"
      ]
    },
    {
      "cell_type": "code",
      "metadata": {
        "id": "XwqUHqkKnYuG",
        "colab_type": "code",
        "colab": {}
      },
      "source": [
        ""
      ],
      "execution_count": 0,
      "outputs": []
    },
    {
      "cell_type": "markdown",
      "metadata": {
        "id": "hIBmLItmnfRR",
        "colab_type": "text"
      },
      "source": [
        "2.Count the number of distinct pickup location"
      ]
    },
    {
      "cell_type": "code",
      "metadata": {
        "id": "ntFNjyp7nflf",
        "colab_type": "code",
        "colab": {}
      },
      "source": [
        ""
      ],
      "execution_count": 0,
      "outputs": []
    },
    {
      "cell_type": "markdown",
      "metadata": {
        "id": "7XBZkH3Rnhsb",
        "colab_type": "text"
      },
      "source": [
        "3.Compute and display tips and profits as a function of the pickup location"
      ]
    },
    {
      "cell_type": "code",
      "metadata": {
        "id": "WB0nZ_YNnh9o",
        "colab_type": "code",
        "colab": {}
      },
      "source": [
        ""
      ],
      "execution_count": 0,
      "outputs": []
    },
    {
      "cell_type": "markdown",
      "metadata": {
        "id": "EHg-CxBinj6Y",
        "colab_type": "text"
      },
      "source": [
        "#4  Investigate one month of trips data in 2015 and 2018\n",
        "\n",
        "\n",
        "Consider one month of trips data from yellow taxis for each year\n",
        "\n",
        "1. Filter and cache/persist the result"
      ]
    },
    {
      "cell_type": "code",
      "metadata": {
        "id": "zNJkXYMSVPEs",
        "colab_type": "code",
        "colab": {}
      },
      "source": [
        "def get_lat_lon(sf):\n",
        "    content = []\n",
        "    for sr in sf.shapeRecords():\n",
        "        shape = sr.shape\n",
        "        rec = sr.record\n",
        "        loc_id = rec[shp_dic['LocationID']]\n",
        "        \n",
        "        x = (shape.bbox[0]+shape.bbox[2])/2\n",
        "        y = (shape.bbox[1]+shape.bbox[3])/2\n",
        "        \n",
        "        content.append((loc_id, x, y))\n",
        "    return pd.DataFrame(content, columns=[\"LocationID\", \"longitude\", \"latitude\"])\n",
        "\n",
        "sf = shapefile.Reader(\"taxi_zones.shp\")\n",
        "fields_name = [field[0] for field in sf.fields[1:]]\n",
        "shp_dic = dict(zip(fields_name, list(range(len(fields_name)))))\n",
        "attributes = sf.records()\n",
        "shp_attr = [dict(zip(fields_name, attr)) for attr in attributes]\n",
        "\n",
        "df_loc = pd.DataFrame(shp_attr).join(get_lat_lon(sf).set_index(\"LocationID\"), on=\"LocationID\")\n",
        "df_loc=df_loc[['LocationID','longitude','latitude']]\n"
      ],
      "execution_count": 0,
      "outputs": []
    },
    {
      "cell_type": "code",
      "metadata": {
        "id": "n8C3iCP5nk5v",
        "colab_type": "code",
        "colab": {}
      },
      "source": [
        "loc_schema = StructType([\n",
        "    StructField(\"LocationID\", IntegerType()),\n",
        "    StructField(\"longitude\", DoubleType()),\n",
        "    StructField(\"latitude\", DoubleType())])\n",
        "dfspark_loc=spark.createDataFrame(df_loc, schema=loc_schema )"
      ],
      "execution_count": 0,
      "outputs": []
    },
    {
      "cell_type": "code",
      "metadata": {
        "id": "SSXS2--mTr-R",
        "colab_type": "code",
        "colab": {}
      },
      "source": [
        "dfspark_loc=dfspark_loc.select(col('LocationID').alias('PULocationID'),col('longitude'),col('latitude'))\n",
        "parque_2018_df = spark.read.option(\"mergeSchema\", \"true\").parquet(\"data/df_2018.parquet\")\n",
        "PULocation_df = parque_2018_df.join( dfspark_loc ,on='PULocationID',how='left')\n",
        "PULocation_df=PULocation_df.withColumnRenamed('longitude','pickup_longitude').withColumnRenamed('latitude','pickup_latitude')"
      ],
      "execution_count": 0,
      "outputs": []
    },
    {
      "cell_type": "code",
      "metadata": {
        "id": "bzYwGtoVea0l",
        "colab_type": "code",
        "colab": {}
      },
      "source": [
        "dfspark_loc = dfspark_loc.select(col('PULocationID').alias('DOLocationID'),col('longitude'),col('latitude'))\n",
        "df_2018_updated = PULocation_df.join( dfspark_loc ,on='DOLocationID',how='left')\n",
        "df_2018_updated=df_2018_updated.withColumnRenamed('longitude','dropoff_longitude').withColumnRenamed('latitude','dropoff_latitude')\n",
        "df_2018_updated=reduce(DataFrame.drop, ['DOLocationID','PULocationID'], df_2018_updated)\n"
      ],
      "execution_count": 0,
      "outputs": []
    },
    {
      "cell_type": "code",
      "metadata": {
        "id": "SdzWmcMmtCR_",
        "colab_type": "code",
        "colab": {}
      },
      "source": [
        "def unionAll(*dfs):\n",
        "    return reduce(DataFrame.unionAll, dfs)\n",
        "ny_taxi_df =unionAll(parque_2015_df,df_2018_updated)\n"
      ],
      "execution_count": 0,
      "outputs": []
    },
    {
      "cell_type": "markdown",
      "metadata": {
        "id": "rzWXSGEe0UdA",
        "colab_type": "text"
      },
      "source": [
        "**Persist** "
      ]
    },
    {
      "cell_type": "code",
      "metadata": {
        "id": "j_fLu4_W6HTf",
        "colab_type": "code",
        "outputId": "237e9b66-3940-46be-bd78-f471ca94d846",
        "colab": {
          "base_uri": "https://localhost:8080/",
          "height": 56
        }
      },
      "source": [
        "import pyspark\n",
        "ny_taxi_df.persist(pyspark.StorageLevel.MEMORY_AND_DISK)"
      ],
      "execution_count": 0,
      "outputs": [
        {
          "output_type": "execute_result",
          "data": {
            "text/plain": [
              "DataFrame[tpep_pickup_datetime: timestamp, tpep_dropoff_datetime: timestamp, passenger_count: int, trip_distance: double, pickup_longitude: double, pickup_latitude: string, RateCodeID: int, store_and_fwd_flag: string, dropoff_longitude: double, dropoff_latitude: double, payment_type: double, fare_amount: double, extra: double, mta_tax: double, tip_amount: double, tolls_amount: double, improvement_surcharge: double, total_amount: double, VendorID: double]"
            ]
          },
          "metadata": {
            "tags": []
          },
          "execution_count": 20
        }
      ]
    },
    {
      "cell_type": "code",
      "metadata": {
        "id": "q49Ai7vKUfRA",
        "colab_type": "code",
        "colab": {}
      },
      "source": [
        "# ny_taxi_df.repartition(1).write.partitionBy('VendorID').mode(\n",
        "# \"overwrite\").parquet(\"data/NY-Taxi.parquet\")"
      ],
      "execution_count": 0,
      "outputs": []
    },
    {
      "cell_type": "code",
      "metadata": {
        "id": "7yLBvDylUDeB",
        "colab_type": "code",
        "colab": {}
      },
      "source": [
        "# parque_df = spark.read.option(\"mergeSchema\", \"true\").parquet(\"data/NY-Taxi.parquet\")"
      ],
      "execution_count": 0,
      "outputs": []
    },
    {
      "cell_type": "markdown",
      "metadata": {
        "id": "0jgZoKLfnuhB",
        "colab_type": "text"
      },
      "source": [
        "## 4.1  Assessing seasonalities and looking at time series"
      ]
    },
    {
      "cell_type": "markdown",
      "metadata": {
        "id": "URXofp-hnxrH",
        "colab_type": "text"
      },
      "source": [
        "Compute and plot the following time series indexed by day of the week and hour of day:\n",
        "\n",
        "1. The number of pickups\n",
        "2. The average fare\n",
        "3. The average trip duration\n",
        "4. Plot the average number of ongoing trips"
      ]
    },
    {
      "cell_type": "code",
      "metadata": {
        "id": "rapADg00n26L",
        "colab_type": "code",
        "colab": {}
      },
      "source": [
        "### Extract day of week and hour from date in pyspark\n",
        "ny_taxi_df = ny_taxi_df.withColumn('pickup_weekday',dayofweek(ny_taxi_df.tpep_pickup_datetime))\\\n",
        ".withColumn('pickup_hour',hour(ny_taxi_df.tpep_pickup_datetime))\\\n",
        ".withColumn('trip_duration', func.round((col('tpep_dropoff_datetime').cast(LongType()) - col('tpep_pickup_datetime').cast(LongType()))/60))\n"
      ],
      "execution_count": 0,
      "outputs": []
    },
    {
      "cell_type": "code",
      "metadata": {
        "id": "xx6trKAHGdDh",
        "colab_type": "code",
        "colab": {}
      },
      "source": [
        "weekday_group = ny_taxi_df.groupBy('pickup_weekday')\n",
        "hour_group = ny_taxi_df.groupBy('pickup_hour')\n"
      ],
      "execution_count": 0,
      "outputs": []
    },
    {
      "cell_type": "markdown",
      "metadata": {
        "id": "nq1DQSrCEw_F",
        "colab_type": "text"
      },
      "source": [
        "## Number of Pickups\n",
        "### By Day of Week"
      ]
    },
    {
      "cell_type": "code",
      "metadata": {
        "id": "bINLOKgm_7d-",
        "colab_type": "code",
        "outputId": "25f2531c-f4b5-4c93-9da8-8e119fdd37a1",
        "colab": {
          "base_uri": "https://localhost:8080/",
          "height": 206
        }
      },
      "source": [
        "df_weekday = weekday_group.count().toPandas()\n",
        "df_weekday=df_weekday.sort_values(by=['pickup_weekday'])\n",
        "df_weekday.head()"
      ],
      "execution_count": 0,
      "outputs": [
        {
          "output_type": "execute_result",
          "data": {
            "text/html": [
              "<div>\n",
              "<style scoped>\n",
              "    .dataframe tbody tr th:only-of-type {\n",
              "        vertical-align: middle;\n",
              "    }\n",
              "\n",
              "    .dataframe tbody tr th {\n",
              "        vertical-align: top;\n",
              "    }\n",
              "\n",
              "    .dataframe thead th {\n",
              "        text-align: right;\n",
              "    }\n",
              "</style>\n",
              "<table border=\"1\" class=\"dataframe\">\n",
              "  <thead>\n",
              "    <tr style=\"text-align: right;\">\n",
              "      <th></th>\n",
              "      <th>pickup_weekday</th>\n",
              "      <th>count</th>\n",
              "    </tr>\n",
              "  </thead>\n",
              "  <tbody>\n",
              "    <tr>\n",
              "      <th>0</th>\n",
              "      <td>1</td>\n",
              "      <td>3001701</td>\n",
              "    </tr>\n",
              "    <tr>\n",
              "      <th>6</th>\n",
              "      <td>2</td>\n",
              "      <td>2536909</td>\n",
              "    </tr>\n",
              "    <tr>\n",
              "      <th>2</th>\n",
              "      <td>3</td>\n",
              "      <td>3175314</td>\n",
              "    </tr>\n",
              "    <tr>\n",
              "      <th>4</th>\n",
              "      <td>4</td>\n",
              "      <td>3302749</td>\n",
              "    </tr>\n",
              "    <tr>\n",
              "      <th>3</th>\n",
              "      <td>5</td>\n",
              "      <td>3373637</td>\n",
              "    </tr>\n",
              "  </tbody>\n",
              "</table>\n",
              "</div>"
            ],
            "text/plain": [
              "   pickup_weekday    count\n",
              "0               1  3001701\n",
              "6               2  2536909\n",
              "2               3  3175314\n",
              "4               4  3302749\n",
              "3               5  3373637"
            ]
          },
          "metadata": {
            "tags": []
          },
          "execution_count": 50
        }
      ]
    },
    {
      "cell_type": "code",
      "metadata": {
        "id": "gICCgH5NDAhe",
        "colab_type": "code",
        "outputId": "30ab1cfb-48a8-42dd-dc3e-cb53e3671162",
        "colab": {
          "base_uri": "https://localhost:8080/",
          "height": 295
        }
      },
      "source": [
        "plt.ticklabel_format(style = 'plain')\n",
        "plt.bar(df_weekday['pickup_weekday'],df_weekday['count'])\n",
        "plt.ylabel('Number of Pickups')\n",
        "plt.xlabel('Week Day')\n",
        "plt.title('Pickups by Weekday ')\n",
        "plt.show()\n"
      ],
      "execution_count": 0,
      "outputs": [
        {
          "output_type": "display_data",
          "data": {
            "image/png": "[encoded data removed]",
            "text/plain": [
              "<Figure size 432x288 with 1 Axes>"
            ]
          },
          "metadata": {
            "tags": [],
            "needs_background": "light"
          }
        }
      ]
    },
    {
      "cell_type": "markdown",
      "metadata": {
        "id": "dyq-u52-EzZg",
        "colab_type": "text"
      },
      "source": [
        "### By Hour of Day"
      ]
    },
    {
      "cell_type": "code",
      "metadata": {
        "id": "2ha-ZZkbDA8k",
        "colab_type": "code",
        "outputId": "e0484032-52aa-448b-a1a5-778f71662c4f",
        "colab": {
          "base_uri": "https://localhost:8080/",
          "height": 206
        }
      },
      "source": [
        "df_hour = hour_group.count().toPandas()\n",
        "df_hour = df_hour.sort_values(by=['pickup_hour'])\n",
        "df_hour.head()"
      ],
      "execution_count": 0,
      "outputs": [
        {
          "output_type": "execute_result",
          "data": {
            "text/html": [
              "<div>\n",
              "<style scoped>\n",
              "    .dataframe tbody tr th:only-of-type {\n",
              "        vertical-align: middle;\n",
              "    }\n",
              "\n",
              "    .dataframe tbody tr th {\n",
              "        vertical-align: top;\n",
              "    }\n",
              "\n",
              "    .dataframe thead th {\n",
              "        text-align: right;\n",
              "    }\n",
              "</style>\n",
              "<table border=\"1\" class=\"dataframe\">\n",
              "  <thead>\n",
              "    <tr style=\"text-align: right;\">\n",
              "      <th></th>\n",
              "      <th>pickup_hour</th>\n",
              "      <th>count</th>\n",
              "    </tr>\n",
              "  </thead>\n",
              "  <tbody>\n",
              "    <tr>\n",
              "      <th>22</th>\n",
              "      <td>0</td>\n",
              "      <td>808185</td>\n",
              "    </tr>\n",
              "    <tr>\n",
              "      <th>2</th>\n",
              "      <td>1</td>\n",
              "      <td>584985</td>\n",
              "    </tr>\n",
              "    <tr>\n",
              "      <th>21</th>\n",
              "      <td>2</td>\n",
              "      <td>425564</td>\n",
              "    </tr>\n",
              "    <tr>\n",
              "      <th>6</th>\n",
              "      <td>3</td>\n",
              "      <td>302649</td>\n",
              "    </tr>\n",
              "    <tr>\n",
              "      <th>13</th>\n",
              "      <td>4</td>\n",
              "      <td>232366</td>\n",
              "    </tr>\n",
              "  </tbody>\n",
              "</table>\n",
              "</div>"
            ],
            "text/plain": [
              "    pickup_hour   count\n",
              "22            0  808185\n",
              "2             1  584985\n",
              "21            2  425564\n",
              "6             3  302649\n",
              "13            4  232366"
            ]
          },
          "metadata": {
            "tags": []
          },
          "execution_count": 52
        }
      ]
    },
    {
      "cell_type": "code",
      "metadata": {
        "id": "T3X0hllpDBAt",
        "colab_type": "code",
        "outputId": "ce040ecb-b72e-4e5e-8dc8-3923a98a93d7",
        "colab": {
          "base_uri": "https://localhost:8080/",
          "height": 295
        }
      },
      "source": [
        "\n",
        "plt.ticklabel_format(style = 'plain')\n",
        "plt.bar(df_hour['pickup_hour'],df_hour['count'])\n",
        "plt.ylabel('Number of Pickups')\n",
        "plt.xlabel('Hour of Day')\n",
        "plt.title('Pikcups by Hour of Day')\n",
        "plt.show()\n"
      ],
      "execution_count": 0,
      "outputs": [
        {
          "output_type": "display_data",
          "data": {
            "image/png": "[encoded data removed]",
            "text/plain": [
              "<Figure size 432x288 with 1 Axes>"
            ]
          },
          "metadata": {
            "tags": [],
            "needs_background": "light"
          }
        }
      ]
    },
    {
      "cell_type": "markdown",
      "metadata": {
        "id": "JS_i2p_iF1r_",
        "colab_type": "text"
      },
      "source": [
        "## The Average Fair\n",
        "### By Day of Week "
      ]
    },
    {
      "cell_type": "code",
      "metadata": {
        "id": "WQgud7-hF-GU",
        "colab_type": "code",
        "outputId": "f607e459-8a72-4cdf-f02b-f8ff9f916005",
        "colab": {
          "base_uri": "https://localhost:8080/",
          "height": 206
        }
      },
      "source": [
        "df_weekday = weekday_group.agg({'fare_amount':'avg'}).toPandas()\n",
        "df_weekday=df_weekday.sort_values(by=['pickup_weekday'])\n",
        "df_weekday.head()"
      ],
      "execution_count": 0,
      "outputs": [
        {
          "output_type": "execute_result",
          "data": {
            "text/html": [
              "<div>\n",
              "<style scoped>\n",
              "    .dataframe tbody tr th:only-of-type {\n",
              "        vertical-align: middle;\n",
              "    }\n",
              "\n",
              "    .dataframe tbody tr th {\n",
              "        vertical-align: top;\n",
              "    }\n",
              "\n",
              "    .dataframe thead th {\n",
              "        text-align: right;\n",
              "    }\n",
              "</style>\n",
              "<table border=\"1\" class=\"dataframe\">\n",
              "  <thead>\n",
              "    <tr style=\"text-align: right;\">\n",
              "      <th></th>\n",
              "      <th>pickup_weekday</th>\n",
              "      <th>avg(fare_amount)</th>\n",
              "    </tr>\n",
              "  </thead>\n",
              "  <tbody>\n",
              "    <tr>\n",
              "      <th>0</th>\n",
              "      <td>1</td>\n",
              "      <td>8.895706</td>\n",
              "    </tr>\n",
              "    <tr>\n",
              "      <th>6</th>\n",
              "      <td>2</td>\n",
              "      <td>8.009160</td>\n",
              "    </tr>\n",
              "    <tr>\n",
              "      <th>2</th>\n",
              "      <td>3</td>\n",
              "      <td>7.147505</td>\n",
              "    </tr>\n",
              "    <tr>\n",
              "      <th>4</th>\n",
              "      <td>4</td>\n",
              "      <td>7.230321</td>\n",
              "    </tr>\n",
              "    <tr>\n",
              "      <th>3</th>\n",
              "      <td>5</td>\n",
              "      <td>7.355028</td>\n",
              "    </tr>\n",
              "  </tbody>\n",
              "</table>\n",
              "</div>"
            ],
            "text/plain": [
              "   pickup_weekday  avg(fare_amount)\n",
              "0               1          8.895706\n",
              "6               2          8.009160\n",
              "2               3          7.147505\n",
              "4               4          7.230321\n",
              "3               5          7.355028"
            ]
          },
          "metadata": {
            "tags": []
          },
          "execution_count": 54
        }
      ]
    },
    {
      "cell_type": "code",
      "metadata": {
        "id": "RtobfoolF-Jz",
        "colab_type": "code",
        "outputId": "65cd4d94-2b0c-4222-e26c-daf4b13a89ca",
        "colab": {
          "base_uri": "https://localhost:8080/",
          "height": 295
        }
      },
      "source": [
        "plt.ticklabel_format(style = 'plain')\n",
        "plt.bar(df_weekday['pickup_weekday'],df_weekday['avg(fare_amount)'])\n",
        "plt.ylabel('Average Fare Amount')\n",
        "plt.xlabel('Week Day')\n",
        "plt.title('Average Fare Amount by Weekday ')\n",
        "plt.show()\n"
      ],
      "execution_count": 0,
      "outputs": [
        {
          "output_type": "display_data",
          "data": {
            "image/png": "[encoded data removed]",
            "text/plain": [
              "<Figure size 432x288 with 1 Axes>"
            ]
          },
          "metadata": {
            "tags": [],
            "needs_background": "light"
          }
        }
      ]
    },
    {
      "cell_type": "markdown",
      "metadata": {
        "id": "yRmk1mLKIPb3",
        "colab_type": "text"
      },
      "source": [
        "### By Hour of Day"
      ]
    },
    {
      "cell_type": "code",
      "metadata": {
        "id": "TrcLsXFTF-Pi",
        "colab_type": "code",
        "outputId": "5d5d442a-31ea-4aff-dcd2-a09b463d3291",
        "colab": {
          "base_uri": "https://localhost:8080/",
          "height": 206
        }
      },
      "source": [
        "df_hour = hour_group.agg({'fare_amount':'avg'}).toPandas()\n",
        "df_hour = df_hour.sort_values(by=['pickup_hour'])\n",
        "df_hour.head()"
      ],
      "execution_count": 0,
      "outputs": [
        {
          "output_type": "execute_result",
          "data": {
            "text/html": [
              "<div>\n",
              "<style scoped>\n",
              "    .dataframe tbody tr th:only-of-type {\n",
              "        vertical-align: middle;\n",
              "    }\n",
              "\n",
              "    .dataframe tbody tr th {\n",
              "        vertical-align: top;\n",
              "    }\n",
              "\n",
              "    .dataframe thead th {\n",
              "        text-align: right;\n",
              "    }\n",
              "</style>\n",
              "<table border=\"1\" class=\"dataframe\">\n",
              "  <thead>\n",
              "    <tr style=\"text-align: right;\">\n",
              "      <th></th>\n",
              "      <th>pickup_hour</th>\n",
              "      <th>avg(fare_amount)</th>\n",
              "    </tr>\n",
              "  </thead>\n",
              "  <tbody>\n",
              "    <tr>\n",
              "      <th>22</th>\n",
              "      <td>0</td>\n",
              "      <td>8.972439</td>\n",
              "    </tr>\n",
              "    <tr>\n",
              "      <th>2</th>\n",
              "      <td>1</td>\n",
              "      <td>8.972266</td>\n",
              "    </tr>\n",
              "    <tr>\n",
              "      <th>21</th>\n",
              "      <td>2</td>\n",
              "      <td>8.943936</td>\n",
              "    </tr>\n",
              "    <tr>\n",
              "      <th>6</th>\n",
              "      <td>3</td>\n",
              "      <td>9.283550</td>\n",
              "    </tr>\n",
              "    <tr>\n",
              "      <th>13</th>\n",
              "      <td>4</td>\n",
              "      <td>10.399923</td>\n",
              "    </tr>\n",
              "  </tbody>\n",
              "</table>\n",
              "</div>"
            ],
            "text/plain": [
              "    pickup_hour  avg(fare_amount)\n",
              "22            0          8.972439\n",
              "2             1          8.972266\n",
              "21            2          8.943936\n",
              "6             3          9.283550\n",
              "13            4         10.399923"
            ]
          },
          "metadata": {
            "tags": []
          },
          "execution_count": 56
        }
      ]
    },
    {
      "cell_type": "code",
      "metadata": {
        "id": "Izx6_RSEF-ML",
        "colab_type": "code",
        "outputId": "348bc433-49b3-449a-e2a2-6e642d172bc0",
        "colab": {
          "base_uri": "https://localhost:8080/",
          "height": 295
        }
      },
      "source": [
        "plt.ticklabel_format(style = 'plain')\n",
        "plt.bar(df_hour['pickup_hour'],df_hour['avg(fare_amount)'])\n",
        "plt.ylabel('Average Fare Amount')\n",
        "plt.xlabel('Hour of Day')\n",
        "plt.title('Average Fare Amount by Hour of Day ')\n",
        "plt.show()\n"
      ],
      "execution_count": 0,
      "outputs": [
        {
          "output_type": "display_data",
          "data": {
            "image/png": "[encoded data removed]",
            "text/plain": [
              "<Figure size 432x288 with 1 Axes>"
            ]
          },
          "metadata": {
            "tags": [],
            "needs_background": "light"
          }
        }
      ]
    },
    {
      "cell_type": "markdown",
      "metadata": {
        "id": "D62zWZbbJK-G",
        "colab_type": "text"
      },
      "source": [
        "## The Average Trip Duration\n",
        "### By Day of Week"
      ]
    },
    {
      "cell_type": "code",
      "metadata": {
        "id": "UFpHQWrFJFYi",
        "colab_type": "code",
        "outputId": "a0c5c2e4-edc9-4306-cf34-0f5849c626b2",
        "colab": {
          "base_uri": "https://localhost:8080/",
          "height": 206
        }
      },
      "source": [
        "\n",
        "df_weekday = weekday_group.agg({'trip_duration':'avg'}).toPandas()\n",
        "df_weekday=df_weekday.sort_values(by=['pickup_weekday'])\n",
        "df_weekday.head()"
      ],
      "execution_count": 0,
      "outputs": [
        {
          "output_type": "execute_result",
          "data": {
            "text/html": [
              "<div>\n",
              "<style scoped>\n",
              "    .dataframe tbody tr th:only-of-type {\n",
              "        vertical-align: middle;\n",
              "    }\n",
              "\n",
              "    .dataframe tbody tr th {\n",
              "        vertical-align: top;\n",
              "    }\n",
              "\n",
              "    .dataframe thead th {\n",
              "        text-align: right;\n",
              "    }\n",
              "</style>\n",
              "<table border=\"1\" class=\"dataframe\">\n",
              "  <thead>\n",
              "    <tr style=\"text-align: right;\">\n",
              "      <th></th>\n",
              "      <th>pickup_weekday</th>\n",
              "      <th>avg(trip_duration)</th>\n",
              "    </tr>\n",
              "  </thead>\n",
              "  <tbody>\n",
              "    <tr>\n",
              "      <th>0</th>\n",
              "      <td>1</td>\n",
              "      <td>15.126047</td>\n",
              "    </tr>\n",
              "    <tr>\n",
              "      <th>6</th>\n",
              "      <td>2</td>\n",
              "      <td>15.442356</td>\n",
              "    </tr>\n",
              "    <tr>\n",
              "      <th>2</th>\n",
              "      <td>3</td>\n",
              "      <td>16.620033</td>\n",
              "    </tr>\n",
              "    <tr>\n",
              "      <th>4</th>\n",
              "      <td>4</td>\n",
              "      <td>14.128325</td>\n",
              "    </tr>\n",
              "    <tr>\n",
              "      <th>3</th>\n",
              "      <td>5</td>\n",
              "      <td>17.812253</td>\n",
              "    </tr>\n",
              "  </tbody>\n",
              "</table>\n",
              "</div>"
            ],
            "text/plain": [
              "   pickup_weekday  avg(trip_duration)\n",
              "0               1           15.126047\n",
              "6               2           15.442356\n",
              "2               3           16.620033\n",
              "4               4           14.128325\n",
              "3               5           17.812253"
            ]
          },
          "metadata": {
            "tags": []
          },
          "execution_count": 58
        }
      ]
    },
    {
      "cell_type": "code",
      "metadata": {
        "id": "u9eig9wMOYGw",
        "colab_type": "code",
        "outputId": "5dc57a38-0c7f-4c95-e59e-204067fa103e",
        "colab": {
          "base_uri": "https://localhost:8080/",
          "height": 295
        }
      },
      "source": [
        "plt.ticklabel_format(style = 'plain')\n",
        "plt.bar(df_weekday['pickup_weekday'],df_weekday['avg(trip_duration)'])\n",
        "plt.ylabel('Average Trip Duration (Minutes)')\n",
        "plt.xlabel('Week Day')\n",
        "plt.title('Average Trip Duration by Weekday ')\n",
        "plt.show()\n"
      ],
      "execution_count": 0,
      "outputs": [
        {
          "output_type": "display_data",
          "data": {
            "image/png": "[encoded data removed]",
            "text/plain": [
              "<Figure size 432x288 with 1 Axes>"
            ]
          },
          "metadata": {
            "tags": [],
            "needs_background": "light"
          }
        }
      ]
    },
    {
      "cell_type": "markdown",
      "metadata": {
        "id": "TkRoY1nAJQMw",
        "colab_type": "text"
      },
      "source": [
        "### By Hour of Day"
      ]
    },
    {
      "cell_type": "code",
      "metadata": {
        "id": "d-Qu2voSJTP2",
        "colab_type": "code",
        "outputId": "9bbdcbad-4715-4ee8-8fed-f3cb50e92c33",
        "colab": {
          "base_uri": "https://localhost:8080/",
          "height": 206
        }
      },
      "source": [
        "df_hour = hour_group.agg({'trip_duration':'avg'}).toPandas()\n",
        "df_hour = df_hour.sort_values(by=['pickup_hour'])\n",
        "df_hour.head()"
      ],
      "execution_count": 0,
      "outputs": [
        {
          "output_type": "execute_result",
          "data": {
            "text/html": [
              "<div>\n",
              "<style scoped>\n",
              "    .dataframe tbody tr th:only-of-type {\n",
              "        vertical-align: middle;\n",
              "    }\n",
              "\n",
              "    .dataframe tbody tr th {\n",
              "        vertical-align: top;\n",
              "    }\n",
              "\n",
              "    .dataframe thead th {\n",
              "        text-align: right;\n",
              "    }\n",
              "</style>\n",
              "<table border=\"1\" class=\"dataframe\">\n",
              "  <thead>\n",
              "    <tr style=\"text-align: right;\">\n",
              "      <th></th>\n",
              "      <th>pickup_hour</th>\n",
              "      <th>avg(trip_duration)</th>\n",
              "    </tr>\n",
              "  </thead>\n",
              "  <tbody>\n",
              "    <tr>\n",
              "      <th>22</th>\n",
              "      <td>0</td>\n",
              "      <td>14.967452</td>\n",
              "    </tr>\n",
              "    <tr>\n",
              "      <th>2</th>\n",
              "      <td>1</td>\n",
              "      <td>14.044784</td>\n",
              "    </tr>\n",
              "    <tr>\n",
              "      <th>21</th>\n",
              "      <td>2</td>\n",
              "      <td>13.612818</td>\n",
              "    </tr>\n",
              "    <tr>\n",
              "      <th>6</th>\n",
              "      <td>3</td>\n",
              "      <td>13.692406</td>\n",
              "    </tr>\n",
              "    <tr>\n",
              "      <th>13</th>\n",
              "      <td>4</td>\n",
              "      <td>14.511917</td>\n",
              "    </tr>\n",
              "  </tbody>\n",
              "</table>\n",
              "</div>"
            ],
            "text/plain": [
              "    pickup_hour  avg(trip_duration)\n",
              "22            0           14.967452\n",
              "2             1           14.044784\n",
              "21            2           13.612818\n",
              "6             3           13.692406\n",
              "13            4           14.511917"
            ]
          },
          "metadata": {
            "tags": []
          },
          "execution_count": 60
        }
      ]
    },
    {
      "cell_type": "code",
      "metadata": {
        "id": "wsFqGyeWOofb",
        "colab_type": "code",
        "outputId": "eb00ad14-076c-4476-ee8c-b90943a96d57",
        "colab": {
          "base_uri": "https://localhost:8080/",
          "height": 295
        }
      },
      "source": [
        "plt.ticklabel_format(style = 'plain')\n",
        "plt.bar(df_hour['pickup_hour'],df_hour['avg(trip_duration)'])\n",
        "plt.ylabel('Average Trip Duration')\n",
        "plt.xlabel('Hour of Day')\n",
        "plt.title('Average Trip Duration by Hour of Day ')\n",
        "plt.show()\n"
      ],
      "execution_count": 0,
      "outputs": [
        {
          "output_type": "display_data",
          "data": {
            "image/png": "[encoded data removed]",
            "text/plain": [
              "<Figure size 432x288 with 1 Axes>"
            ]
          },
          "metadata": {
            "tags": [],
            "needs_background": "light"
          }
        }
      ]
    },
    {
      "cell_type": "markdown",
      "metadata": {
        "id": "3sGXKQ9w6_3c",
        "colab_type": "text"
      },
      "source": [
        "## Average Number of Ongoing Trips"
      ]
    },
    {
      "cell_type": "code",
      "metadata": {
        "id": "Ck95H5547DLD",
        "colab_type": "code",
        "colab": {}
      },
      "source": [
        ""
      ],
      "execution_count": 0,
      "outputs": []
    },
    {
      "cell_type": "code",
      "metadata": {
        "id": "wV7_UVpb9VcA",
        "colab_type": "code",
        "colab": {}
      },
      "source": [
        ""
      ],
      "execution_count": 0,
      "outputs": []
    },
    {
      "cell_type": "code",
      "metadata": {
        "id": "nCNT_xuE2aXH",
        "colab_type": "code",
        "outputId": "d8323e5f-0367-4da2-e1c2-51392065edac",
        "colab": {
          "base_uri": "https://localhost:8080/",
          "height": 36
        }
      },
      "source": [
        "# import gc\n",
        "# collected = gc.collect()\n",
        "# print(\"Garbage collector: collected %d objects.\",collected)"
      ],
      "execution_count": 0,
      "outputs": [
        {
          "output_type": "stream",
          "text": [
            "Garbage collector: collected %d objects. 20212\n"
          ],
          "name": "stdout"
        }
      ]
    },
    {
      "cell_type": "markdown",
      "metadata": {
        "id": "6puI1LIuoBMB",
        "colab_type": "text"
      },
      "source": [
        "##4.2  Rides to the airports"
      ]
    },
    {
      "cell_type": "markdown",
      "metadata": {
        "id": "1rWUK9owoIpn",
        "colab_type": "text"
      },
      "source": [
        "In order to find the longitude and lattitude of JFK and Newark airport as well as the longitudeand magnitudes of Manhattan, you can use a service like geojson.io. Plot the following time series,indexed the day of the week and hour of the day"
      ]
    },
    {
      "cell_type": "code",
      "metadata": {
        "id": "Z8hY7jH_oPKs",
        "colab_type": "code",
        "colab": {}
      },
      "source": [
        "JFK_lon = -73.78\n",
        "JFK_lat = 40.64\n",
        "SM_lon = 74.00\n",
        "SM_lat = 40.72\n"
      ],
      "execution_count": 0,
      "outputs": []
    },
    {
      "cell_type": "code",
      "metadata": {
        "id": "A_o3wb-h6raR",
        "colab_type": "code",
        "colab": {}
      },
      "source": [
        "\n",
        "# def find_median(values_list):\n",
        "#     try:\n",
        "#         median = np.median(values_list) #get the median of values in a list in each row\n",
        "#         return func.round(float(median),2)\n",
        "#     except Exception:\n",
        "#         return None #if there is anything wrong with the given values\n",
        "# median_finder = func.udf(find_median,FloatType())"
      ],
      "execution_count": 0,
      "outputs": []
    },
    {
      "cell_type": "code",
      "metadata": {
        "id": "Cz1fkXaIF-8f",
        "colab_type": "code",
        "outputId": "2346401d-289f-4d2e-c1a8-7cb80af41a8b",
        "colab": {
          "base_uri": "https://localhost:8080/",
          "height": 420
        }
      },
      "source": [
        "\n",
        "ny_taxi_df = ny_taxi_df.withColumn(\"dlon\", radians(lit(-73.778139)) - radians(col(\"pickup_longitude\"))) \\\n",
        "  .withColumn(\"dlat\", radians(lit(40.641311)) - radians(col(\"pickup_latitude\"))) \\\n",
        "  .withColumn(\"haversine_dist\", func.round(asin(sqrt(\n",
        "                                         sin(col(\"dlat\") / 2) ** 2 + cos(radians(col(\"pickup_longitude\")))\n",
        "                                         * cos(radians(lit(40.641311))) * sin(col(\"dlon\") / 2) ** 2\n",
        "                                         )\n",
        "                                    ) * 2 * 3963 * 5280,1)) \\\n",
        "  .drop(\"dlon\", \"dlat\")"
      ],
      "execution_count": 0,
      "outputs": [
        {
          "output_type": "error",
          "ename": "ModuleNotFoundError",
          "evalue": "ignored",
          "traceback": [
            "\u001b[0;31m---------------------------------------------------------------------------\u001b[0m",
            "\u001b[0;31mModuleNotFoundError\u001b[0m                       Traceback (most recent call last)",
            "\u001b[0;32m<ipython-input-1-2d370dc28ab0>\u001b[0m in \u001b[0;36m<module>\u001b[0;34m()\u001b[0m\n\u001b[0;32m----> 1\u001b[0;31m \u001b[0;32mfrom\u001b[0m \u001b[0mpyspark\u001b[0m\u001b[0;34m.\u001b[0m\u001b[0msql\u001b[0m\u001b[0;34m.\u001b[0m\u001b[0mfunctions\u001b[0m \u001b[0;32mimport\u001b[0m \u001b[0mcol\u001b[0m\u001b[0;34m,\u001b[0m \u001b[0mradians\u001b[0m\u001b[0;34m,\u001b[0m \u001b[0masin\u001b[0m\u001b[0;34m,\u001b[0m \u001b[0msin\u001b[0m\u001b[0;34m,\u001b[0m \u001b[0msqrt\u001b[0m\u001b[0;34m,\u001b[0m \u001b[0mcos\u001b[0m\u001b[0;34m,\u001b[0m \u001b[0mlit\u001b[0m\u001b[0;34m\u001b[0m\u001b[0;34m\u001b[0m\u001b[0m\n\u001b[0m\u001b[1;32m      2\u001b[0m ny_taxi_df = ny_taxi_df.withColumn(\"dlon\", radians(lit(-73.778139)) - radians(col(\"pickup_longitude\")))   .withColumn(\"dlat\", radians(lit(40.641311)) - radians(col(\"pickup_latitude\")))   .withColumn(\"haversine_dist\", func.round(asin(sqrt(\n\u001b[1;32m      3\u001b[0m                                          \u001b[0msin\u001b[0m\u001b[0;34m(\u001b[0m\u001b[0mcol\u001b[0m\u001b[0;34m(\u001b[0m\u001b[0;34m\"dlat\"\u001b[0m\u001b[0;34m)\u001b[0m \u001b[0;34m/\u001b[0m \u001b[0;36m2\u001b[0m\u001b[0;34m)\u001b[0m \u001b[0;34m**\u001b[0m \u001b[0;36m2\u001b[0m \u001b[0;34m+\u001b[0m \u001b[0mcos\u001b[0m\u001b[0;34m(\u001b[0m\u001b[0mradians\u001b[0m\u001b[0;34m(\u001b[0m\u001b[0mcol\u001b[0m\u001b[0;34m(\u001b[0m\u001b[0;34m\"pickup_longitude\"\u001b[0m\u001b[0;34m)\u001b[0m\u001b[0;34m)\u001b[0m\u001b[0;34m)\u001b[0m\u001b[0;34m\u001b[0m\u001b[0;34m\u001b[0m\u001b[0m\n\u001b[1;32m      4\u001b[0m                                          \u001b[0;34m*\u001b[0m \u001b[0mcos\u001b[0m\u001b[0;34m(\u001b[0m\u001b[0mradians\u001b[0m\u001b[0;34m(\u001b[0m\u001b[0mlit\u001b[0m\u001b[0;34m(\u001b[0m\u001b[0;36m40.641311\u001b[0m\u001b[0;34m)\u001b[0m\u001b[0;34m)\u001b[0m\u001b[0;34m)\u001b[0m \u001b[0;34m*\u001b[0m \u001b[0msin\u001b[0m\u001b[0;34m(\u001b[0m\u001b[0mcol\u001b[0m\u001b[0;34m(\u001b[0m\u001b[0;34m\"dlon\"\u001b[0m\u001b[0;34m)\u001b[0m \u001b[0;34m/\u001b[0m \u001b[0;36m2\u001b[0m\u001b[0;34m)\u001b[0m \u001b[0;34m**\u001b[0m \u001b[0;36m2\u001b[0m\u001b[0;34m\u001b[0m\u001b[0;34m\u001b[0m\u001b[0m\n\u001b[1;32m      5\u001b[0m                                          )\n",
            "\u001b[0;31mModuleNotFoundError\u001b[0m: No module named 'pyspark'",
            "",
            "\u001b[0;31m---------------------------------------------------------------------------\u001b[0;32m\nNOTE: If your import is failing due to a missing package, you can\nmanually install dependencies using either !pip or !apt.\n\nTo view examples of installing some common dependencies, click the\n\"Open Examples\" button below.\n\u001b[0;31m---------------------------------------------------------------------------\u001b[0m\n"
          ]
        }
      ]
    },
    {
      "cell_type": "code",
      "metadata": {
        "id": "2rw3rcQBLK5h",
        "colab_type": "code",
        "colab": {}
      },
      "source": [
        ""
      ],
      "execution_count": 0,
      "outputs": []
    },
    {
      "cell_type": "markdown",
      "metadata": {
        "id": "BkhEgzJ140Cf",
        "colab_type": "text"
      },
      "source": [
        "1. Median duration of taxi trip leaving Midtown (Southern Manhattan) headed for JFK Airport"
      ]
    },
    {
      "cell_type": "code",
      "metadata": {
        "id": "Vdpci4WCL4Pq",
        "colab_type": "code",
        "colab": {}
      },
      "source": [
        ""
      ],
      "execution_count": 0,
      "outputs": []
    },
    {
      "cell_type": "code",
      "metadata": {
        "id": "v877fJ6YL4Sc",
        "colab_type": "code",
        "colab": {}
      },
      "source": [
        ""
      ],
      "execution_count": 0,
      "outputs": []
    },
    {
      "cell_type": "markdown",
      "metadata": {
        "id": "2hL_RcyF41zj",
        "colab_type": "text"
      },
      "source": [
        "2. Median taxi duration of trip leaving from JFK Airport to Midtown (Southern Manhattan)"
      ]
    },
    {
      "cell_type": "markdown",
      "metadata": {
        "id": "S_yXzWUJoRRw",
        "colab_type": "text"
      },
      "source": [
        "##4.3  Geographic information\n",
        "\n",
        "For this, you will need to find tools to display maps and to build choropeth maps. We let you lookand find relevant tools to do this."
      ]
    },
    {
      "cell_type": "markdown",
      "metadata": {
        "id": "BEJt-9sioauj",
        "colab_type": "text"
      },
      "source": [
        "1. Build a heatmap where color is a function of\n",
        "   1. number ofpickups\n",
        "   2. number ofdropoffs\n",
        "   3. number ofpickupswith dropoff at some airport (JFK, LaGuardia, Newark)"
      ]
    },
    {
      "cell_type": "code",
      "metadata": {
        "id": "73XaijAJoSXQ",
        "colab_type": "code",
        "colab": {}
      },
      "source": [
        ""
      ],
      "execution_count": 0,
      "outputs": []
    },
    {
      "cell_type": "markdown",
      "metadata": {
        "id": "uZvwrAxdoh8Z",
        "colab_type": "text"
      },
      "source": [
        "2. Build a choropeth map where color is a function of\n",
        "  1. number of pickups in the area\n",
        "  2. ratio of number of payments by card/number of cash payments for pickups in the area \n",
        "  3. ratio of total fare/trip duration for dropoff in the area"
      ]
    },
    {
      "cell_type": "code",
      "metadata": {
        "id": "Hly3OkdLomg7",
        "colab_type": "code",
        "colab": {}
      },
      "source": [
        ""
      ],
      "execution_count": 0,
      "outputs": []
    },
    {
      "cell_type": "markdown",
      "metadata": {
        "id": "CIp7zVwroo2P",
        "colab_type": "text"
      },
      "source": [
        "3. Build an interactive chorophet with a slider allowing the user to select anhour of dayandwhere the color is a function of\n",
        "  1. average number of dropoffs in the area during that hour the day \n",
        "  2. average ratio of tip over total fare amount for pickups in the area at given hour of theday"
      ]
    },
    {
      "cell_type": "code",
      "metadata": {
        "id": "yfwMbCYBovtK",
        "colab_type": "code",
        "colab": {}
      },
      "source": [
        ""
      ],
      "execution_count": 0,
      "outputs": []
    }
  ]
}