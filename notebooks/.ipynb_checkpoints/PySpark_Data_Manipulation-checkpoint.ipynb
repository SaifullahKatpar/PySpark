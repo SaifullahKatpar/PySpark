{
 "cells": [
  {
   "cell_type": "markdown",
   "metadata": {
    "colab_type": "text",
    "id": "view-in-github"
   },
   "source": [
    "<a href=\"https://colab.research.google.com/github/SaifullahKatpar/PySpark/blob/master/PySpark_By_Example.ipynb\" target=\"_parent\"><img src=\"https://colab.research.google.com/assets/colab-badge.svg\" alt=\"Open In Colab\"/></a>"
   ]
  },
  {
   "cell_type": "markdown",
   "metadata": {
    "colab_type": "text",
    "id": "Dd6t0uFzuR4X"
   },
   "source": [
    "## Download and install Spark"
   ]
  },
  {
   "cell_type": "code",
   "execution_count": 0,
   "metadata": {
    "colab": {},
    "colab_type": "code",
    "id": "1m9BnyRRfpbX"
   },
   "outputs": [],
   "source": [
    "import time as t"
   ]
  },
  {
   "cell_type": "code",
   "execution_count": 0,
   "metadata": {
    "colab": {
     "base_uri": "https://localhost:8080/",
     "height": 35
    },
    "colab_type": "code",
    "id": "zToS5PqxBXpK",
    "outputId": "02f63576-bb1d-44f6-b6e6-38db1d456749"
   },
   "outputs": [
    {
     "name": "stdout",
     "output_type": "stream",
     "text": [
      "sample_data\n"
     ]
    }
   ],
   "source": [
    "!ls"
   ]
  },
  {
   "cell_type": "code",
   "execution_count": 0,
   "metadata": {
    "colab": {
     "base_uri": "https://localhost:8080/",
     "height": 399
    },
    "colab_type": "code",
    "id": "tt7ZS1_wGgjn",
    "outputId": "4be34fe4-5118-43fb-b4e4-3a8390bed9b5"
   },
   "outputs": [
    {
     "name": "stdout",
     "output_type": "stream",
     "text": [
      "\r",
      "0% [Working]\r",
      "            \r",
      "Get:1 https://cloud.r-project.org/bin/linux/ubuntu bionic-cran35/ InRelease [3,626 B]\n",
      "\r",
      "0% [Connecting to archive.ubuntu.com (91.189.88.174)] [Waiting for headers] [1 \r",
      "0% [Connecting to archive.ubuntu.com (91.189.88.174)] [Waiting for headers] [Wa\r",
      "                                                                               \r",
      "Ign:2 https://developer.download.nvidia.com/compute/cuda/repos/ubuntu1804/x86_64  InRelease\n",
      "\r",
      "0% [Connecting to archive.ubuntu.com (91.189.88.174)] [Waiting for headers] [Wa\r",
      "0% [1 InRelease gpgv 3,626 B] [Connecting to archive.ubuntu.com (91.189.88.174)\r",
      "                                                                               \r",
      "Get:3 http://security.ubuntu.com/ubuntu bionic-security InRelease [88.7 kB]\n",
      "\r",
      "0% [1 InRelease gpgv 3,626 B] [Waiting for headers] [3 InRelease 14.2 kB/88.7 k\r",
      "                                                                               \r",
      "Ign:4 https://developer.download.nvidia.com/compute/machine-learning/repos/ubuntu1804/x86_64  InRelease\n",
      "\r",
      "0% [1 InRelease gpgv 3,626 B] [Waiting for headers] [3 InRelease 14.2 kB/88.7 k\r",
      "                                                                               \r",
      "Hit:5 https://developer.download.nvidia.com/compute/cuda/repos/ubuntu1804/x86_64  Release\n",
      "\r",
      "0% [1 InRelease gpgv 3,626 B] [Waiting for headers] [3 InRelease 14.2 kB/88.7 k\r",
      "                                                                               \r",
      "Get:6 https://developer.download.nvidia.com/compute/machine-learning/repos/ubuntu1804/x86_64  Release [564 B]\n",
      "\r",
      "0% [1 InRelease gpgv 3,626 B] [Waiting for headers] [3 InRelease 14.2 kB/88.7 k\r",
      "                                                                               \r",
      "Get:7 https://developer.download.nvidia.com/compute/machine-learning/repos/ubuntu1804/x86_64  Release.gpg [833 B]\n",
      "Get:8 https://cloud.r-project.org/bin/linux/ubuntu bionic-cran35/ Packages [81.6 kB]\n",
      "Hit:9 http://ppa.launchpad.net/graphics-drivers/ppa/ubuntu bionic InRelease\n",
      "Hit:10 http://archive.ubuntu.com/ubuntu bionic InRelease\n",
      "Get:12 http://archive.ubuntu.com/ubuntu bionic-updates InRelease [88.7 kB]\n",
      "Get:13 https://developer.download.nvidia.com/compute/machine-learning/repos/ubuntu1804/x86_64  Packages [30.4 kB]\n",
      "Get:14 http://ppa.launchpad.net/marutter/c2d4u3.5/ubuntu bionic InRelease [15.4 kB]\n",
      "Get:15 http://security.ubuntu.com/ubuntu bionic-security/main amd64 Packages [761 kB]\n",
      "Get:16 http://archive.ubuntu.com/ubuntu bionic-backports InRelease [74.6 kB]\n",
      "Get:17 http://ppa.launchpad.net/marutter/c2d4u3.5/ubuntu bionic/main Sources [1,747 kB]\n",
      "Get:18 http://archive.ubuntu.com/ubuntu bionic-updates/main amd64 Packages [1,057 kB]\n",
      "Get:19 http://archive.ubuntu.com/ubuntu bionic-updates/universe amd64 Packages [1,322 kB]\n",
      "Get:20 http://ppa.launchpad.net/marutter/c2d4u3.5/ubuntu bionic/main amd64 Packages [843 kB]\n",
      "Fetched 6,115 kB in 6s (1,012 kB/s)\n",
      "Reading package lists... Done\n"
     ]
    }
   ],
   "source": [
    "!apt-get update\n",
    "!apt-get install openjdk-8-jdk-headless -qq > /dev/null\n",
    "!wget -q http://archive.apache.org/dist/spark/spark-2.3.1/spark-2.3.1-bin-hadoop2.7.tgz\n",
    "!tar xf spark-2.3.1-bin-hadoop2.7.tgz\n",
    "!pip install -q findspark"
   ]
  },
  {
   "cell_type": "markdown",
   "metadata": {
    "colab_type": "text",
    "id": "FEuEkV0BlzAD"
   },
   "source": [
    "## Setup environment"
   ]
  },
  {
   "cell_type": "code",
   "execution_count": 0,
   "metadata": {
    "colab": {
     "base_uri": "https://localhost:8080/",
     "height": 221
    },
    "colab_type": "code",
    "id": "sdOOq4twHN1K",
    "outputId": "3c511d5c-fae4-406a-fe0c-3942d7654d72"
   },
   "outputs": [
    {
     "data": {
      "text/html": [
       "\n",
       "            <div>\n",
       "                <p><b>SparkSession - in-memory</b></p>\n",
       "                \n",
       "        <div>\n",
       "            <p><b>SparkContext</b></p>\n",
       "\n",
       "            <p><a href=\"http://7d4d97af1e08:4040\">Spark UI</a></p>\n",
       "\n",
       "            <dl>\n",
       "              <dt>Version</dt>\n",
       "                <dd><code>v2.3.1</code></dd>\n",
       "              <dt>Master</dt>\n",
       "                <dd><code>local[*]</code></dd>\n",
       "              <dt>AppName</dt>\n",
       "                <dd><code>pyspark-shell</code></dd>\n",
       "            </dl>\n",
       "        </div>\n",
       "        \n",
       "            </div>\n",
       "        "
      ],
      "text/plain": [
       "<pyspark.sql.session.SparkSession at 0x7f71d6d54d68>"
      ]
     },
     "execution_count": 3,
     "metadata": {
      "tags": []
     },
     "output_type": "execute_result"
    }
   ],
   "source": [
    "import os\n",
    "os.environ[\"JAVA_HOME\"] = \"/usr/lib/jvm/java-8-openjdk-amd64\"\n",
    "os.environ[\"SPARK_HOME\"] = \"/content/spark-2.3.1-bin-hadoop2.7\"\n",
    "\n",
    "import findspark\n",
    "findspark.init()\n",
    "from pyspark import SparkContext\n",
    "sc = SparkContext.getOrCreate()\n",
    "\n",
    "import pyspark\n",
    "from pyspark.sql import SparkSession\n",
    "spark = SparkSession.builder.getOrCreate() \n",
    "spark"
   ]
  },
  {
   "cell_type": "markdown",
   "metadata": {
    "colab_type": "text",
    "id": "0ysUlfFrN5OD"
   },
   "source": [
    "## Downloading and preprocessing Chicago's Reported Crime Data"
   ]
  },
  {
   "cell_type": "code",
   "execution_count": 0,
   "metadata": {
    "colab": {
     "base_uri": "https://localhost:8080/",
     "height": 308
    },
    "colab_type": "code",
    "id": "FDtw5Hy3N-pV",
    "outputId": "d678a501-7d30-48f5-e1d8-99e94c43b1ee"
   },
   "outputs": [
    {
     "name": "stdout",
     "output_type": "stream",
     "text": [
      "--2019-12-31 09:26:03--  https://data.cityofchicago.org/api/views/ijzp-q8t2/rows.csv?accessType=DOWNLOAD\n",
      "Resolving data.cityofchicago.org (data.cityofchicago.org)... 52.206.68.26, 52.206.140.199, 52.206.140.205\n",
      "Connecting to data.cityofchicago.org (data.cityofchicago.org)|52.206.68.26|:443... connected.\n",
      "HTTP request sent, awaiting response... 200 OK\n",
      "Length: unspecified [text/csv]\n",
      "Saving to: ‘rows.csv?accessType=DOWNLOAD’\n",
      "\n",
      "rows.csv?accessType     [      <=>           ]   1.54G  3.42MB/s    in 8m 3s   \n",
      "\n",
      "2019-12-31 09:34:08 (3.28 MB/s) - ‘rows.csv?accessType=DOWNLOAD’ saved [1659605276]\n",
      "\n",
      "total 1841320\n",
      "-rw-r--r--  1 root root 1659605276 Dec 30 12:12 'rows.csv?accessType=DOWNLOAD'\n",
      "drwxr-xr-x  1 root root       4096 Dec 18 16:52  sample_data\n",
      "drwxrwxr-x 13 1000 1000       4096 Jun  1  2018  spark-2.3.1-bin-hadoop2.7\n",
      "-rw-r--r--  1 root root  225883783 Jun  1  2018  spark-2.3.1-bin-hadoop2.7.tgz\n"
     ]
    }
   ],
   "source": [
    "!wget https://data.cityofchicago.org/api/views/ijzp-q8t2/rows.csv?accessType=DOWNLOAD\n",
    "!ls -l"
   ]
  },
  {
   "cell_type": "code",
   "execution_count": 0,
   "metadata": {
    "colab": {
     "base_uri": "https://localhost:8080/",
     "height": 108
    },
    "colab_type": "code",
    "id": "v4P5mMONYyVd",
    "outputId": "0fdc7a54-9625-473f-a406-f7e2dc28b963"
   },
   "outputs": [
    {
     "name": "stdout",
     "output_type": "stream",
     "text": [
      "total 1841320\n",
      "-rw-r--r--  1 root root 1659605276 Dec 30 12:12 reported-crimes.csv\n",
      "drwxr-xr-x  1 root root       4096 Dec 18 16:52 sample_data\n",
      "drwxrwxr-x 13 1000 1000       4096 Jun  1  2018 spark-2.3.1-bin-hadoop2.7\n",
      "-rw-r--r--  1 root root  225883783 Jun  1  2018 spark-2.3.1-bin-hadoop2.7.tgz\n"
     ]
    }
   ],
   "source": [
    "!mv rows.csv\\?accessType\\=DOWNLOAD reported-crimes.csv\n",
    "!ls -l"
   ]
  },
  {
   "cell_type": "code",
   "execution_count": 0,
   "metadata": {
    "colab": {
     "base_uri": "https://localhost:8080/",
     "height": 237
    },
    "colab_type": "code",
    "id": "9-1cK0nPNS95",
    "outputId": "0200ce40-2d66-4fb2-9177-ff0bc6348d72"
   },
   "outputs": [
    {
     "name": "stdout",
     "output_type": "stream",
     "text": [
      "+--------+-----------+-------------------+--------------------+----+-------------------+--------------------+--------------------+------+--------+----+--------+----+--------------+--------+------------+------------+----+--------------------+--------+---------+--------+\n",
      "|      ID|Case Number|               Date|               Block|IUCR|       Primary Type|         Description|Location Description|Arrest|Domestic|Beat|District|Ward|Community Area|FBI Code|X Coordinate|Y Coordinate|Year|          Updated On|Latitude|Longitude|Location|\n",
      "+--------+-----------+-------------------+--------------------+----+-------------------+--------------------+--------------------+------+--------+----+--------+----+--------------+--------+------------+------------+----+--------------------+--------+---------+--------+\n",
      "|11034701|   JA366925|2001-01-01 11:00:00|     016XX E 86TH PL|1153| DECEPTIVE PRACTICE|FINANCIAL IDENTIT...|           RESIDENCE| false|   false|0412|     004|   8|            45|      11|        null|        null|2001|08/05/2017 03:50:...|    null|     null|    null|\n",
      "|11227287|   JB147188|2017-10-08 03:00:00|  092XX S RACINE AVE|0281|CRIM SEXUAL ASSAULT|      NON-AGGRAVATED|           RESIDENCE| false|   false|2222|     022|  21|            73|      02|        null|        null|2017|02/11/2018 03:57:...|    null|     null|    null|\n",
      "|11227583|   JB147595|2017-03-28 14:00:00|     026XX W 79TH ST|0620|           BURGLARY|      UNLAWFUL ENTRY|               OTHER| false|   false|0835|     008|  18|            70|      05|        null|        null|2017|02/11/2018 03:57:...|    null|     null|    null|\n",
      "|11227293|   JB147230|2017-09-09 20:17:00|060XX S EBERHART AVE|0810|              THEFT|           OVER $500|           RESIDENCE| false|   false|0313|     003|  20|            42|      06|        null|        null|2017|02/11/2018 03:57:...|    null|     null|    null|\n",
      "|11227634|   JB147599|2017-08-26 10:00:00| 001XX W RANDOLPH ST|0281|CRIM SEXUAL ASSAULT|      NON-AGGRAVATED|         HOTEL/MOTEL| false|   false|0122|     001|  42|            32|      02|        null|        null|2017|02/11/2018 03:57:...|    null|     null|    null|\n",
      "+--------+-----------+-------------------+--------------------+----+-------------------+--------------------+--------------------+------+--------+----+--------+----+--------------+--------+------------+------------+----+--------------------+--------+---------+--------+\n",
      "only showing top 5 rows\n",
      "\n"
     ]
    }
   ],
   "source": [
    "from pyspark.sql.functions import to_timestamp,col,lit\n",
    "rc = spark.read.csv('reported-crimes.csv',header=True)\\\n",
    "              .withColumn('Date',to_timestamp(col('Date'),'MM/dd/yyyy hh:mm:ss a'))\\\n",
    "              .filter(col('Date') <= lit('2018-11-11'))\n",
    "rc.show(5)"
   ]
  },
  {
   "cell_type": "markdown",
   "metadata": {
    "colab_type": "text",
    "id": "mI_zYOVpf2yK"
   },
   "source": [
    "## Schemas"
   ]
  },
  {
   "cell_type": "code",
   "execution_count": 0,
   "metadata": {
    "colab": {
     "base_uri": "https://localhost:8080/",
     "height": 454
    },
    "colab_type": "code",
    "id": "PeeOFy5cgDRq",
    "outputId": "169b28bf-2972-4d98-8989-f2e0095eea5e"
   },
   "outputs": [
    {
     "name": "stdout",
     "output_type": "stream",
     "text": [
      "root\n",
      " |-- ID: string (nullable = true)\n",
      " |-- Case Number: string (nullable = true)\n",
      " |-- Date: timestamp (nullable = true)\n",
      " |-- Block: string (nullable = true)\n",
      " |-- IUCR: string (nullable = true)\n",
      " |-- Primary Type: string (nullable = true)\n",
      " |-- Description: string (nullable = true)\n",
      " |-- Location Description: string (nullable = true)\n",
      " |-- Arrest: string (nullable = true)\n",
      " |-- Domestic: string (nullable = true)\n",
      " |-- Beat: string (nullable = true)\n",
      " |-- District: string (nullable = true)\n",
      " |-- Ward: string (nullable = true)\n",
      " |-- Community Area: string (nullable = true)\n",
      " |-- FBI Code: string (nullable = true)\n",
      " |-- X Coordinate: string (nullable = true)\n",
      " |-- Y Coordinate: string (nullable = true)\n",
      " |-- Year: string (nullable = true)\n",
      " |-- Updated On: string (nullable = true)\n",
      " |-- Latitude: string (nullable = true)\n",
      " |-- Longitude: string (nullable = true)\n",
      " |-- Location: string (nullable = true)\n",
      "\n"
     ]
    }
   ],
   "source": [
    "rc.printSchema()"
   ]
  },
  {
   "cell_type": "code",
   "execution_count": 0,
   "metadata": {
    "colab": {},
    "colab_type": "code",
    "id": "qLS_NEpEgDBJ"
   },
   "outputs": [],
   "source": [
    "from pyspark.sql.types import StructType, StructField, StringType, TimestampType, BooleanType, DoubleType, IntegerType"
   ]
  },
  {
   "cell_type": "code",
   "execution_count": 0,
   "metadata": {
    "colab": {},
    "colab_type": "code",
    "id": "5A2227_gY016"
   },
   "outputs": [],
   "source": [
    " labels=[\n",
    " ('ID',StringType()),\n",
    " ('Case Number',StringType()),\n",
    " ('Date',TimestampType()),\n",
    " ('Block',StringType()),\n",
    " ('IUCR',StringType()),\n",
    " ('Primary Type',StringType()),\n",
    " ('Description',StringType()),\n",
    " ('Location Description',StringType()),\n",
    " ('Arrest',BooleanType()),\n",
    " ('Domestic',BooleanType()),\n",
    " ('Beat',IntegerType()),\n",
    " ('District',IntegerType()),\n",
    " ('Ward',IntegerType()),\n",
    " ('Community Area',IntegerType()),\n",
    " ('FBI Code',IntegerType()),\n",
    " ('X Coordinate',IntegerType()),\n",
    " ('Y Coordinate',IntegerType()),\n",
    " ('Year',IntegerType()),\n",
    " ('Updated On',TimestampType()),\n",
    " ('Latitude',DoubleType()),\n",
    " ('Longitude',DoubleType()),\n",
    " ('Location',StringType())\n",
    "]"
   ]
  },
  {
   "cell_type": "code",
   "execution_count": 0,
   "metadata": {
    "colab": {},
    "colab_type": "code",
    "id": "JkUF4yJFgG25"
   },
   "outputs": [],
   "source": [
    "schema= StructType([StructField(x[0],x[1],True) for x in labels ])"
   ]
  },
  {
   "cell_type": "code",
   "execution_count": 0,
   "metadata": {
    "colab": {
     "base_uri": "https://localhost:8080/",
     "height": 454
    },
    "colab_type": "code",
    "id": "o3IB6VxLgGYi",
    "outputId": "4119262d-424b-4129-9752-8c18f1d7d35a"
   },
   "outputs": [
    {
     "name": "stdout",
     "output_type": "stream",
     "text": [
      "root\n",
      " |-- ID: string (nullable = true)\n",
      " |-- Case Number: string (nullable = true)\n",
      " |-- Date: timestamp (nullable = true)\n",
      " |-- Block: string (nullable = true)\n",
      " |-- IUCR: string (nullable = true)\n",
      " |-- Primary Type: string (nullable = true)\n",
      " |-- Description: string (nullable = true)\n",
      " |-- Location Description: string (nullable = true)\n",
      " |-- Arrest: boolean (nullable = true)\n",
      " |-- Domestic: boolean (nullable = true)\n",
      " |-- Beat: integer (nullable = true)\n",
      " |-- District: integer (nullable = true)\n",
      " |-- Ward: integer (nullable = true)\n",
      " |-- Community Area: integer (nullable = true)\n",
      " |-- FBI Code: integer (nullable = true)\n",
      " |-- X Coordinate: integer (nullable = true)\n",
      " |-- Y Coordinate: integer (nullable = true)\n",
      " |-- Year: integer (nullable = true)\n",
      " |-- Updated On: timestamp (nullable = true)\n",
      " |-- Latitude: double (nullable = true)\n",
      " |-- Longitude: double (nullable = true)\n",
      " |-- Location: string (nullable = true)\n",
      "\n"
     ]
    }
   ],
   "source": [
    "# rc = spark.read.csv('reported-crimes.csv',schema=schema)\n",
    "# rc.printSchema()"
   ]
  },
  {
   "cell_type": "markdown",
   "metadata": {
    "colab_type": "text",
    "id": "NJOtoM2RcC_Z"
   },
   "source": [
    "# Working with Columns"
   ]
  },
  {
   "cell_type": "code",
   "execution_count": 0,
   "metadata": {
    "colab": {
     "base_uri": "https://localhost:8080/",
     "height": 490
    },
    "colab_type": "code",
    "id": "Snmc112jb9hg",
    "outputId": "3a778408-2409-4bb4-a5dd-ec25d9b014c6"
   },
   "outputs": [
    {
     "name": "stdout",
     "output_type": "stream",
     "text": [
      "+--------------------+\n",
      "|        Primary Type|\n",
      "+--------------------+\n",
      "|OFFENSE INVOLVING...|\n",
      "|            STALKING|\n",
      "|PUBLIC PEACE VIOL...|\n",
      "|           OBSCENITY|\n",
      "|NON-CRIMINAL (SUB...|\n",
      "|               ARSON|\n",
      "|   DOMESTIC VIOLENCE|\n",
      "|            GAMBLING|\n",
      "|   CRIMINAL TRESPASS|\n",
      "|             ASSAULT|\n",
      "|      NON - CRIMINAL|\n",
      "|LIQUOR LAW VIOLATION|\n",
      "| MOTOR VEHICLE THEFT|\n",
      "|               THEFT|\n",
      "|             BATTERY|\n",
      "|             ROBBERY|\n",
      "|            HOMICIDE|\n",
      "|           RITUALISM|\n",
      "|    PUBLIC INDECENCY|\n",
      "| CRIM SEXUAL ASSAULT|\n",
      "+--------------------+\n",
      "only showing top 20 rows\n",
      "\n"
     ]
    }
   ],
   "source": [
    "rc.select('Primary Type').distinct().show()"
   ]
  },
  {
   "cell_type": "code",
   "execution_count": 0,
   "metadata": {
    "colab": {
     "base_uri": "https://localhost:8080/",
     "height": 255
    },
    "colab_type": "code",
    "id": "bEYBCF4McG9n",
    "outputId": "c3c9d585-c533-4f34-a184-fdfdd7e16ea6"
   },
   "outputs": [
    {
     "name": "stdout",
     "output_type": "stream",
     "text": [
      "+-----+-----------+-------------------+--------------------+----+------------+-------------------+--------------------+------+--------+----+--------+----+--------------+--------+------------+------------+----+--------------------+------------+-------------+--------------------+\n",
      "|   ID|Case Number|               Date|               Block|IUCR|Primary Type|        Description|Location Description|Arrest|Domestic|Beat|District|Ward|Community Area|FBI Code|X Coordinate|Y Coordinate|Year|          Updated On|    Latitude|    Longitude|            Location|\n",
      "+-----+-----------+-------------------+--------------------+----+------------+-------------------+--------------------+------+--------+----+--------+----+--------------+--------+------------+------------+----+--------------------+------------+-------------+--------------------+\n",
      "| 2174|   HJ374672|2003-05-20 03:15:00|  015XX N LASALLE ST|0110|    HOMICIDE|FIRST DEGREE MURDER|           APARTMENT|  true|    true|1821|     018|null|          null|     01A|        null|        null|2003|05/03/2018 03:49:...|        null|         null|                null|\n",
      "|24251|   JB418561|2018-09-09 15:35:00|063XX S FRANCISCO...|0110|    HOMICIDE|FIRST DEGREE MURDER|              STREET| false|   false|0823|     008|  17|            66|     01A|     1158140|     1862376|2018|06/13/2019 04:03:...|41.778103008|-87.695803034|(41.778103008, -8...|\n",
      "|  983|    G446123|2001-07-29 10:15:00|  011XX N LASALLE ST|0110|    HOMICIDE|FIRST DEGREE MURDER|               ALLEY|  true|   false|1824|     018|null|          null|     01A|        null|        null|2001|05/03/2018 03:49:...|        null|         null|                null|\n",
      "|24041|   JB340723|2018-07-08 12:46:00|  055XX W HADDON AVE|0110|    HOMICIDE|FIRST DEGREE MURDER|              STREET|  true|   false|1524|     015|  37|            25|     01A|     1139021|     1907115|2018|06/06/2019 04:02:...|41.901241115|-87.764809559|(41.901241115, -8...|\n",
      "|24584|   JB102719|2018-01-03 11:38:00|   068XX S EVANS AVE|0110|    HOMICIDE|FIRST DEGREE MURDER|           APARTMENT|  true|    true|0321|     003|  20|            42|     01A|     1182393|     1859883|2018|06/06/2019 04:02:...| 41.77073417|-87.606968284|(41.77073417, -87...|\n",
      "+-----+-----------+-------------------+--------------------+----+------------+-------------------+--------------------+------+--------+----+--------+----+--------------+--------+------------+------------+----+--------------------+------------+-------------+--------------------+\n",
      "only showing top 5 rows\n",
      "\n",
      "Exec time is: 83.24198532104492\n"
     ]
    }
   ],
   "source": [
    "t0 = t.time()\n",
    "rc.orderBy(col('IUCR')).show(5)\n",
    "t1=t.time()\n",
    "print('Exec time is:', t1-t0)"
   ]
  },
  {
   "cell_type": "code",
   "execution_count": 0,
   "metadata": {
    "colab": {
     "base_uri": "https://localhost:8080/",
     "height": 35
    },
    "colab_type": "code",
    "id": "G2jl-DqId1rY",
    "outputId": "b6ef9f0e-0ed8-48bd-8986-2a0715e2a439"
   },
   "outputs": [
    {
     "name": "stdout",
     "output_type": "stream",
     "text": [
      "Exec time is: 1.0197012424468994\n"
     ]
    }
   ],
   "source": [
    "t0 = t.time()\n",
    "one_day = spark.read.csv('reported-crimes.csv',header=True)\\\n",
    "              .withColumn('Date',to_timestamp(col('Date'),'MM/dd/yyyy hh:mm:ss a'))\\\n",
    "              .filter(col('Date') == lit('2018-11-12'))\n",
    "t1=t.time()\n",
    "print('Exec time is:', t1-t0)"
   ]
  },
  {
   "cell_type": "code",
   "execution_count": 0,
   "metadata": {
    "colab": {
     "base_uri": "https://localhost:8080/",
     "height": 35
    },
    "colab_type": "code",
    "id": "UkyQXt_PeRs3",
    "outputId": "7c0508ea-1eca-4aca-83e2-ee66b828c54f"
   },
   "outputs": [
    {
     "data": {
      "text/plain": [
       "3"
      ]
     },
     "execution_count": 24,
     "metadata": {
      "tags": []
     },
     "output_type": "execute_result"
    }
   ],
   "source": [
    "one_day.count()"
   ]
  },
  {
   "cell_type": "markdown",
   "metadata": {
    "colab_type": "text",
    "id": "NY8A_JYjjCqq"
   },
   "source": [
    "# Order By"
   ]
  },
  {
   "cell_type": "code",
   "execution_count": 0,
   "metadata": {
    "colab": {
     "base_uri": "https://localhost:8080/",
     "height": 255
    },
    "colab_type": "code",
    "id": "XmXVtFAseVgm",
    "outputId": "fcac20be-7521-49ab-974f-761fe29a735d"
   },
   "outputs": [
    {
     "name": "stdout",
     "output_type": "stream",
     "text": [
      "+--------+-----------+-------------------+--------------------+----+-------------------+--------------------+--------------------+------+--------+----+--------+----+--------------+--------+------------+------------+----+--------------------+------------+-------------+--------------------+\n",
      "|      ID|Case Number|               Date|               Block|IUCR|       Primary Type|         Description|Location Description|Arrest|Domestic|Beat|District|Ward|Community Area|FBI Code|X Coordinate|Y Coordinate|Year|          Updated On|    Latitude|    Longitude|            Location|\n",
      "+--------+-----------+-------------------+--------------------+----+-------------------+--------------------+--------------------+------+--------+----+--------+----+--------------+--------+------------+------------+----+--------------------+------------+-------------+--------------------+\n",
      "|11516594|   JB528186|2018-11-12 00:00:00| 049XX S PRAIRIE AVE|2826|      OTHER OFFENSE|HARASSMENT BY ELE...|               OTHER| false|   false|0224|     002|   3|            38|      26|     1178879|     1872259|2018|11/28/2018 04:14:...|41.804775828|-87.619472488|(41.804775828, -8...|\n",
      "|11505149|   JB513151|2018-11-12 00:00:00|  003XX S WHIPPLE ST|0810|              THEFT|           OVER $500|              STREET| false|   false|1124|     011|  28|            27|      06|     1156099|     1898319|2018|11/19/2018 04:22:...|41.876776356|-87.702317641|(41.876776356, -8...|\n",
      "|11540042|   JB559262|2018-11-12 00:00:00| 010XX N DEARBORN ST|1140| DECEPTIVE PRACTICE|        EMBEZZLEMENT|   CONVENIENCE STORE|  true|   false|1824|     018|   2|             8|      12|     1175747|     1907348|2018|03/16/2019 04:01:...|41.901133376|-87.629904979|(41.901133376, -8...|\n",
      "|11504330|   JB512058|2018-11-10 23:55:00|021XX W GREENLEAF...|0820|              THEFT|      $500 AND UNDER|              STREET| false|   false|2411|     024|  50|             2|      06|     1160583|     1946926|2018|11/17/2018 04:14:...|42.010065214|-87.684502849|(42.010065214, -8...|\n",
      "|11503920|   JB511504|2018-11-10 23:53:00|081XX S HERMITAGE...|0910|MOTOR VEHICLE THEFT|          AUTOMOBILE|           APARTMENT| false|   false|0614|     006|  21|            71|      07|     1166095|     1850727|2018|11/17/2018 04:14:...|41.745971025|-87.666970419|(41.745971025, -8...|\n",
      "+--------+-----------+-------------------+--------------------+----+-------------------+--------------------+--------------------+------+--------+----+--------+----+--------------+--------+------------+------------+----+--------------------+------------+-------------+--------------------+\n",
      "only showing top 5 rows\n",
      "\n",
      "Exec time is: 144.41774368286133\n"
     ]
    }
   ],
   "source": [
    "t0 = t.time()\n",
    "rc.union(one_day).orderBy('Date',ascending=False ).show(5)\n",
    "t1=t.time()\n",
    "print('Exec time is:', t1-t0)"
   ]
  },
  {
   "cell_type": "markdown",
   "metadata": {
    "colab_type": "text",
    "id": "zd5ODohkjEnh"
   },
   "source": [
    "# Group By"
   ]
  },
  {
   "cell_type": "code",
   "execution_count": 0,
   "metadata": {
    "colab": {
     "base_uri": "https://localhost:8080/",
     "height": 508
    },
    "colab_type": "code",
    "id": "_V18B0joem63",
    "outputId": "61a5e8a6-3c08-43b0-f169-3f55cf9e019b"
   },
   "outputs": [
    {
     "name": "stdout",
     "output_type": "stream",
     "text": [
      "+--------------------+-------+\n",
      "|        Primary Type|  count|\n",
      "+--------------------+-------+\n",
      "|OFFENSE INVOLVING...|  45648|\n",
      "|            STALKING|   3384|\n",
      "|PUBLIC PEACE VIOL...|  47785|\n",
      "|           OBSCENITY|    581|\n",
      "|NON-CRIMINAL (SUB...|      9|\n",
      "|               ARSON|  11156|\n",
      "|   DOMESTIC VIOLENCE|      1|\n",
      "|            GAMBLING|  14422|\n",
      "|   CRIMINAL TRESPASS| 193370|\n",
      "|             ASSAULT| 418501|\n",
      "|      NON - CRIMINAL|     38|\n",
      "|LIQUOR LAW VIOLATION|  14067|\n",
      "| MOTOR VEHICLE THEFT| 314143|\n",
      "|               THEFT|1418406|\n",
      "|             BATTERY|1232209|\n",
      "|             ROBBERY| 255600|\n",
      "|            HOMICIDE|   9456|\n",
      "|           RITUALISM|     23|\n",
      "|    PUBLIC INDECENCY|    161|\n",
      "| CRIM SEXUAL ASSAULT|  27363|\n",
      "+--------------------+-------+\n",
      "only showing top 20 rows\n",
      "\n",
      "Exec time is: 51.06878352165222\n"
     ]
    }
   ],
   "source": [
    "t0 = t.time()\n",
    "rc.groupby('Primary Type').count().show()\n",
    "t1=t.time()\n",
    "print('Exec time is:', t1-t0)"
   ]
  },
  {
   "cell_type": "code",
   "execution_count": 0,
   "metadata": {
    "colab": {
     "base_uri": "https://localhost:8080/",
     "height": 326
    },
    "colab_type": "code",
    "id": "vdb8_16ufXH3",
    "outputId": "0c62c056-3fda-49ff-bec5-45375e5654ee"
   },
   "outputs": [
    {
     "name": "stdout",
     "output_type": "stream",
     "text": [
      "+-------------------+-------+\n",
      "|       Primary Type|  count|\n",
      "+-------------------+-------+\n",
      "|              THEFT|1418406|\n",
      "|            BATTERY|1232209|\n",
      "|    CRIMINAL DAMAGE| 771495|\n",
      "|          NARCOTICS| 711578|\n",
      "|      OTHER OFFENSE| 418802|\n",
      "|            ASSAULT| 418501|\n",
      "|           BURGLARY| 388028|\n",
      "|MOTOR VEHICLE THEFT| 314143|\n",
      "| DECEPTIVE PRACTICE| 265126|\n",
      "|            ROBBERY| 255600|\n",
      "+-------------------+-------+\n",
      "only showing top 10 rows\n",
      "\n",
      "Exec time is: 50.37006855010986\n"
     ]
    }
   ],
   "source": [
    "t0 = t.time()\n",
    "rc.groupby('Primary Type').count().orderBy('count',ascending=False).show(10)\n",
    "t1=t.time()\n",
    "print('Exec time is:', t1-t0)"
   ]
  },
  {
   "cell_type": "code",
   "execution_count": 0,
   "metadata": {
    "colab": {
     "base_uri": "https://localhost:8080/",
     "height": 35
    },
    "colab_type": "code",
    "id": "sxP8xlaDjO8A",
    "outputId": "c33826a5-c339-4e78-c7b4-4bf9cb097766"
   },
   "outputs": [
    {
     "name": "stdout",
     "output_type": "stream",
     "text": [
      "Exec time is: 109.26197528839111\n"
     ]
    }
   ],
   "source": [
    "t0 = t.time()\n",
    "arrest_pc = rc.filter(col('Arrest')=='true').count()/rc.select('Arrest').count()*100\n",
    "t1=t.time()\n",
    "print('Exec time is:', t1-t0)\n"
   ]
  },
  {
   "cell_type": "code",
   "execution_count": 0,
   "metadata": {
    "colab": {
     "base_uri": "https://localhost:8080/",
     "height": 35
    },
    "colab_type": "code",
    "id": "N5Zk5R5Ck_BP",
    "outputId": "f45da31e-5801-4802-e7c9-d36d78918873"
   },
   "outputs": [
    {
     "data": {
      "text/plain": [
       "27.75313883071234"
      ]
     },
     "execution_count": 41,
     "metadata": {
      "tags": []
     },
     "output_type": "execute_result"
    }
   ],
   "source": [
    "arrest_pc"
   ]
  },
  {
   "cell_type": "code",
   "execution_count": 0,
   "metadata": {
    "colab": {
     "base_uri": "https://localhost:8080/",
     "height": 199
    },
    "colab_type": "code",
    "id": "qWBbvy8NkYAk",
    "outputId": "c0789821-e29a-48a2-ea9c-47d2dc19630f"
   },
   "outputs": [
    {
     "name": "stdout",
     "output_type": "stream",
     "text": [
      "+--------------------+-------+\n",
      "|Location Description|  count|\n",
      "+--------------------+-------+\n",
      "|              STREET|1770558|\n",
      "|           RESIDENCE|1144355|\n",
      "|           APARTMENT| 698039|\n",
      "+--------------------+-------+\n",
      "only showing top 3 rows\n",
      "\n",
      "Exec time is: 51.45025324821472\n"
     ]
    }
   ],
   "source": [
    "t0 = t.time()\n",
    "top_3_loc = rc.groupby('Location Description').count().orderBy('count', ascending=False).show(3)\n",
    "t1=t.time()\n",
    "print('Exec time is:', t1-t0)\n"
   ]
  },
  {
   "cell_type": "markdown",
   "metadata": {
    "colab_type": "text",
    "id": "_KG-6u__ozkA"
   },
   "source": [
    "# Built-in Functions"
   ]
  },
  {
   "cell_type": "code",
   "execution_count": 0,
   "metadata": {
    "colab": {},
    "colab_type": "code",
    "id": "_ZLRax0GlYUH"
   },
   "outputs": [],
   "source": [
    "from pyspark.sql import functions "
   ]
  },
  {
   "cell_type": "code",
   "execution_count": 0,
   "metadata": {
    "colab": {},
    "colab_type": "code",
    "id": "0q6xcATZmGmJ"
   },
   "outputs": [],
   "source": [
    "# dir(functions)"
   ]
  },
  {
   "cell_type": "code",
   "execution_count": 0,
   "metadata": {
    "colab": {},
    "colab_type": "code",
    "id": "x_dtEfJnmIIp"
   },
   "outputs": [],
   "source": [
    "from pyspark.sql.functions import lower, upper, substring"
   ]
  },
  {
   "cell_type": "code",
   "execution_count": 0,
   "metadata": {
    "colab": {
     "base_uri": "https://localhost:8080/",
     "height": 217
    },
    "colab_type": "code",
    "id": "gfNTFFbRngDM",
    "outputId": "b35b1863-03e0-44d2-fbb0-bcafee7cd1b7"
   },
   "outputs": [
    {
     "name": "stdout",
     "output_type": "stream",
     "text": [
      "+-------------------+-------------------+-----------------------------+\n",
      "|lower(Primary Type)|upper(Primary Type)|substring(Primary Type, 1, 4)|\n",
      "+-------------------+-------------------+-----------------------------+\n",
      "| deceptive practice| DECEPTIVE PRACTICE|                         DECE|\n",
      "|crim sexual assault|CRIM SEXUAL ASSAULT|                         CRIM|\n",
      "|           burglary|           BURGLARY|                         BURG|\n",
      "|              theft|              THEFT|                         THEF|\n",
      "|crim sexual assault|CRIM SEXUAL ASSAULT|                         CRIM|\n",
      "+-------------------+-------------------+-----------------------------+\n",
      "only showing top 5 rows\n",
      "\n"
     ]
    }
   ],
   "source": [
    "rc.select(lower(col('Primary Type')),upper(col('Primary Type')), substring(col('Primary Type'),1,4)).show(5)"
   ]
  },
  {
   "cell_type": "code",
   "execution_count": 0,
   "metadata": {
    "colab": {},
    "colab_type": "code",
    "id": "SFIupQTEn5v9"
   },
   "outputs": [],
   "source": [
    "from pyspark.sql.functions import min, max"
   ]
  },
  {
   "cell_type": "code",
   "execution_count": 0,
   "metadata": {
    "colab": {
     "base_uri": "https://localhost:8080/",
     "height": 126
    },
    "colab_type": "code",
    "id": "2Z1vbw0ko7mf",
    "outputId": "36ab6dca-6b8b-413c-e909-326deb051be6"
   },
   "outputs": [
    {
     "name": "stdout",
     "output_type": "stream",
     "text": [
      "+-------------------+-------------------+\n",
      "|          min(Date)|          max(Date)|\n",
      "+-------------------+-------------------+\n",
      "|2001-01-01 00:00:00|2018-11-10 23:55:00|\n",
      "+-------------------+-------------------+\n",
      "\n"
     ]
    }
   ],
   "source": [
    "rc.select(min(col('Date')),max(col('Date'))).show(1)"
   ]
  },
  {
   "cell_type": "markdown",
   "metadata": {
    "colab_type": "text",
    "id": "FtGBuekNscgH"
   },
   "source": [
    "# Working with Dates and Time"
   ]
  },
  {
   "cell_type": "code",
   "execution_count": 0,
   "metadata": {
    "colab": {},
    "colab_type": "code",
    "id": "xXCB02xcpDJQ"
   },
   "outputs": [],
   "source": [
    "from pyspark.sql.functions import date_add, date_sub"
   ]
  },
  {
   "cell_type": "code",
   "execution_count": 0,
   "metadata": {
    "colab": {
     "base_uri": "https://localhost:8080/",
     "height": 217
    },
    "colab_type": "code",
    "id": "jkZx5TPrqS7C",
    "outputId": "14dfcbd6-7d13-4a7a-cd94-d0967acb8f50"
   },
   "outputs": [
    {
     "name": "stdout",
     "output_type": "stream",
     "text": [
      "Help on function date_add in module pyspark.sql.functions:\n",
      "\n",
      "date_add(start, days)\n",
      "    Returns the date that is `days` days after `start`\n",
      "    \n",
      "    >>> df = spark.createDataFrame([('2015-04-08',)], ['dt'])\n",
      "    >>> df.select(date_add(df.dt, 1).alias('next_date')).collect()\n",
      "    [Row(next_date=datetime.date(2015, 4, 9))]\n",
      "    \n",
      "    .. versionadded:: 1.5\n",
      "\n"
     ]
    }
   ],
   "source": [
    "help(date_add)"
   ]
  },
  {
   "cell_type": "code",
   "execution_count": 0,
   "metadata": {
    "colab": {
     "base_uri": "https://localhost:8080/",
     "height": 217
    },
    "colab_type": "code",
    "id": "C_2pCrvhqUbC",
    "outputId": "12d93156-a939-4515-a923-24ae726c4b89"
   },
   "outputs": [
    {
     "name": "stdout",
     "output_type": "stream",
     "text": [
      "Help on function date_sub in module pyspark.sql.functions:\n",
      "\n",
      "date_sub(start, days)\n",
      "    Returns the date that is `days` days before `start`\n",
      "    \n",
      "    >>> df = spark.createDataFrame([('2015-04-08',)], ['dt'])\n",
      "    >>> df.select(date_sub(df.dt, 1).alias('prev_date')).collect()\n",
      "    [Row(prev_date=datetime.date(2015, 4, 7))]\n",
      "    \n",
      "    .. versionadded:: 1.5\n",
      "\n"
     ]
    }
   ],
   "source": [
    "help(date_sub)"
   ]
  },
  {
   "cell_type": "code",
   "execution_count": 0,
   "metadata": {
    "colab": {
     "base_uri": "https://localhost:8080/",
     "height": 126
    },
    "colab_type": "code",
    "id": "J5xwaZXYqgDS",
    "outputId": "3b53166b-c361-4b33-8d18-a6d1d478875f"
   },
   "outputs": [
    {
     "name": "stdout",
     "output_type": "stream",
     "text": [
      "+----------------------+----------------------+\n",
      "|date_sub(min(Date), 3)|date_add(max(Date), 3)|\n",
      "+----------------------+----------------------+\n",
      "|            2000-12-29|            2018-11-13|\n",
      "+----------------------+----------------------+\n",
      "\n"
     ]
    }
   ],
   "source": [
    "rc.select(date_sub(min('Date'),3),date_add(max('Date'),3)).show(1)"
   ]
  },
  {
   "cell_type": "code",
   "execution_count": 0,
   "metadata": {
    "colab": {},
    "colab_type": "code",
    "id": "MyBcO7m6qvBD"
   },
   "outputs": [],
   "source": [
    "from pyspark.sql.functions import to_date, to_timestamp, lit"
   ]
  },
  {
   "cell_type": "code",
   "execution_count": 0,
   "metadata": {
    "colab": {
     "base_uri": "https://localhost:8080/",
     "height": 126
    },
    "colab_type": "code",
    "id": "W27s1OmJslyF",
    "outputId": "5b967c3f-c72c-4f98-fb74-8badf07e3a02"
   },
   "outputs": [
    {
     "name": "stdout",
     "output_type": "stream",
     "text": [
      "+-------------------+\n",
      "|          Christmas|\n",
      "+-------------------+\n",
      "|2019-12-05 13:20:00|\n",
      "+-------------------+\n",
      "\n"
     ]
    }
   ],
   "source": [
    "df = spark.createDataFrame([('2019-12-05 13:20:00',)],['Christmas'])\n",
    "df.show(1)"
   ]
  },
  {
   "cell_type": "code",
   "execution_count": 0,
   "metadata": {
    "colab": {
     "base_uri": "https://localhost:8080/",
     "height": 126
    },
    "colab_type": "code",
    "id": "Bx6lqNI6s5HW",
    "outputId": "286660a9-3afc-42de-e9db-a958ea388215"
   },
   "outputs": [
    {
     "name": "stdout",
     "output_type": "stream",
     "text": [
      "+-------------------------------------------+------------------------------------------------+\n",
      "|to_date(`Christmas`, 'yyyy-MM-dd HH:mm:ss')|to_timestamp(`Christmas`, 'yyyy-MM-dd HH:mm:ss')|\n",
      "+-------------------------------------------+------------------------------------------------+\n",
      "|                                 2019-12-05|                             2019-12-05 13:20:00|\n",
      "+-------------------------------------------+------------------------------------------------+\n",
      "\n"
     ]
    }
   ],
   "source": [
    "df.select(to_date(col('Christmas'),'yyyy-MM-dd HH:mm:ss'), to_timestamp(col('Christmas'),'yyyy-MM-dd HH:mm:ss')).show(1)"
   ]
  },
  {
   "cell_type": "code",
   "execution_count": 0,
   "metadata": {
    "colab": {
     "base_uri": "https://localhost:8080/",
     "height": 126
    },
    "colab_type": "code",
    "id": "mSFFRvU7tK63",
    "outputId": "e757c85d-ab30-444e-a9ea-9fe62874a921"
   },
   "outputs": [
    {
     "name": "stdout",
     "output_type": "stream",
     "text": [
      "+--------------------+\n",
      "|           Christmas|\n",
      "+--------------------+\n",
      "|25/Dec/2019 13:20:00|\n",
      "+--------------------+\n",
      "\n"
     ]
    }
   ],
   "source": [
    "df = spark.createDataFrame([('25/Dec/2019 13:20:00',)],['Christmas'])\n",
    "df.show(1)"
   ]
  },
  {
   "cell_type": "code",
   "execution_count": 0,
   "metadata": {
    "colab": {
     "base_uri": "https://localhost:8080/",
     "height": 126
    },
    "colab_type": "code",
    "id": "IwqGK1dPtYkI",
    "outputId": "ff1d559c-ddce-4f53-94dc-fa6eddde7e27"
   },
   "outputs": [
    {
     "name": "stdout",
     "output_type": "stream",
     "text": [
      "+--------------------------------------------+-------------------------------------------------+\n",
      "|to_date(`Christmas`, 'dd/MMM/yyyy HH:mm:ss')|to_timestamp(`Christmas`, 'dd/MMM/yyyy HH:mm:ss')|\n",
      "+--------------------------------------------+-------------------------------------------------+\n",
      "|                                  2019-12-25|                              2019-12-25 13:20:00|\n",
      "+--------------------------------------------+-------------------------------------------------+\n",
      "\n"
     ]
    }
   ],
   "source": [
    "df.select(to_date(col('Christmas'),'dd/MMM/yyyy HH:mm:ss'), to_timestamp(col('Christmas'),'dd/MMM/yyyy HH:mm:ss')).show(1)"
   ]
  },
  {
   "cell_type": "code",
   "execution_count": 0,
   "metadata": {
    "colab": {
     "base_uri": "https://localhost:8080/",
     "height": 126
    },
    "colab_type": "code",
    "id": "ny9e14nstf1H",
    "outputId": "e5de8fc9-1744-417d-ff72-7c6ec900a654"
   },
   "outputs": [
    {
     "name": "stdout",
     "output_type": "stream",
     "text": [
      "+----------------------+\n",
      "|Christmas             |\n",
      "+----------------------+\n",
      "|12/25/2019 13:20:00 PM|\n",
      "+----------------------+\n",
      "\n"
     ]
    }
   ],
   "source": [
    "df = spark.createDataFrame([('12/25/2019 13:20:00 PM',)],['Christmas'])\n",
    "df.show(1,truncate=False)"
   ]
  },
  {
   "cell_type": "code",
   "execution_count": 0,
   "metadata": {
    "colab": {
     "base_uri": "https://localhost:8080/",
     "height": 126
    },
    "colab_type": "code",
    "id": "36xGPuztuYIZ",
    "outputId": "46386c47-4642-4174-f3f7-25f897bee6a8"
   },
   "outputs": [
    {
     "name": "stdout",
     "output_type": "stream",
     "text": [
      "+----------------------------------------------+---------------------------------------------------+\n",
      "|to_date(`Christmas`, 'MM/dd/yyyy HH:mm:ss aa')|to_timestamp(`Christmas`, 'MM/dd/yyyy HH:mm:ss aa')|\n",
      "+----------------------------------------------+---------------------------------------------------+\n",
      "|                                    2019-12-25|                                2019-12-25 13:20:00|\n",
      "+----------------------------------------------+---------------------------------------------------+\n",
      "\n"
     ]
    }
   ],
   "source": [
    "df.select(to_date(col('Christmas'),'MM/dd/yyyy HH:mm:ss aa'), to_timestamp(col('Christmas'),'MM/dd/yyyy HH:mm:ss aa')).show(1)"
   ]
  },
  {
   "cell_type": "markdown",
   "metadata": {
    "colab_type": "text",
    "id": "qrjeQ0v5wQEk"
   },
   "source": [
    "## Downloading Chicago's police station dataset"
   ]
  },
  {
   "cell_type": "code",
   "execution_count": 0,
   "metadata": {
    "colab": {
     "base_uri": "https://localhost:8080/",
     "height": 345
    },
    "colab_type": "code",
    "id": "UO-y-djku4DJ",
    "outputId": "dfbfe779-755b-4ed6-f654-8159ce1d20ac"
   },
   "outputs": [
    {
     "name": "stdout",
     "output_type": "stream",
     "text": [
      "--2019-12-31 11:39:48--  https://data.cityofchicago.org/api/views/z8bn-74gv/rows.csv?accessType=DOWNLOAD\n",
      "Resolving data.cityofchicago.org (data.cityofchicago.org)... 52.206.140.205, 52.206.68.26, 52.206.140.199\n",
      "Connecting to data.cityofchicago.org (data.cityofchicago.org)|52.206.140.205|:443... connected.\n",
      "HTTP request sent, awaiting response... 200 OK\n",
      "Length: unspecified [text/csv]\n",
      "Saving to: ‘police-stations.csv’\n",
      "\n",
      "police-stations.csv     [ <=>                ]   5.57K  --.-KB/s    in 0s      \n",
      "\n",
      "2019-12-31 11:39:50 (555 MB/s) - ‘police-stations.csv’ saved [5699]\n",
      "\n",
      "total 1841332\n",
      "-rw-r--r--  1 root root       5699 Aug 19 01:26 police-stations.csv\n",
      "-rw-r--r--  1 root root 1659605276 Dec 30 12:12 reported-crimes.csv\n",
      "drwxr-xr-x  1 root root       4096 Dec 18 16:52 sample_data\n",
      "drwxrwxr-x 13 1000 1000       4096 Jun  1  2018 spark-2.3.1-bin-hadoop2.7\n",
      "-rw-r--r--  1 root root  225883783 Jun  1  2018 spark-2.3.1-bin-hadoop2.7.tgz\n",
      "drwxr-xr-x  2 root root       4096 Dec 31 09:34 spark-warehouse\n"
     ]
    }
   ],
   "source": [
    "!wget -O police-stations.csv https://data.cityofchicago.org/api/views/z8bn-74gv/rows.csv?accessType=DOWNLOAD\n",
    "!ls -l"
   ]
  },
  {
   "cell_type": "code",
   "execution_count": 0,
   "metadata": {
    "colab": {
     "base_uri": "https://localhost:8080/",
     "height": 237
    },
    "colab_type": "code",
    "id": "9UiSH7n3wR1r",
    "outputId": "7c5aee78-3f42-42ff-8372-39837e478342"
   },
   "outputs": [
    {
     "name": "stdout",
     "output_type": "stream",
     "text": [
      "+------------+--------------+--------------------+-------+-----+-----+--------------------+------------+------------+------------+------------+------------+-----------+------------+--------------------+\n",
      "|    DISTRICT| DISTRICT NAME|             ADDRESS|   CITY|STATE|  ZIP|             WEBSITE|       PHONE|         FAX|         TTY|X COORDINATE|Y COORDINATE|   LATITUDE|   LONGITUDE|            LOCATION|\n",
      "+------------+--------------+--------------------+-------+-----+-----+--------------------+------------+------------+------------+------------+------------+-----------+------------+--------------------+\n",
      "|           1|       Central|     1718 S State St|Chicago|   IL|60616|http://home.chica...|312-745-4290|312-745-3694|312-745-3693| 1176569.052| 1891771.704|41.85837259|-87.62735617|(41.8583725929, -...|\n",
      "|           6|       Gresham|   7808 S Halsted St|Chicago|   IL|60620|http://home.chica...|312-745-3617|312-745-3649|312-745-3639| 1172283.013| 1853022.646|41.75213684|-87.64422891|(41.7521368378, -...|\n",
      "|          11|      Harrison|  3151 W Harrison St|Chicago|   IL|60612|http://home.chica...|312-746-8386|312-746-4281|312-746-5151| 1155244.069| 1897148.755|41.87358229|-87.70548813|(41.8735822883, -...|\n",
      "|          16|Jefferson Park|5151 N Milwaukee Ave|Chicago|   IL|60630|http://home.chica...|312-742-4480|312-742-4421|312-742-4423| 1138480.758| 1933660.473|41.97409445|-87.76614884|(41.9740944511, -...|\n",
      "|Headquarters|  Headquarters| 3510 S Michigan Ave|Chicago|   IL|60653|http://home.chica...|        null|        null|        null| 1177731.401| 1881697.404|41.83070169|-87.62339535|(41.8307016873, -...|\n",
      "+------------+--------------+--------------------+-------+-----+-----+--------------------+------------+------------+------------+------------+------------+-----------+------------+--------------------+\n",
      "only showing top 5 rows\n",
      "\n"
     ]
    }
   ],
   "source": [
    "ps = spark.read.csv('police-stations.csv',header=True)\n",
    "ps.show(5)"
   ]
  },
  {
   "cell_type": "code",
   "execution_count": 0,
   "metadata": {
    "colab": {
     "base_uri": "https://localhost:8080/",
     "height": 35
    },
    "colab_type": "code",
    "id": "6l1sEn3YweH7",
    "outputId": "b0f47033-d5ec-45a8-a1b9-a53b80b52386"
   },
   "outputs": [
    {
     "data": {
      "text/plain": [
       "6751957"
      ]
     },
     "execution_count": 88,
     "metadata": {
      "tags": []
     },
     "output_type": "execute_result"
    }
   ],
   "source": [
    "# rc.cache()\n",
    "rc.count()"
   ]
  },
  {
   "cell_type": "code",
   "execution_count": 0,
   "metadata": {
    "colab": {
     "base_uri": "https://localhost:8080/",
     "height": 545
    },
    "colab_type": "code",
    "id": "mcutOCFlw2ib",
    "outputId": "fb7c945a-4e4a-4e13-af34-801ac29041e6"
   },
   "outputs": [
    {
     "name": "stdout",
     "output_type": "stream",
     "text": [
      "+--------------------+\n",
      "|            DISTRICT|\n",
      "+--------------------+\n",
      "|                   7|\n",
      "|                  15|\n",
      "|                  11|\n",
      "|                   3|\n",
      "|                   8|\n",
      "|                  22|\n",
      "|                  16|\n",
      "|                   5|\n",
      "|                  18|\n",
      "|                  17|\n",
      "|                   6|\n",
      "|                  19|\n",
      "|                  25|\n",
      "|        Headquarters|\n",
      "|                  24|\n",
      "|                   9|\n",
      "|                   1|\n",
      "|                  20|\n",
      "|                  10|\n",
      "|                   4|\n",
      "|                  12|\n",
      "|                  14|\n",
      "|                   2|\n",
      "|\",Chicago,IL,6060...|\n",
      "+--------------------+\n",
      "\n"
     ]
    }
   ],
   "source": [
    "  ps.select('DISTRICT').distinct().show(30)"
   ]
  },
  {
   "cell_type": "code",
   "execution_count": 0,
   "metadata": {
    "colab": {
     "base_uri": "https://localhost:8080/",
     "height": 563
    },
    "colab_type": "code",
    "id": "57OF2tTBxoib",
    "outputId": "589ddfaa-29b5-4f7e-a1b4-e1cac3421b81"
   },
   "outputs": [
    {
     "name": "stdout",
     "output_type": "stream",
     "text": [
      "+--------+\n",
      "|district|\n",
      "+--------+\n",
      "|     009|\n",
      "|     012|\n",
      "|     024|\n",
      "|    null|\n",
      "|     031|\n",
      "|     015|\n",
      "|     006|\n",
      "|     019|\n",
      "|     020|\n",
      "|     011|\n",
      "|     025|\n",
      "|     003|\n",
      "|     005|\n",
      "|     016|\n",
      "|     018|\n",
      "|     008|\n",
      "|     022|\n",
      "|     001|\n",
      "|     014|\n",
      "|     010|\n",
      "|     004|\n",
      "|     017|\n",
      "|     007|\n",
      "|     021|\n",
      "|     002|\n",
      "+--------+\n",
      "\n"
     ]
    }
   ],
   "source": [
    "rc.select('district').distinct().show(30)"
   ]
  },
  {
   "cell_type": "code",
   "execution_count": 0,
   "metadata": {
    "colab": {},
    "colab_type": "code",
    "id": "SWjP3pZfxzqt"
   },
   "outputs": [],
   "source": [
    "from pyspark.sql.functions import lpad"
   ]
  },
  {
   "cell_type": "code",
   "execution_count": 0,
   "metadata": {
    "colab": {
     "base_uri": "https://localhost:8080/",
     "height": 217
    },
    "colab_type": "code",
    "id": "MhZ67CDPyDV9",
    "outputId": "21620a67-6772-4c85-eeb9-87c7c45f6ac0"
   },
   "outputs": [
    {
     "name": "stdout",
     "output_type": "stream",
     "text": [
      "Help on function lpad in module pyspark.sql.functions:\n",
      "\n",
      "lpad(col, len, pad)\n",
      "    Left-pad the string column to width `len` with `pad`.\n",
      "    \n",
      "    >>> df = spark.createDataFrame([('abcd',)], ['s',])\n",
      "    >>> df.select(lpad(df.s, 6, '#').alias('s')).collect()\n",
      "    [Row(s='##abcd')]\n",
      "    \n",
      "    .. versionadded:: 1.5\n",
      "\n"
     ]
    }
   ],
   "source": [
    "help(lpad)"
   ]
  },
  {
   "cell_type": "code",
   "execution_count": 0,
   "metadata": {
    "colab": {
     "base_uri": "https://localhost:8080/",
     "height": 490
    },
    "colab_type": "code",
    "id": "FjMJAiHIyEpM",
    "outputId": "c27c425d-757b-412b-ad59-022ae685fbf3"
   },
   "outputs": [
    {
     "name": "stdout",
     "output_type": "stream",
     "text": [
      "+--------------------+\n",
      "|lpad(DISTRICT, 3, 0)|\n",
      "+--------------------+\n",
      "|                 001|\n",
      "|                 006|\n",
      "|                 011|\n",
      "|                 016|\n",
      "|                 Hea|\n",
      "|                 024|\n",
      "|                 002|\n",
      "|                 007|\n",
      "|                 025|\n",
      "|                 010|\n",
      "|                 015|\n",
      "|                 003|\n",
      "|                 014|\n",
      "|                 008|\n",
      "|                 004|\n",
      "|                 020|\n",
      "|                 018|\n",
      "|                 012|\n",
      "|                 \",C|\n",
      "|                 009|\n",
      "+--------------------+\n",
      "only showing top 20 rows\n",
      "\n"
     ]
    }
   ],
   "source": [
    "ps.select(lpad(col('DISTRICT'),3,'0')).show()"
   ]
  },
  {
   "cell_type": "code",
   "execution_count": 0,
   "metadata": {
    "colab": {
     "base_uri": "https://localhost:8080/",
     "height": 237
    },
    "colab_type": "code",
    "id": "t6-pJWj4yPUM",
    "outputId": "3b1cc85d-d2a7-4bda-8287-f2d2b58339e8"
   },
   "outputs": [
    {
     "name": "stdout",
     "output_type": "stream",
     "text": [
      "+------------+--------------+--------------------+-------+-----+-----+--------------------+------------+------------+------------+------------+------------+-----------+------------+--------------------+---------------+\n",
      "|    DISTRICT| DISTRICT NAME|             ADDRESS|   CITY|STATE|  ZIP|             WEBSITE|       PHONE|         FAX|         TTY|X COORDINATE|Y COORDINATE|   LATITUDE|   LONGITUDE|            LOCATION|Format_district|\n",
      "+------------+--------------+--------------------+-------+-----+-----+--------------------+------------+------------+------------+------------+------------+-----------+------------+--------------------+---------------+\n",
      "|           1|       Central|     1718 S State St|Chicago|   IL|60616|http://home.chica...|312-745-4290|312-745-3694|312-745-3693| 1176569.052| 1891771.704|41.85837259|-87.62735617|(41.8583725929, -...|            001|\n",
      "|           6|       Gresham|   7808 S Halsted St|Chicago|   IL|60620|http://home.chica...|312-745-3617|312-745-3649|312-745-3639| 1172283.013| 1853022.646|41.75213684|-87.64422891|(41.7521368378, -...|            006|\n",
      "|          11|      Harrison|  3151 W Harrison St|Chicago|   IL|60612|http://home.chica...|312-746-8386|312-746-4281|312-746-5151| 1155244.069| 1897148.755|41.87358229|-87.70548813|(41.8735822883, -...|            011|\n",
      "|          16|Jefferson Park|5151 N Milwaukee Ave|Chicago|   IL|60630|http://home.chica...|312-742-4480|312-742-4421|312-742-4423| 1138480.758| 1933660.473|41.97409445|-87.76614884|(41.9740944511, -...|            016|\n",
      "|Headquarters|  Headquarters| 3510 S Michigan Ave|Chicago|   IL|60653|http://home.chica...|        null|        null|        null| 1177731.401| 1881697.404|41.83070169|-87.62339535|(41.8307016873, -...|            Hea|\n",
      "+------------+--------------+--------------------+-------+-----+-----+--------------------+------------+------------+------------+------------+------------+-----------+------------+--------------------+---------------+\n",
      "only showing top 5 rows\n",
      "\n"
     ]
    }
   ],
   "source": [
    "ps=ps.withColumn('Format_district',lpad(col('DISTRICT'),3,'0'))\n",
    "ps.show(5)"
   ]
  },
  {
   "cell_type": "code",
   "execution_count": 0,
   "metadata": {
    "colab": {
     "base_uri": "https://localhost:8080/",
     "height": 510
    },
    "colab_type": "code",
    "id": "12zG4e1_yZPN",
    "outputId": "c6a0cba5-dfc3-46f9-d25f-ccd22b49e8aa"
   },
   "outputs": [
    {
     "name": "stdout",
     "output_type": "stream",
     "text": [
      "+--------+-----------+-------------------+--------------------+----+--------------------+--------------------+--------------------+------+--------+----+--------+----+--------------+--------+------------+------------+----+--------------------+--------+---------+--------+--------+--------------+--------------------+-------+-----+-----+--------------------+------------+------------+------------+------------+------------+-----------+------------+--------------------+---------------+\n",
      "|      ID|Case Number|               Date|               Block|IUCR|        Primary Type|         Description|Location Description|Arrest|Domestic|Beat|District|Ward|Community Area|FBI Code|X Coordinate|Y Coordinate|Year|          Updated On|Latitude|Longitude|Location|DISTRICT| DISTRICT NAME|             ADDRESS|   CITY|STATE|  ZIP|             WEBSITE|       PHONE|         FAX|         TTY|X COORDINATE|Y COORDINATE|   LATITUDE|   LONGITUDE|            LOCATION|Format_district|\n",
      "+--------+-----------+-------------------+--------------------+----+--------------------+--------------------+--------------------+------+--------+----+--------+----+--------------+--------+------------+------------+----+--------------------+--------+---------+--------+--------+--------------+--------------------+-------+-----+-----+--------------------+------------+------------+------------+------------+------------+-----------+------------+--------------------+---------------+\n",
      "|11034701|   JA366925|2001-01-01 11:00:00|     016XX E 86TH PL|1153|  DECEPTIVE PRACTICE|FINANCIAL IDENTIT...|           RESIDENCE| false|   false|0412|     004|   8|            45|      11|        null|        null|2001|08/05/2017 03:50:...|    null|     null|    null|       4| South Chicago|     2255 E 103rd St|Chicago|   IL|60617|http://home.chica...|312-747-7581|312-747-5276|312-747-9169| 1193131.299| 1837090.265|41.70793329|-87.56834912|(41.7079332906, -...|            004|\n",
      "|11227287|   JB147188|2017-10-08 03:00:00|  092XX S RACINE AVE|0281| CRIM SEXUAL ASSAULT|      NON-AGGRAVATED|           RESIDENCE| false|   false|2222|     022|  21|            73|      02|        null|        null|2017|02/11/2018 03:57:...|    null|     null|    null|      22|   Morgan Park| 1900 W Monterey Ave|Chicago|   IL|60643|http://home.chica...|312-745-0710|312-745-0814|312-745-0569| 1165825.476| 1830851.333|41.69143478|-87.66852039|(41.6914347795, -...|            022|\n",
      "|11227583|   JB147595|2017-03-28 14:00:00|     026XX W 79TH ST|0620|            BURGLARY|      UNLAWFUL ENTRY|               OTHER| false|   false|0835|     008|  18|            70|      05|        null|        null|2017|02/11/2018 03:57:...|    null|     null|    null|       8|  Chicago Lawn|      3420 W 63rd St|Chicago|   IL|60629|http://home.chica...|312-747-8730|312-747-8545|312-747-8116| 1154575.242| 1862672.049|41.77898719|-87.70886382|(41.778987189, -8...|            008|\n",
      "|11227293|   JB147230|2017-09-09 20:17:00|060XX S EBERHART AVE|0810|               THEFT|           OVER $500|           RESIDENCE| false|   false|0313|     003|  20|            42|      06|        null|        null|2017|02/11/2018 03:57:...|    null|     null|    null|       3|Grand Crossing|7040 S Cottage Gr...|Chicago|   IL|60637|http://home.chica...|312-747-8201|312-747-5479|312-747-9168| 1182739.183| 1858317.732|41.76643089|-87.60574786|(41.7664308925, -...|            003|\n",
      "|11227634|   JB147599|2017-08-26 10:00:00| 001XX W RANDOLPH ST|0281| CRIM SEXUAL ASSAULT|      NON-AGGRAVATED|         HOTEL/MOTEL| false|   false|0122|     001|  42|            32|      02|        null|        null|2017|02/11/2018 03:57:...|    null|     null|    null|       1|       Central|     1718 S State St|Chicago|   IL|60616|http://home.chica...|312-745-4290|312-745-3694|312-745-3693| 1176569.052| 1891771.704|41.85837259|-87.62735617|(41.8583725929, -...|            001|\n",
      "|11227517|   JB138481|2013-02-10 00:00:00|071XX S LAFAYETTE...|0266| CRIM SEXUAL ASSAULT|           PREDATORY|           RESIDENCE| false|   false|0731|     007|   6|            69|      02|        null|        null|2013|02/11/2018 03:57:...|    null|     null|    null|       7|     Englewood|      1438 W 63rd St|Chicago|   IL|60636|http://home.chica...|312-747-8223|312-747-6558|312-747-6652| 1167659.235| 1863005.522|41.77963154|-87.66088702|(41.7796315359, -...|            007|\n",
      "|11227503|   JB146383|2015-01-01 00:01:00|061XX S KILBOURN AVE|1751|OFFENSE INVOLVING...|CRIM SEX ABUSE BY...|           RESIDENCE| false|    true|0813|     008|  13|            65|      17|        null|        null|2015|04/12/2019 04:00:...|    null|     null|    null|       8|  Chicago Lawn|      3420 W 63rd St|Chicago|   IL|60629|http://home.chica...|312-747-8730|312-747-8545|312-747-8116| 1154575.242| 1862672.049|41.77898719|-87.70886382|(41.778987189, -8...|            008|\n",
      "|11227508|   JB146365|2017-01-01 00:01:00|  027XX S WHIPPLE ST|1754|OFFENSE INVOLVING...|AGG SEX ASSLT OF ...|           RESIDENCE| false|   false|1033|     010|  12|            30|      02|        null|        null|2017|02/11/2018 03:57:...|    null|     null|    null|      10|         Ogden|    3315 W Ogden Ave|Chicago|   IL|60623|http://home.chica...|312-747-7511|312-747-7429|312-747-7471| 1154500.753| 1890985.501|41.85668453|-87.70838196|(41.8566845327, -...|            010|\n",
      "|11022695|   JA353568|2017-07-17 10:10:00| 021XX W MC LEAN AVE|0810|               THEFT|           OVER $500|           RESIDENCE| false|   false|1432|     014|  32|            22|      06|        null|        null|2017|07/24/2017 03:54:...|    null|     null|    null|      14|   Shakespeare|2150 N California...|Chicago|   IL|60647|http://home.chica...|312-744-8250|312-744-2422|312-744-8260| 1157304.426| 1914481.521|41.92110332|-87.69745182|(41.9211033246, -...|            014|\n",
      "|11227633|   JB147500|2017-12-28 15:55:00|011XX S MICHIGAN AVE|1153|  DECEPTIVE PRACTICE|FINANCIAL IDENTIT...|                null| false|   false|0123|     001|   2|            32|      11|        null|        null|2017|02/11/2018 03:57:...|    null|     null|    null|       1|       Central|     1718 S State St|Chicago|   IL|60616|http://home.chica...|312-745-4290|312-745-3694|312-745-3693| 1176569.052| 1891771.704|41.85837259|-87.62735617|(41.8583725929, -...|            001|\n",
      "|11227586|   JB147613|2017-02-10 12:00:00|089XX S COTTAGE G...|1310|     CRIMINAL DAMAGE|         TO PROPERTY|           APARTMENT| false|   false|0633|     006|   8|            44|      14|        null|        null|2017|02/11/2018 03:57:...|    null|     null|    null|       6|       Gresham|   7808 S Halsted St|Chicago|   IL|60620|http://home.chica...|312-745-3617|312-745-3649|312-745-3639| 1172283.013| 1853022.646|41.75213684|-87.64422891|(41.7521368378, -...|            006|\n",
      "|11227475|   JB147314|2017-11-22 02:42:00|056XX N CHRISTIAN...|2826|       OTHER OFFENSE|HARASSMENT BY ELE...|           APARTMENT| false|    true|1711|     017|  39|            13|      26|        null|        null|2017|02/11/2018 03:57:...|    null|     null|    null|      17|   Albany Park|   4650 N Pulaski Rd|Chicago|   IL|60630|http://home.chica...|312-742-4410|312-742-5411|312-742-5451|  1148843.91| 1930801.058|41.96605342|-87.72811456|(41.9660534171, -...|            017|\n",
      "|11227247|   JB147078|2012-01-01 09:00:00|105XX S INDIANAPO...|1153|  DECEPTIVE PRACTICE|FINANCIAL IDENTIT...|           RESIDENCE| false|   false|0432|     004|  10|            52|      11|        null|        null|2012|02/11/2018 03:57:...|    null|     null|    null|       4| South Chicago|     2255 E 103rd St|Chicago|   IL|60617|http://home.chica...|312-747-7581|312-747-5276|312-747-9169| 1193131.299| 1837090.265|41.70793329|-87.56834912|(41.7079332906, -...|            004|\n",
      "|11036284|   JA370282|2017-07-29 15:40:00|   014XX W Devon Ave|0820|               THEFT|      $500 AND UNDER|            SIDEWALK| false|   false|2432|     024|  40|             1|      06|        null|        null|2017|08/05/2017 03:50:...|    null|     null|    null|      24|   Rogers Park|     6464 N Clark St|Chicago|   IL|60626|http://home.chica...|312-744-5907|312-744-6928|312-744-7603| 1164193.588| 1943199.401|41.99976348|-87.67132429|(41.9997634842, -...|            024|\n",
      "|11227509|   JB146413|2017-01-22 00:01:00|079XX S JEFFERY BLVD|1752|OFFENSE INVOLVING...|AGG CRIM SEX ABUS...|           APARTMENT| false|   false|0414|     004|   8|            46|      20|        null|        null|2017|02/11/2018 03:57:...|    null|     null|    null|       4| South Chicago|     2255 E 103rd St|Chicago|   IL|60617|http://home.chica...|312-747-7581|312-747-5276|312-747-9169| 1193131.299| 1837090.265|41.70793329|-87.56834912|(41.7079332906, -...|            004|\n",
      "|11227407|   JB147329|2017-10-14 00:01:00|037XX N SOUTHPORT...|1150|  DECEPTIVE PRACTICE|   CREDIT CARD FRAUD|               OTHER| false|   false|1922|     019|  44|             6|      11|        null|        null|2017|02/22/2018 03:56:...|    null|     null|    null|      19|     Town Hall|    850 W Addison St|Chicago|   IL|60613|http://home.chica...|312-744-8320|312-744-4481|312-744-8011| 1169730.744| 1924160.317|41.94740046|-87.65151202|(41.9474004564, -...|            019|\n",
      "|11028056|   JA359834|2014-10-15 15:00:00|  047XX S PULASKI RD|1153|  DECEPTIVE PRACTICE|FINANCIAL IDENTIT...|PARKING LOT/GARAG...| false|   false|0821|     008|  14|            57|      11|        null|        null|2014|07/24/2017 03:54:...|    null|     null|    null|       8|  Chicago Lawn|      3420 W 63rd St|Chicago|   IL|60629|http://home.chica...|312-747-8730|312-747-8545|312-747-8116| 1154575.242| 1862672.049|41.77898719|-87.70886382|(41.778987189, -8...|            008|\n",
      "|11028299|   JA360073|2015-05-30 00:00:00| 074XX S HARVARD AVE|1753|OFFENSE INVOLVING...|SEX ASSLT OF CHIL...|           RESIDENCE| false|    true|0731|     007|  17|            69|      02|        null|        null|2015|05/15/2018 03:52:...|    null|     null|    null|       7|     Englewood|      1438 W 63rd St|Chicago|   IL|60636|http://home.chica...|312-747-8223|312-747-6558|312-747-6652| 1167659.235| 1863005.522|41.77963154|-87.66088702|(41.7796315359, -...|            007|\n",
      "|11028290|   JA360134|2015-05-30 00:00:00| 074XX S HARVARD AVE|1753|OFFENSE INVOLVING...|SEX ASSLT OF CHIL...|           RESIDENCE| false|    true|0731|     007|  17|            69|      02|        null|        null|2015|05/22/2018 04:05:...|    null|     null|    null|       7|     Englewood|      1438 W 63rd St|Chicago|   IL|60636|http://home.chica...|312-747-8223|312-747-6558|312-747-6652| 1167659.235| 1863005.522|41.77963154|-87.66088702|(41.7796315359, -...|            007|\n",
      "|11041422|   JA375398|2017-07-29 10:00:00|022XX W WINNEMAC AVE|0810|               THEFT|           OVER $500|    RESIDENCE-GARAGE| false|   false|2031|     020|  47|             4|      06|        null|        null|2017|08/05/2017 03:50:...|    null|     null|    null|      20|       Lincoln|  5400 N Lincoln Ave|Chicago|   IL|60625|http://home.chica...|312-742-8714|312-742-8803|312-742-8841| 1158399.146| 1935788.826|41.97954951|-87.69284451|(41.9795495131, -...|            020|\n",
      "+--------+-----------+-------------------+--------------------+----+--------------------+--------------------+--------------------+------+--------+----+--------+----+--------------+--------+------------+------------+----+--------------------+--------+---------+--------+--------+--------------+--------------------+-------+-----+-----+--------------------+------------+------------+------------+------------+------------+-----------+------------+--------------------+---------------+\n",
      "only showing top 20 rows\n",
      "\n"
     ]
    }
   ],
   "source": [
    "rc.join(ps, rc.District ==ps.Format_district,'left_outer' ).show()"
   ]
  },
  {
   "cell_type": "code",
   "execution_count": 0,
   "metadata": {
    "colab": {
     "base_uri": "https://localhost:8080/",
     "height": 308
    },
    "colab_type": "code",
    "id": "r6ZooXXYyvyN",
    "outputId": "8aa09635-8774-40fb-9258-3d8768b63240"
   },
   "outputs": [
    {
     "data": {
      "text/plain": [
       "['DISTRICT',\n",
       " 'DISTRICT NAME',\n",
       " 'ADDRESS',\n",
       " 'CITY',\n",
       " 'STATE',\n",
       " 'ZIP',\n",
       " 'WEBSITE',\n",
       " 'PHONE',\n",
       " 'FAX',\n",
       " 'TTY',\n",
       " 'X COORDINATE',\n",
       " 'Y COORDINATE',\n",
       " 'LATITUDE',\n",
       " 'LONGITUDE',\n",
       " 'LOCATION',\n",
       " 'Format_district']"
      ]
     },
     "execution_count": 89,
     "metadata": {
      "tags": []
     },
     "output_type": "execute_result"
    }
   ],
   "source": [
    "ps.columns"
   ]
  },
  {
   "cell_type": "code",
   "execution_count": 0,
   "metadata": {
    "colab": {
     "base_uri": "https://localhost:8080/",
     "height": 510
    },
    "colab_type": "code",
    "id": "6DHYlLT6zxF-",
    "outputId": "f617862d-565d-4bd6-9854-eebeba5a8569"
   },
   "outputs": [
    {
     "name": "stdout",
     "output_type": "stream",
     "text": [
      "+--------+-----------+-------------------+--------------------+----+--------------------+--------------------+--------------------+------+--------+----+--------+----+--------------+--------+----+--------------------+--------+--------------+\n",
      "|      ID|Case Number|               Date|               Block|IUCR|        Primary Type|         Description|Location Description|Arrest|Domestic|Beat|District|Ward|Community Area|FBI Code|Year|          Updated On|DISTRICT| DISTRICT NAME|\n",
      "+--------+-----------+-------------------+--------------------+----+--------------------+--------------------+--------------------+------+--------+----+--------+----+--------------+--------+----+--------------------+--------+--------------+\n",
      "|11034701|   JA366925|2001-01-01 11:00:00|     016XX E 86TH PL|1153|  DECEPTIVE PRACTICE|FINANCIAL IDENTIT...|           RESIDENCE| false|   false|0412|     004|   8|            45|      11|2001|08/05/2017 03:50:...|       4| South Chicago|\n",
      "|11227287|   JB147188|2017-10-08 03:00:00|  092XX S RACINE AVE|0281| CRIM SEXUAL ASSAULT|      NON-AGGRAVATED|           RESIDENCE| false|   false|2222|     022|  21|            73|      02|2017|02/11/2018 03:57:...|      22|   Morgan Park|\n",
      "|11227583|   JB147595|2017-03-28 14:00:00|     026XX W 79TH ST|0620|            BURGLARY|      UNLAWFUL ENTRY|               OTHER| false|   false|0835|     008|  18|            70|      05|2017|02/11/2018 03:57:...|       8|  Chicago Lawn|\n",
      "|11227293|   JB147230|2017-09-09 20:17:00|060XX S EBERHART AVE|0810|               THEFT|           OVER $500|           RESIDENCE| false|   false|0313|     003|  20|            42|      06|2017|02/11/2018 03:57:...|       3|Grand Crossing|\n",
      "|11227634|   JB147599|2017-08-26 10:00:00| 001XX W RANDOLPH ST|0281| CRIM SEXUAL ASSAULT|      NON-AGGRAVATED|         HOTEL/MOTEL| false|   false|0122|     001|  42|            32|      02|2017|02/11/2018 03:57:...|       1|       Central|\n",
      "|11227517|   JB138481|2013-02-10 00:00:00|071XX S LAFAYETTE...|0266| CRIM SEXUAL ASSAULT|           PREDATORY|           RESIDENCE| false|   false|0731|     007|   6|            69|      02|2013|02/11/2018 03:57:...|       7|     Englewood|\n",
      "|11227503|   JB146383|2015-01-01 00:01:00|061XX S KILBOURN AVE|1751|OFFENSE INVOLVING...|CRIM SEX ABUSE BY...|           RESIDENCE| false|    true|0813|     008|  13|            65|      17|2015|04/12/2019 04:00:...|       8|  Chicago Lawn|\n",
      "|11227508|   JB146365|2017-01-01 00:01:00|  027XX S WHIPPLE ST|1754|OFFENSE INVOLVING...|AGG SEX ASSLT OF ...|           RESIDENCE| false|   false|1033|     010|  12|            30|      02|2017|02/11/2018 03:57:...|      10|         Ogden|\n",
      "|11022695|   JA353568|2017-07-17 10:10:00| 021XX W MC LEAN AVE|0810|               THEFT|           OVER $500|           RESIDENCE| false|   false|1432|     014|  32|            22|      06|2017|07/24/2017 03:54:...|      14|   Shakespeare|\n",
      "|11227633|   JB147500|2017-12-28 15:55:00|011XX S MICHIGAN AVE|1153|  DECEPTIVE PRACTICE|FINANCIAL IDENTIT...|                null| false|   false|0123|     001|   2|            32|      11|2017|02/11/2018 03:57:...|       1|       Central|\n",
      "|11227586|   JB147613|2017-02-10 12:00:00|089XX S COTTAGE G...|1310|     CRIMINAL DAMAGE|         TO PROPERTY|           APARTMENT| false|   false|0633|     006|   8|            44|      14|2017|02/11/2018 03:57:...|       6|       Gresham|\n",
      "|11227475|   JB147314|2017-11-22 02:42:00|056XX N CHRISTIAN...|2826|       OTHER OFFENSE|HARASSMENT BY ELE...|           APARTMENT| false|    true|1711|     017|  39|            13|      26|2017|02/11/2018 03:57:...|      17|   Albany Park|\n",
      "|11227247|   JB147078|2012-01-01 09:00:00|105XX S INDIANAPO...|1153|  DECEPTIVE PRACTICE|FINANCIAL IDENTIT...|           RESIDENCE| false|   false|0432|     004|  10|            52|      11|2012|02/11/2018 03:57:...|       4| South Chicago|\n",
      "|11036284|   JA370282|2017-07-29 15:40:00|   014XX W Devon Ave|0820|               THEFT|      $500 AND UNDER|            SIDEWALK| false|   false|2432|     024|  40|             1|      06|2017|08/05/2017 03:50:...|      24|   Rogers Park|\n",
      "|11227509|   JB146413|2017-01-22 00:01:00|079XX S JEFFERY BLVD|1752|OFFENSE INVOLVING...|AGG CRIM SEX ABUS...|           APARTMENT| false|   false|0414|     004|   8|            46|      20|2017|02/11/2018 03:57:...|       4| South Chicago|\n",
      "|11227407|   JB147329|2017-10-14 00:01:00|037XX N SOUTHPORT...|1150|  DECEPTIVE PRACTICE|   CREDIT CARD FRAUD|               OTHER| false|   false|1922|     019|  44|             6|      11|2017|02/22/2018 03:56:...|      19|     Town Hall|\n",
      "|11028056|   JA359834|2014-10-15 15:00:00|  047XX S PULASKI RD|1153|  DECEPTIVE PRACTICE|FINANCIAL IDENTIT...|PARKING LOT/GARAG...| false|   false|0821|     008|  14|            57|      11|2014|07/24/2017 03:54:...|       8|  Chicago Lawn|\n",
      "|11028299|   JA360073|2015-05-30 00:00:00| 074XX S HARVARD AVE|1753|OFFENSE INVOLVING...|SEX ASSLT OF CHIL...|           RESIDENCE| false|    true|0731|     007|  17|            69|      02|2015|05/15/2018 03:52:...|       7|     Englewood|\n",
      "|11028290|   JA360134|2015-05-30 00:00:00| 074XX S HARVARD AVE|1753|OFFENSE INVOLVING...|SEX ASSLT OF CHIL...|           RESIDENCE| false|    true|0731|     007|  17|            69|      02|2015|05/22/2018 04:05:...|       7|     Englewood|\n",
      "|11041422|   JA375398|2017-07-29 10:00:00|022XX W WINNEMAC AVE|0810|               THEFT|           OVER $500|    RESIDENCE-GARAGE| false|   false|2031|     020|  47|             4|      06|2017|08/05/2017 03:50:...|      20|       Lincoln|\n",
      "+--------+-----------+-------------------+--------------------+----+--------------------+--------------------+--------------------+------+--------+----+--------+----+--------------+--------+----+--------------------+--------+--------------+\n",
      "only showing top 20 rows\n",
      "\n"
     ]
    }
   ],
   "source": [
    "rc.join(ps, rc.District ==ps.Format_district,'left_outer' ).drop(\n",
    " 'ADDRESS',\n",
    " 'CITY',\n",
    " 'STATE',\n",
    " 'ZIP',\n",
    " 'WEBSITE',\n",
    " 'PHONE',\n",
    " 'FAX',\n",
    " 'TTY',\n",
    " 'X COORDINATE',\n",
    " 'Y COORDINATE',\n",
    " 'LATITUDE',\n",
    " 'LONGITUDE',\n",
    " 'LOCATION',\n",
    " 'Format_district').show()"
   ]
  },
  {
   "cell_type": "markdown",
   "metadata": {
    "colab_type": "text",
    "id": "lyPUq8ma0TuJ"
   },
   "source": [
    "# Challenge"
   ]
  },
  {
   "cell_type": "code",
   "execution_count": 0,
   "metadata": {
    "colab": {
     "base_uri": "https://localhost:8080/",
     "height": 490
    },
    "colab_type": "code",
    "id": "6uTTd5u70Uz0",
    "outputId": "6050e32c-80b0-4a91-8420-0123de3a491f"
   },
   "outputs": [
    {
     "name": "stdout",
     "output_type": "stream",
     "text": [
      "+--------------------------------+\n",
      "|Primary Type                    |\n",
      "+--------------------------------+\n",
      "|OFFENSE INVOLVING CHILDREN      |\n",
      "|STALKING                        |\n",
      "|PUBLIC PEACE VIOLATION          |\n",
      "|OBSCENITY                       |\n",
      "|NON-CRIMINAL (SUBJECT SPECIFIED)|\n",
      "|ARSON                           |\n",
      "|DOMESTIC VIOLENCE               |\n",
      "|GAMBLING                        |\n",
      "|CRIMINAL TRESPASS               |\n",
      "|ASSAULT                         |\n",
      "|NON - CRIMINAL                  |\n",
      "|LIQUOR LAW VIOLATION            |\n",
      "|MOTOR VEHICLE THEFT             |\n",
      "|THEFT                           |\n",
      "|BATTERY                         |\n",
      "|ROBBERY                         |\n",
      "|HOMICIDE                        |\n",
      "|RITUALISM                       |\n",
      "|PUBLIC INDECENCY                |\n",
      "|CRIM SEXUAL ASSAULT             |\n",
      "+--------------------------------+\n",
      "only showing top 20 rows\n",
      "\n"
     ]
    }
   ],
   "source": [
    "rc.select('Primary Type').distinct().show(truncate=False)"
   ]
  },
  {
   "cell_type": "code",
   "execution_count": 0,
   "metadata": {
    "colab": {},
    "colab_type": "code",
    "id": "4KgNsEL92ykD"
   },
   "outputs": [],
   "source": [
    "from pyspark.sql.functions import regexp_extract"
   ]
  },
  {
   "cell_type": "code",
   "execution_count": 0,
   "metadata": {
    "colab": {
     "base_uri": "https://localhost:8080/",
     "height": 490
    },
    "colab_type": "code",
    "id": "zfby6Dgd0fMf",
    "outputId": "dcb656ad-e66c-4861-d311-a80c963c9c92"
   },
   "outputs": [
    {
     "name": "stdout",
     "output_type": "stream",
     "text": [
      "+----------------------------------+\n",
      "|regexp_extract(Primary Type, -, 1)|\n",
      "+----------------------------------+\n",
      "|                                  |\n",
      "|                                  |\n",
      "|                                  |\n",
      "|                                  |\n",
      "|                                  |\n",
      "|                                  |\n",
      "|                                  |\n",
      "|                                  |\n",
      "|                                  |\n",
      "|                                  |\n",
      "|                                  |\n",
      "|                                  |\n",
      "|                                  |\n",
      "|                                  |\n",
      "|                                  |\n",
      "|                                  |\n",
      "|                                  |\n",
      "|                                  |\n",
      "|                                  |\n",
      "|                                  |\n",
      "+----------------------------------+\n",
      "only showing top 20 rows\n",
      "\n"
     ]
    }
   ],
   "source": [
    "rc.select(regexp_extract('Primary Type', '-',1)).show()"
   ]
  },
  {
   "cell_type": "code",
   "execution_count": 0,
   "metadata": {
    "colab": {
     "base_uri": "https://localhost:8080/",
     "height": 345
    },
    "colab_type": "code",
    "id": "ORzsZ_fe09y_",
    "outputId": "92b6b47a-c104-4262-807a-e10439ad1284"
   },
   "outputs": [
    {
     "name": "stdout",
     "output_type": "stream",
     "text": [
      "Help on function regexp_extract in module pyspark.sql.functions:\n",
      "\n",
      "regexp_extract(str, pattern, idx)\n",
      "    Extract a specific group matched by a Java regex, from the specified string column.\n",
      "    If the regex did not match, or the specified group did not match, an empty string is returned.\n",
      "    \n",
      "    >>> df = spark.createDataFrame([('100-200',)], ['str'])\n",
      "    >>> df.select(regexp_extract('str', '(\\d+)-(\\d+)', 1).alias('d')).collect()\n",
      "    [Row(d='100')]\n",
      "    >>> df = spark.createDataFrame([('foo',)], ['str'])\n",
      "    >>> df.select(regexp_extract('str', '(\\d+)', 1).alias('d')).collect()\n",
      "    [Row(d='')]\n",
      "    >>> df = spark.createDataFrame([('aaaac',)], ['str'])\n",
      "    >>> df.select(regexp_extract('str', '(a+)(b)?(c)', 2).alias('d')).collect()\n",
      "    [Row(d='')]\n",
      "    \n",
      "    .. versionadded:: 1.5\n",
      "\n"
     ]
    }
   ],
   "source": [
    "help(regexp_extract)"
   ]
  },
  {
   "cell_type": "code",
   "execution_count": 0,
   "metadata": {
    "colab": {},
    "colab_type": "code",
    "id": "f4dD63bx5wJR"
   },
   "outputs": [],
   "source": []
  }
 ],
 "metadata": {
  "accelerator": "GPU",
  "colab": {
   "collapsed_sections": [],
   "include_colab_link": true,
   "name": "PySpark_By_Example.ipynb",
   "provenance": []
  },
  "kernelspec": {
   "display_name": "Python 3",
   "language": "python",
   "name": "python3"
  },
  "language_info": {
   "codemirror_mode": {
    "name": "ipython",
    "version": 3
   },
   "file_extension": ".py",
   "mimetype": "text/x-python",
   "name": "python",
   "nbconvert_exporter": "python",
   "pygments_lexer": "ipython3",
   "version": "3.6.4"
  }
 },
 "nbformat": 4,
 "nbformat_minor": 1
}
