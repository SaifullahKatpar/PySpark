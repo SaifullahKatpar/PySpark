{
  "nbformat": 4,
  "nbformat_minor": 0,
  "metadata": {
    "colab": {
      "name": "NY_Taxi_x07(1).ipynb",
      "provenance": [],
      "collapsed_sections": [],
      "include_colab_link": true
    },
    "kernelspec": {
      "name": "python3",
      "display_name": "Python 3"
    },
    "accelerator": "GPU"
  },
  "cells": [
    {
      "cell_type": "markdown",
      "metadata": {
        "id": "view-in-github",
        "colab_type": "text"
      },
      "source": [
        "<a href=\"https://colab.research.google.com/github/SaifullahKatpar/PySpark/blob/master/NY_Taxi_x07.ipynb\" target=\"_parent\"><img src=\"https://colab.research.google.com/assets/colab-badge.svg\" alt=\"Open In Colab\"/></a>"
      ]
    },
    {
      "cell_type": "markdown",
      "metadata": {
        "id": "IWBJsWoVBcxL",
        "colab_type": "text"
      },
      "source": [
        "# Setup Spark"
      ]
    },
    {
      "cell_type": "code",
      "metadata": {
        "id": "ApKDFLVg6gV5",
        "colab_type": "code",
        "colab": {}
      },
      "source": [
        "!apt-get install openjdk-8-jdk-headless -qq > /dev/null\n",
        "!wget -q https://www-us.apache.org/dist/spark/spark-2.3.4/spark-2.3.4-bin-hadoop2.7.tgz\n",
        "!tar xf spark-2.3.4-bin-hadoop2.7.tgz\n",
        "!pip install -q findspark"
      ],
      "execution_count": 0,
      "outputs": []
    },
    {
      "cell_type": "code",
      "metadata": {
        "id": "ovWlFEJ2fAxu",
        "colab_type": "code",
        "outputId": "3cd452e6-b948-45d0-f036-cf3e296b3e73",
        "colab": {
          "base_uri": "https://localhost:8080/",
          "height": 35
        }
      },
      "source": [
        "# Install dependencies\n",
        "!pip install pyshp"
      ],
      "execution_count": 0,
      "outputs": [
        {
          "output_type": "stream",
          "text": [
            "Requirement already satisfied: pyshp in /usr/local/lib/python3.6/dist-packages (2.1.0)\n"
          ],
          "name": "stdout"
        }
      ]
    },
    {
      "cell_type": "code",
      "metadata": {
        "id": "Nhl-NVc7Hz8g",
        "colab_type": "code",
        "outputId": "2d74486f-4252-4b9c-b98e-c9f9634c1f5d",
        "colab": {
          "base_uri": "https://localhost:8080/",
          "height": 35
        }
      },
      "source": [
        "import os\n",
        "os.environ[\"JAVA_HOME\"] = \"/usr/lib/jvm/java-8-openjdk-amd64\"\n",
        "os.environ[\"SPARK_HOME\"] = \"/content/spark-2.3.4-bin-hadoop2.7\"\n",
        "\n",
        "import findspark\n",
        "findspark.init()\n",
        "\n",
        "from pyspark import SparkConf\n",
        "SparkConf().set(\"spark.executor.memory\", \"13g\")"
      ],
      "execution_count": 0,
      "outputs": [
        {
          "output_type": "execute_result",
          "data": {
            "text/plain": [
              "<pyspark.conf.SparkConf at 0x7f683cbfeb70>"
            ]
          },
          "metadata": {
            "tags": []
          },
          "execution_count": 3
        }
      ]
    },
    {
      "cell_type": "code",
      "metadata": {
        "id": "gZjVXnaz5hZd",
        "colab_type": "code",
        "outputId": "fa3e575b-86e1-45db-fda4-4cef08c0d00e",
        "colab": {
          "base_uri": "https://localhost:8080/",
          "height": 35
        }
      },
      "source": [
        "# Import the PySpark module\n",
        "from pyspark.sql import SparkSession\n",
        "\n",
        "# Create SparkSession object\n",
        "spark = SparkSession.builder.master('local[*]').appName('test').getOrCreate()\n",
        "\n",
        "\n",
        "# What version of Spark?\n",
        "print(spark.version)"
      ],
      "execution_count": 0,
      "outputs": [
        {
          "output_type": "stream",
          "text": [
            "2.3.4\n"
          ],
          "name": "stdout"
        }
      ]
    },
    {
      "cell_type": "markdown",
      "metadata": {
        "id": "LEyrkSGjpqzK",
        "colab_type": "text"
      },
      "source": [
        "# Libaries"
      ]
    },
    {
      "cell_type": "code",
      "metadata": {
        "id": "vnMy6_BweXQa",
        "colab_type": "code",
        "outputId": "6cd213af-c40c-4212-f1a2-e075474815af",
        "colab": {
          "base_uri": "https://localhost:8080/",
          "height": 73
        }
      },
      "source": [
        "from pyspark import SparkFiles\n",
        "import time\n",
        "import pandas as pd\n",
        "from pyspark.sql.types import IntegerType, TimestampType, DoubleType, StringType, DoubleType, StructType, StructField\n",
        "from pyspark.sql.functions import col\n",
        "import shapefile\n",
        "import seaborn as sns\n",
        "import matplotlib.pyplot as plt\n",
        "import pyspark.sql.functions as func"
      ],
      "execution_count": 0,
      "outputs": [
        {
          "output_type": "stream",
          "text": [
            "/usr/local/lib/python3.6/dist-packages/statsmodels/tools/_testing.py:19: FutureWarning: pandas.util.testing is deprecated. Use the functions in the public API at pandas.testing instead.\n",
            "  import pandas.util.testing as tm\n"
          ],
          "name": "stderr"
        }
      ]
    },
    {
      "cell_type": "markdown",
      "metadata": {
        "id": "XSiAm-rRB0wU",
        "colab_type": "text"
      },
      "source": [
        " # 2. Loading data as parquet files"
      ]
    },
    {
      "cell_type": "markdown",
      "metadata": {
        "id": "mpzMe_HYP-6B",
        "colab_type": "text"
      },
      "source": [
        "##Part-I"
      ]
    },
    {
      "cell_type": "markdown",
      "metadata": {
        "id": "oYoaNg5LCDyE",
        "colab_type": "text"
      },
      "source": [
        "## 1. Read without imposing a schema.\n",
        "\n",
        "**Answer:** Read with inferSchema as None. If None is set, it uses the default value, false.\n"
      ]
    },
    {
      "cell_type": "code",
      "metadata": {
        "id": "gtov0_3_CBsO",
        "colab_type": "code",
        "colab": {}
      },
      "source": [
        "url_2015 = \"https://s3.amazonaws.com/nyc-tlc/trip+data/yellow_tripdata_2015-05.csv\"\n",
        "spark.sparkContext.addFile(url_2015)\n",
        "df_2015 = spark.read.csv(\"file://\"+SparkFiles.get(\"yellow_tripdata_2015-05.csv\"), header=True)\n"
      ],
      "execution_count": 0,
      "outputs": []
    },
    {
      "cell_type": "code",
      "metadata": {
        "id": "X4dWZeu7CGo6",
        "colab_type": "code",
        "colab": {}
      },
      "source": [
        "url_2018 = \"https://s3.amazonaws.com/nyc-tlc/trip+data/yellow_tripdata_2018-05.csv\"\n",
        "spark.sparkContext.addFile(url_2018)\n",
        "df_2018 = spark.read.csv(\"file://\"+SparkFiles.get(\"yellow_tripdata_2018-05.csv\"), header=True)\n"
      ],
      "execution_count": 0,
      "outputs": []
    },
    {
      "cell_type": "markdown",
      "metadata": {
        "id": "jBwwn9chCL7-",
        "colab_type": "text"
      },
      "source": [
        "##2. Inspect the inferred schema. Do you agree with Spark’s typing decision?\n",
        "\n",
        "**Answer:** No. I disagree with the inferred schema as it sets the datatype of every column to string regardless of the value present in column"
      ]
    },
    {
      "cell_type": "code",
      "metadata": {
        "id": "qQB0QdEOCS_h",
        "colab_type": "code",
        "colab": {}
      },
      "source": [
        "df_2015.printSchema()"
      ],
      "execution_count": 0,
      "outputs": []
    },
    {
      "cell_type": "code",
      "metadata": {
        "id": "P0orMPFTCXg0",
        "colab_type": "code",
        "colab": {}
      },
      "source": [
        "df_2018.printSchema()"
      ],
      "execution_count": 0,
      "outputs": []
    },
    {
      "cell_type": "markdown",
      "metadata": {
        "id": "Bo4wCe9gCq3d",
        "colab_type": "text"
      },
      "source": [
        "##3. Eventually correct the schema and read again the data.\n",
        "\n",
        "**Answer**: There are two ways to correct the schema. "
      ]
    },
    {
      "cell_type": "markdown",
      "metadata": {
        "id": "3vEhf2vjn5-J",
        "colab_type": "text"
      },
      "source": [
        "\n",
        "**1. While reading data, set inferSchema = True. It requires one extra pass over the data to get the input schema automatically from data.**\n"
      ]
    },
    {
      "cell_type": "code",
      "metadata": {
        "id": "HE4QsHcpj3RD",
        "colab_type": "code",
        "colab": {}
      },
      "source": [
        "# df_2015_inferred = spark.read.csv(\"file://\"+SparkFiles.get(\"yellow_tripdata_2015-01.csv\"), header=True, inferSchema = True)"
      ],
      "execution_count": 0,
      "outputs": []
    },
    {
      "cell_type": "code",
      "metadata": {
        "id": "cc6dGTBLj5OS",
        "colab_type": "code",
        "colab": {}
      },
      "source": [
        "# df_2018_inferred = spark.read.csv(\"file://\"+SparkFiles.get(\"yellow_tripdata_2018-01.csv\"), header=True, inferSchema = True)"
      ],
      "execution_count": 0,
      "outputs": []
    },
    {
      "cell_type": "code",
      "metadata": {
        "id": "vL-QN0CRlg7Q",
        "colab_type": "code",
        "colab": {}
      },
      "source": [
        "# df_2015_inferred.printSchema()\n",
        "# df_2018_inferred.printSchema()"
      ],
      "execution_count": 0,
      "outputs": []
    },
    {
      "cell_type": "markdown",
      "metadata": {
        "id": "mDSckZEWoEmB",
        "colab_type": "text"
      },
      "source": [
        "**2. Force schema**"
      ]
    },
    {
      "cell_type": "code",
      "metadata": {
        "id": "IA7JnyMSlV7B",
        "colab_type": "code",
        "colab": {}
      },
      "source": [
        "schema_2015 = StructType([\n",
        "    StructField(\"VendorID\", IntegerType()),\n",
        "    StructField(\"tpep_pickup_datetime\", TimestampType()),\n",
        "    StructField(\"tpep_dropoff_datetime\", TimestampType()),\n",
        "    StructField(\"passenger_count\", IntegerType()),\n",
        "    StructField(\"trip_distance\", DoubleType()),\n",
        "    StructField(\"pickup_longitude\", DoubleType()),\n",
        "    StructField(\"pickup_latitude\", DoubleType()),\n",
        "    StructField(\"RateCodeID\", IntegerType()),\n",
        "    StructField(\"store_and_fwd_flag\", StringType()),\n",
        "    StructField(\"dropoff_longitude\", DoubleType()),\n",
        "    StructField(\"dropoff_latitude\", DoubleType()),\n",
        "    StructField(\"payment_type\", IntegerType()),\n",
        "    StructField(\"fare_amount\", DoubleType()),\n",
        "    StructField(\"extra\", DoubleType()),\n",
        "    StructField(\"mta_tax\", DoubleType()),\n",
        "    StructField(\"tip_amount\", DoubleType()),\n",
        "    StructField(\"tolls_amount\", DoubleType()),\n",
        "    StructField(\"improvement_surcharge\", DoubleType()),\n",
        "    StructField(\"total_amount\", DoubleType())\n",
        "])\n",
        "\n",
        "schema_2018 = StructType([\n",
        "    StructField(\"VendorID\", IntegerType()),\n",
        "    StructField(\"tpep_pickup_datetime\", TimestampType()),\n",
        "    StructField(\"tpep_dropoff_datetime\", TimestampType()),\n",
        "    StructField(\"passenger_count\", IntegerType()),\n",
        "    StructField(\"trip_distance\", DoubleType()),\n",
        "    StructField(\"RateCodeID\", IntegerType()),\n",
        "    StructField(\"store_and_fwd_flag\", StringType()),\n",
        "    StructField(\"PULocationID\", IntegerType()),\n",
        "    StructField(\"DOLocationID\", IntegerType()),\n",
        "    StructField(\"payment_type\", IntegerType()),\n",
        "    StructField(\"fare_amount\", DoubleType()),\n",
        "    StructField(\"extra\", DoubleType()),\n",
        "    StructField(\"mta_tax\", DoubleType()),\n",
        "    StructField(\"tip_amount\", DoubleType()),\n",
        "    StructField(\"tolls_amount\", DoubleType()),\n",
        "    StructField(\"improvement_surcharge\", DoubleType()),\n",
        "    StructField(\"total_amount\", DoubleType())\n",
        "])"
      ],
      "execution_count": 0,
      "outputs": []
    },
    {
      "cell_type": "code",
      "metadata": {
        "id": "Y7t7kWnalV-R",
        "colab_type": "code",
        "colab": {}
      },
      "source": [
        "url_2015 = \"https://s3.amazonaws.com/nyc-tlc/trip+data/yellow_tripdata_2015-05.csv\"\n",
        "spark.sparkContext.addFile(url_2015)\n",
        "df_2015_schema = spark.read.csv(\"file://\"+SparkFiles.get(\"yellow_tripdata_2015-05.csv\"), header=True, nullValue='NA', schema=schema_2015)"
      ],
      "execution_count": 0,
      "outputs": []
    },
    {
      "cell_type": "code",
      "metadata": {
        "id": "hw7Q4HjwNqUW",
        "colab_type": "code",
        "colab": {}
      },
      "source": [
        "url_2018 = \"https://s3.amazonaws.com/nyc-tlc/trip+data/yellow_tripdata_2018-05.csv\"\n",
        "spark.sparkContext.addFile(url_2018)\n",
        "df_2018_schema = spark.read.csv(\"file://\"+SparkFiles.get(\"yellow_tripdata_2018-05.csv\"), header=True, nullValue='NA', schema=schema_2018)"
      ],
      "execution_count": 0,
      "outputs": []
    },
    {
      "cell_type": "markdown",
      "metadata": {
        "id": "DL816nfeFunA",
        "colab_type": "text"
      },
      "source": [
        "## 4. Save the data into parquet files given number of partitions and partition column"
      ]
    },
    {
      "cell_type": "code",
      "metadata": {
        "id": "y_KOSdCiFu2r",
        "colab_type": "code",
        "colab": {}
      },
      "source": [
        "df_2015_schema.repartition(1).write.partitionBy('VendorID').mode(\n",
        "\"overwrite\").parquet(\"data/df_2015.parquet\")"
      ],
      "execution_count": 0,
      "outputs": []
    },
    {
      "cell_type": "code",
      "metadata": {
        "id": "UyZebbA8F0HK",
        "colab_type": "code",
        "colab": {}
      },
      "source": [
        "df_2018_schema.repartition(1).write.partitionBy('VendorID').mode(\n",
        "\"overwrite\").parquet(\"data/df_2018.parquet\")"
      ],
      "execution_count": 0,
      "outputs": []
    },
    {
      "cell_type": "markdown",
      "metadata": {
        "id": "mmd0vpCoEvqq",
        "colab_type": "text"
      },
      "source": [
        "##Part-II\n",
        "**1. What is the StorageLevel of the dataframe after reading the csv files?**\n",
        "\n",
        "**Answer:** df.storageLevel(useDisk, useMemory, useOffHeap, deserialized, replication)"
      ]
    },
    {
      "cell_type": "code",
      "metadata": {
        "id": "r3gdvBYZvirW",
        "colab_type": "code",
        "outputId": "1ed93e75-fc05-4795-9897-cfcdb982dfb3",
        "colab": {
          "base_uri": "https://localhost:8080/",
          "height": 36
        }
      },
      "source": [
        "df_2015.storageLevel"
      ],
      "execution_count": 0,
      "outputs": [
        {
          "output_type": "execute_result",
          "data": {
            "text/plain": [
              "StorageLevel(False, False, False, False, 1)"
            ]
          },
          "metadata": {
            "tags": []
          },
          "execution_count": 17
        }
      ]
    },
    {
      "cell_type": "code",
      "metadata": {
        "id": "29DFTKJIE4H5",
        "colab_type": "code",
        "outputId": "7f414891-1990-4b6a-c673-5f76810f512f",
        "colab": {
          "base_uri": "https://localhost:8080/",
          "height": 36
        }
      },
      "source": [
        "df_2018.storageLevel"
      ],
      "execution_count": 0,
      "outputs": [
        {
          "output_type": "execute_result",
          "data": {
            "text/plain": [
              "StorageLevel(False, False, False, False, 1)"
            ]
          },
          "metadata": {
            "tags": []
          },
          "execution_count": 16
        }
      ]
    },
    {
      "cell_type": "markdown",
      "metadata": {
        "id": "oQ9TU4JmE8JY",
        "colab_type": "text"
      },
      "source": [
        "**2. What is the number of partitions of the dataframe?**\n",
        "\n",
        "**Answer:**"
      ]
    },
    {
      "cell_type": "code",
      "metadata": {
        "id": "EBsivIIouDub",
        "colab_type": "code",
        "outputId": "ae8b32c4-36e4-48b3-9672-b6089b546536",
        "colab": {
          "base_uri": "https://localhost:8080/",
          "height": 36
        }
      },
      "source": [
        "df_2015.rdd.getNumPartitions()"
      ],
      "execution_count": 0,
      "outputs": [
        {
          "output_type": "execute_result",
          "data": {
            "text/plain": [
              "16"
            ]
          },
          "metadata": {
            "tags": []
          },
          "execution_count": 18
        }
      ]
    },
    {
      "cell_type": "code",
      "metadata": {
        "id": "I__ltdcdFAyg",
        "colab_type": "code",
        "outputId": "41260b14-0d5e-4d5c-e039-839bfb84cd5b",
        "colab": {
          "base_uri": "https://localhost:8080/",
          "height": 36
        }
      },
      "source": [
        "df_2018.rdd.getNumPartitions()"
      ],
      "execution_count": 0,
      "outputs": [
        {
          "output_type": "execute_result",
          "data": {
            "text/plain": [
              "6"
            ]
          },
          "metadata": {
            "tags": []
          },
          "execution_count": 18
        }
      ]
    },
    {
      "cell_type": "markdown",
      "metadata": {
        "id": "oaH-28PLFFN9",
        "colab_type": "text"
      },
      "source": [
        "**3.Is it possible to tune this number at loading time?**\n",
        "\n",
        "**Answer:** Yes, we can tune the number of partitions at loading time with coalesce(n)."
      ]
    },
    {
      "cell_type": "code",
      "metadata": {
        "id": "qdrbFSLXvdLr",
        "colab_type": "code",
        "colab": {}
      },
      "source": [
        "# df_2015_tuned = spark.read.csv(\"file://\"+SparkFiles.get(\"yellow_tripdata_2015-01.csv\"), header=True, nullValue='NA', schema=schema_2015).coalesce(10)\n"
      ],
      "execution_count": 0,
      "outputs": []
    },
    {
      "cell_type": "code",
      "metadata": {
        "id": "XkBV5WKNx5Wp",
        "colab_type": "code",
        "colab": {}
      },
      "source": [
        "# df_2018_tuned = spark.read.csv(\"file://\"+SparkFiles.get(\"yellow_tripdata_2018-01.csv\"), header=True, nullValue='NA', schema=schema_2018).coalesce(3)\n"
      ],
      "execution_count": 0,
      "outputs": []
    },
    {
      "cell_type": "code",
      "metadata": {
        "id": "izVpKNTGvdOi",
        "colab_type": "code",
        "outputId": "be0f6174-0e68-4245-d0f0-50a234c39848",
        "colab": {
          "base_uri": "https://localhost:8080/",
          "height": 36
        }
      },
      "source": [
        "# df_2015_tuned.rdd.getNumPartitions()"
      ],
      "execution_count": 0,
      "outputs": [
        {
          "output_type": "execute_result",
          "data": {
            "text/plain": [
              "10"
            ]
          },
          "metadata": {
            "tags": []
          },
          "execution_count": 23
        }
      ]
    },
    {
      "cell_type": "code",
      "metadata": {
        "id": "8QkH6flLyOLl",
        "colab_type": "code",
        "outputId": "24afe285-4dd8-46d7-c5d8-267769a451db",
        "colab": {
          "base_uri": "https://localhost:8080/",
          "height": 36
        }
      },
      "source": [
        "# df_2018_tuned.rdd.getNumPartitions()"
      ],
      "execution_count": 0,
      "outputs": [
        {
          "output_type": "execute_result",
          "data": {
            "text/plain": [
              "3"
            ]
          },
          "metadata": {
            "tags": []
          },
          "execution_count": 24
        }
      ]
    },
    {
      "cell_type": "markdown",
      "metadata": {
        "id": "xyfeImUAFXgb",
        "colab_type": "text"
      },
      "source": [
        "**4. Why would we want to modify the number of partitions when creating the parquet files?**\n",
        "\n",
        "**Answer:** Becaue we want to utilize the distributive power of Spark and process data efficiently."
      ]
    },
    {
      "cell_type": "markdown",
      "metadata": {
        "id": "3u2kNw8CWw9d",
        "colab_type": "text"
      },
      "source": [
        "#3. Investigate (at least) one month of data in 2015\n",
        "The following longitudes and lattitudes encompass Newark and JFK airports, Northern Manhattanand Verazzano bridge"
      ]
    },
    {
      "cell_type": "markdown",
      "metadata": {
        "id": "YG3J8ZCgb9uy",
        "colab_type": "text"
      },
      "source": [
        "**Read parquet files**"
      ]
    },
    {
      "cell_type": "code",
      "metadata": {
        "id": "1WGpq6YGcBzd",
        "colab_type": "code",
        "colab": {}
      },
      "source": [
        "parque_2015_df = spark.read.option(\"mergeSchema\", \"true\").parquet(\"data/df_2015.parquet\")"
      ],
      "execution_count": 0,
      "outputs": []
    },
    {
      "cell_type": "code",
      "metadata": {
        "id": "5Pp2BheHdQ6U",
        "colab_type": "code",
        "colab": {}
      },
      "source": [
        "parque_2015_df.show(2)"
      ],
      "execution_count": 0,
      "outputs": []
    },
    {
      "cell_type": "code",
      "metadata": {
        "id": "ZRcJSIk0GiW2",
        "colab_type": "code",
        "colab": {}
      },
      "source": [
        "long_min=-74.10\n",
        "long_max=-73.70\n",
        "lat_min=40.58\n",
        "lat_max=40.90"
      ],
      "execution_count": 0,
      "outputs": []
    },
    {
      "cell_type": "markdown",
      "metadata": {
        "id": "n1DHn1pmBvOB",
        "colab_type": "text"
      },
      "source": [
        "Using these boundaries,filter the 2015 data(using pickup and dropoff longitude andlatitude) and count the number of trips for each value of passenger_count and make a plot of that."
      ]
    },
    {
      "cell_type": "code",
      "metadata": {
        "id": "gKAwHALgW2ZO",
        "colab_type": "code",
        "colab": {}
      },
      "source": [
        "filtered_df = parque_2015_df.filter( \n",
        "    (func.round(col('pickup_longitude'),2)>= long_min) & \n",
        "    (func.round(col('pickup_longitude'),2)<= long_max ) &\n",
        "    (func.round(col('pickup_latitude'),2)>= lat_min ) & \n",
        "    (func.round(col('pickup_latitude'),2)<=  lat_max) &\n",
        "    (func.round(col('dropoff_longitude'),2)>= long_min) & \n",
        "    (func.round(col('dropoff_longitude'),2)<= long_max ) &\n",
        "    (func.round(col('dropoff_latitude'),2)>= lat_min ) & \n",
        "    (func.round(col('dropoff_latitude'),2)<=  lat_max) \n",
        "    )"
      ],
      "execution_count": 0,
      "outputs": []
    },
    {
      "cell_type": "code",
      "metadata": {
        "id": "40blpKi1b8s8",
        "colab_type": "code",
        "outputId": "d03ac8a5-7533-46b3-82f0-deb828657675",
        "colab": {
          "base_uri": "https://localhost:8080/",
          "height": 36
        }
      },
      "source": [
        "filtered_df.count()"
      ],
      "execution_count": 0,
      "outputs": [
        {
          "output_type": "execute_result",
          "data": {
            "text/plain": [
              "12896295"
            ]
          },
          "metadata": {
            "tags": []
          },
          "execution_count": 15
        }
      ]
    },
    {
      "cell_type": "code",
      "metadata": {
        "id": "ArkWEDjZe_jR",
        "colab_type": "code",
        "colab": {}
      },
      "source": [
        "passenger_grouped = filtered_df.groupBy('passenger_count').count()"
      ],
      "execution_count": 0,
      "outputs": []
    },
    {
      "cell_type": "code",
      "metadata": {
        "id": "_L_Ctzr7iaR3",
        "colab_type": "code",
        "outputId": "45c8f9ff-0c07-4923-d9f4-4e5169cc9460",
        "colab": {
          "base_uri": "https://localhost:8080/",
          "height": 297
        }
      },
      "source": [
        "passenger_grouped.show()"
      ],
      "execution_count": 0,
      "outputs": [
        {
          "output_type": "stream",
          "text": [
            "+---------------+-------+\n",
            "|passenger_count|  count|\n",
            "+---------------+-------+\n",
            "|              1|9038276|\n",
            "|              6| 465291|\n",
            "|              3| 553508|\n",
            "|              5| 701952|\n",
            "|              9|      5|\n",
            "|              4| 261812|\n",
            "|              8|      6|\n",
            "|              7|     10|\n",
            "|              2|1872418|\n",
            "|              0|   3017|\n",
            "+---------------+-------+\n",
            "\n"
          ],
          "name": "stdout"
        }
      ]
    },
    {
      "cell_type": "code",
      "metadata": {
        "id": "bdqrByd0lMdb",
        "colab_type": "code",
        "outputId": "4ca7f3a2-6680-4ed8-e462-0585dd24e967",
        "colab": {
          "base_uri": "https://localhost:8080/",
          "height": 311
        }
      },
      "source": [
        "group_df = passenger_grouped.toPandas()\n",
        "ax = group_df.plot(kind='bar',x='passenger_count',y='count', title = 'No of trips for each value of passenger_count ') \n",
        "ax.set_xlabel(\"Passenger Count\")\n",
        "ax.set_ylabel(\"No of trips\")"
      ],
      "execution_count": 0,
      "outputs": [
        {
          "output_type": "execute_result",
          "data": {
            "text/plain": [
              "Text(0, 0.5, 'No of trips')"
            ]
          },
          "metadata": {
            "tags": []
          },
          "execution_count": 18
        },
        {
          "output_type": "display_data",
          "data": {
            "image/png": "[encoded data removed]",
            "text/plain": [
              "<Figure size 432x288 with 1 Axes>"
            ]
          },
          "metadata": {
            "tags": [],
            "needs_background": "light"
          }
        }
      ]
    },
    {
      "cell_type": "markdown",
      "metadata": {
        "id": "sC23JfpjCsSG",
        "colab_type": "text"
      },
      "source": [
        "**1.What’s special with trips with zero passengers**\n",
        "\n",
        "These trips do not have anything worth analysing. These trips have mostly 0 trip distance and were charged for that. It means these trips may either be mistakenly booked by the customer or made by the capton to complete his rides.\n"
      ]
    },
    {
      "cell_type": "code",
      "metadata": {
        "id": "2ExebPe8Cs5X",
        "colab_type": "code",
        "colab": {}
      },
      "source": [
        "trips_0 = filtered_df.filter(col('passenger_count')==0)"
      ],
      "execution_count": 0,
      "outputs": []
    },
    {
      "cell_type": "code",
      "metadata": {
        "id": "4XoNt7MIgiRH",
        "colab_type": "code",
        "outputId": "f8733ee0-13e2-46d7-d6a7-3e65626b5f13",
        "colab": {
          "base_uri": "https://localhost:8080/",
          "height": 523
        }
      },
      "source": [
        "trips_0.show()"
      ],
      "execution_count": 0,
      "outputs": [
        {
          "output_type": "stream",
          "text": [
            "+--------------------+---------------------+---------------+-------------+------------------+------------------+----------+------------------+------------------+------------------+------------+-----------+-----+-------+----------+------------+---------------------+------------+--------+\n",
            "|tpep_pickup_datetime|tpep_dropoff_datetime|passenger_count|trip_distance|  pickup_longitude|   pickup_latitude|RateCodeID|store_and_fwd_flag| dropoff_longitude|  dropoff_latitude|payment_type|fare_amount|extra|mta_tax|tip_amount|tolls_amount|improvement_surcharge|total_amount|VendorID|\n",
            "+--------------------+---------------------+---------------+-------------+------------------+------------------+----------+------------------+------------------+------------------+------------+-----------+-----+-------+----------+------------+---------------------+------------+--------+\n",
            "| 2015-05-22 02:25:56|  2015-05-22 02:27:56|              0|          0.0|-73.95744323730469|40.687721252441406|         5|                 N|-73.95984649658203| 40.68803787231445|           2|       48.5|  0.0|    0.5|       0.0|         0.0|                  0.3|        49.3|       2|\n",
            "| 2015-05-19 17:33:52|  2015-05-19 17:34:20|              0|          0.0| -74.0089111328125| 40.71749496459961|         5|                 N|-74.00886535644531| 40.71742630004883|           1|        0.0|  0.0|    0.5|      40.0|         0.0|                  0.3|        40.8|       2|\n",
            "| 2015-05-18 23:35:33|  2015-05-18 23:35:36|              0|         0.03|-74.00281524658203|40.724586486816406|         5|                 N|-74.00311279296875|40.724308013916016|           1|        8.5|  0.0|    0.5|      1.86|         0.0|                  0.3|       11.16|       2|\n",
            "| 2015-05-21 23:43:29|  2015-05-21 23:43:48|              0|          0.0|-73.98837280273438| 40.76926803588867|         5|                 N| -73.9884033203125|  40.7692756652832|           1|       10.5|  0.0|    0.5|       5.0|         0.0|                  0.3|        16.3|       2|\n",
            "| 2015-05-30 04:01:35|  2015-05-30 04:23:06|              0|         1.33| -73.9904556274414| 40.74597930908203|         5|                 N|-73.99240112304688| 40.73204040527344|           2|        7.0|  0.0|    0.5|       0.0|         0.0|                  0.3|         7.8|       2|\n",
            "| 2015-05-27 19:03:38|  2015-05-27 19:03:43|              0|          0.0|-73.87110900878906|40.774070739746094|         5|                 N|-73.87115478515625|  40.7740364074707|           1|      38.54|  0.0|    0.5|       0.0|         0.0|                  0.3|       39.34|       2|\n",
            "| 2015-05-01 16:54:43|  2015-05-01 16:55:04|              0|          0.0|-73.87194061279297| 40.77427673339844|         5|                 N|-73.87194061279297| 40.77429962158203|           1|       57.0|  0.0|    0.5|     11.56|         0.0|                  0.3|       69.36|       2|\n",
            "| 2015-05-22 20:18:05|  2015-05-22 20:18:19|              0|          0.0|-73.98314666748047|40.762760162353516|         5|                 N|-73.98306274414062|  40.7625617980957|           2|       60.0|  0.0|    0.5|       0.0|         0.0|                  0.3|        60.8|       2|\n",
            "| 2015-05-26 14:58:13|  2015-05-26 14:58:15|              0|          0.0|-73.99222564697266| 40.73706817626953|         5|                 N| -73.9921646118164| 40.73707580566406|           1|       11.5|  0.0|    0.5|      3.08|         0.0|                  0.3|       15.38|       2|\n",
            "| 2015-05-18 15:31:55|  2015-05-18 15:34:55|              0|         0.15|-73.98966979980469| 40.68644332885742|         5|                 N|-73.98949432373047| 40.68811798095703|           2|      42.58|  0.0|    0.5|       0.0|         0.0|                  0.3|       43.38|       2|\n",
            "| 2015-05-02 03:18:41|  2015-05-02 03:18:48|              0|          0.0| -73.9739990234375|  40.5974235534668|         5|                 N|-73.97399139404297| 40.59742736816406|           1|       51.0|  0.0|    0.5|     12.95|         0.0|                  0.3|       64.75|       2|\n",
            "| 2015-05-06 10:47:37|  2015-05-06 11:09:38|              0|         6.18|-73.99488830566406| 40.75539779663086|         5|                 N| -74.0382308959961| 40.71260070800781|           1|       60.0|  0.0|    0.0|       5.0|       11.75|                  0.3|       77.05|       2|\n",
            "| 2015-05-25 11:33:44|  2015-05-25 11:35:20|              0|          0.0|-73.86493682861328| 40.77050018310547|         5|                 N|-73.86619567871094|40.771236419677734|           2|      37.54|  0.0|    0.5|       0.0|         0.0|                  0.3|       38.34|       2|\n",
            "| 2015-05-07 21:49:26|  2015-05-07 21:50:06|              0|          0.0|-73.98397827148438|    40.67626953125|         5|                 N|-73.98397827148438|40.676246643066406|           1|       28.0|  0.0|    0.5|      8.64|         0.0|                  0.3|       37.44|       2|\n",
            "| 2015-05-31 12:33:39|  2015-05-31 12:42:13|              0|          1.4| -74.0534896850586|40.732608795166016|         5|                 N|-74.06448364257812| 40.73870849609375|           1|       70.0|  0.0|    0.0|       0.0|         0.0|                  0.3|        70.3|       2|\n",
            "| 2015-05-16 23:06:33|  2015-05-16 23:06:38|              0|          0.0| -74.0036849975586| 40.74330520629883|         5|                 N|-74.00369262695312| 40.74332046508789|           1|        4.5|  0.0|    0.5|      1.06|         0.0|                  0.3|        6.36|       2|\n",
            "| 2015-05-17 02:57:20|  2015-05-17 03:01:57|              0|         2.68|-73.99774932861328| 40.76528549194336|         5|                 N|-73.97512817382812| 40.79859161376953|           2|       60.0|  0.0|    0.0|       0.0|         0.0|                  0.3|        60.3|       2|\n",
            "| 2015-05-21 00:43:49|  2015-05-21 00:43:52|              0|          0.0|-74.00401306152344|40.742088317871094|         5|                 N|      -74.00390625|40.742103576660156|           1|      58.04|  0.0|    0.5|       5.0|         0.0|                  0.3|       63.84|       2|\n",
            "| 2015-05-23 02:45:52|  2015-05-23 02:45:56|              0|          0.0|-73.92501068115234| 40.82583236694336|         5|                 N|-73.92501831054688|40.825836181640625|           1|       31.5|  0.0|    0.5|      8.08|         0.0|                  0.3|       40.38|       2|\n",
            "| 2015-05-08 00:46:16|  2015-05-08 00:46:20|              0|          0.0|-73.97332763671875| 40.74839782714844|         5|                 N|-73.97334289550781| 40.74838638305664|           1|       70.5|  0.0|    0.5|     14.26|         0.0|                  0.3|       85.56|       2|\n",
            "+--------------------+---------------------+---------------+-------------+------------------+------------------+----------+------------------+------------------+------------------+------------+-----------+-----+-------+----------+------------+---------------------+------------+--------+\n",
            "only showing top 20 rows\n",
            "\n"
          ],
          "name": "stdout"
        }
      ]
    },
    {
      "cell_type": "markdown",
      "metadata": {
        "id": "CP1gMk1OCv3l",
        "colab_type": "text"
      },
      "source": [
        "2.What’s special with trips with more than 6 passengers?\n",
        "\n",
        "There are only 21 trips, which is not significant among the total trips. Trip distance is mostly zero. These trips are outliers and may not add anything to our anlysis. \n",
        "\n"
      ]
    },
    {
      "cell_type": "code",
      "metadata": {
        "id": "aHCFIhI1C1Xw",
        "colab_type": "code",
        "colab": {}
      },
      "source": [
        "trips_6 = filtered_df.filter(col('passenger_count')>6)"
      ],
      "execution_count": 0,
      "outputs": []
    },
    {
      "cell_type": "code",
      "metadata": {
        "id": "BxLcE8eQw4U9",
        "colab_type": "code",
        "outputId": "39670d06-4698-4e71-e68e-13fdd60eafe9",
        "colab": {
          "base_uri": "https://localhost:8080/",
          "height": 523
        }
      },
      "source": [
        "trips_6.show()"
      ],
      "execution_count": 0,
      "outputs": [
        {
          "output_type": "stream",
          "text": [
            "+--------------------+---------------------+---------------+-------------+------------------+------------------+----------+------------------+------------------+------------------+------------+-----------+-----+-------+----------+------------+---------------------+------------+--------+\n",
            "|tpep_pickup_datetime|tpep_dropoff_datetime|passenger_count|trip_distance|  pickup_longitude|   pickup_latitude|RateCodeID|store_and_fwd_flag| dropoff_longitude|  dropoff_latitude|payment_type|fare_amount|extra|mta_tax|tip_amount|tolls_amount|improvement_surcharge|total_amount|VendorID|\n",
            "+--------------------+---------------------+---------------+-------------+------------------+------------------+----------+------------------+------------------+------------------+------------+-----------+-----+-------+----------+------------+---------------------+------------+--------+\n",
            "| 2015-05-22 15:21:25|  2015-05-22 15:21:56|              9|          0.0|-73.81221008300781| 40.90046691894531|         5|                 N|-73.81221771240234| 40.90046691894531|           1|       90.0|  0.0|    0.5|       0.0|         0.0|                  0.3|        90.8|       2|\n",
            "| 2015-05-23 12:14:32|  2015-05-23 12:15:15|              7|          0.0|  -73.976318359375| 40.75908660888672|         5|                 N|-73.97631072998047| 40.75892639160156|           1|       0.01|  0.0|    0.0|       0.0|        5.54|                  0.3|        5.85|       2|\n",
            "| 2015-05-23 10:37:01|  2015-05-23 10:41:22|              7|          0.0| -74.0316162109375| 40.74753189086914|         5|                 N|-74.03158569335938|    40.74755859375|           1|       72.0|  0.0|    0.5|      7.28|         0.0|                  0.3|       80.08|       2|\n",
            "| 2015-05-13 13:21:40|  2015-05-13 13:22:05|              8|          0.0|-73.96839904785156| 40.90388107299805|         5|                 N|-73.96837615966797| 40.90390396118164|           1|       80.0|  0.0|    0.0|      10.0|       15.29|                  0.3|      105.59|       2|\n",
            "| 2015-05-03 07:27:23|  2015-05-03 07:58:00|              9|        13.71| -73.9837646484375| 40.73786926269531|         5|                 N|-73.95845031738281| 40.86209487915039|           1|       90.0|  0.0|    0.0|       0.0|         0.0|                  0.3|        90.3|       2|\n",
            "| 2015-05-20 23:37:26|  2015-05-21 00:04:09|              7|         6.16|-73.98236846923828|40.764102935791016|         5|                 N|-74.04511260986328|40.785369873046875|           2|       70.0|  0.0|    0.5|       0.0|        9.75|                  0.3|       80.55|       2|\n",
            "| 2015-05-23 12:50:08|  2015-05-23 12:50:11|              7|          0.0| -73.9747085571289| 40.79008102416992|         5|                 N|-73.97480010986328| 40.79005813598633|           1|        7.3|  0.0|    0.0|       0.0|         0.0|                  0.3|         7.6|       2|\n",
            "| 2015-05-03 12:00:17|  2015-05-03 12:00:36|              9|          0.0|-73.71946716308594|40.784950256347656|         5|                 N|-73.71946716308594|40.784950256347656|           1|       95.0|  0.0|    0.5|      10.0|         0.0|                  0.3|       105.8|       2|\n",
            "| 2015-05-29 09:54:14|  2015-05-29 09:54:27|              9|          0.0|-73.98780059814453| 40.75017166137695|         5|                 N|-73.98794555664062| 40.75010681152344|           2|        0.5|  0.0|    0.5|       0.0|         0.0|                  0.3|         1.3|       2|\n",
            "| 2015-05-28 22:28:52|  2015-05-28 22:29:30|              8|          0.0|-73.95712280273438| 40.77994918823242|         5|                 N|-73.95712280273438| 40.77994918823242|           1|        8.0|  0.0|    0.0|       1.5|         0.0|                  0.3|         9.8|       2|\n",
            "| 2015-05-08 07:50:43|  2015-05-08 07:51:23|              8|          0.0|    -74.0126953125| 40.85030746459961|         5|                 N|-74.01273345947266|40.850250244140625|           1|       80.0|  0.0|    0.5|       0.0|         0.0|                  0.3|        80.8|       2|\n",
            "| 2015-05-04 14:00:39|  2015-05-04 14:01:40|              7|          0.0|-73.77635192871094| 40.64522171020508|         5|                 N|-73.77635192871094|40.645240783691406|           1|       70.0|  0.0|    0.5|       0.0|         0.0|                  0.3|        70.8|       2|\n",
            "| 2015-05-28 22:34:20|  2015-05-28 22:34:27|              8|          0.0|-74.02134704589844| 40.89228820800781|         5|                 N|-74.02134704589844| 40.89228820800781|           1|       80.0|  0.0|    0.5|      10.0|         0.0|                  0.3|        90.8|       2|\n",
            "| 2015-05-04 20:48:56|  2015-05-04 20:49:03|              7|          0.0|-73.72602081298828| 40.59730911254883|         5|                 N|-73.72602844238281| 40.59730911254883|           1|       79.0|  0.0|    0.0|     19.82|         0.0|                  0.3|       99.12|       2|\n",
            "| 2015-05-25 15:15:51|  2015-05-25 15:55:24|              8|         17.4| -73.7837142944336| 40.64858627319336|         2|                 N|-73.99095153808594| 40.75571060180664|           1|       52.0|  0.0|    0.5|       5.0|        5.54|                  0.3|       63.34|       1|\n",
            "| 2015-05-02 21:05:06|  2015-05-02 21:12:33|              7|          1.1| -73.9865951538086| 40.75864028930664|         1|                 N|-73.99163055419922|   40.767822265625|           1|        7.0|  0.5|    0.5|      1.66|         0.0|                  0.3|        9.96|       1|\n",
            "| 2015-05-30 03:14:36|  2015-05-30 03:19:49|              7|          1.7|-73.94854736328125|40.782310485839844|         1|                 N|-73.96086883544922| 40.76164627075195|           1|        7.0|  0.5|    0.5|      1.65|         0.0|                  0.3|        9.95|       1|\n",
            "| 2015-05-18 17:30:07|  2015-05-18 18:23:00|              8|         13.7|-73.96635437011719| 40.76484680175781|         1|                 N|-73.83450317382812| 40.85194778442383|           1|       45.0|  1.0|    0.5|       5.0|         0.0|                  0.3|        51.8|       1|\n",
            "| 2015-05-13 01:30:37|  2015-05-13 01:46:45|              7|         5.08|-73.98629760742188| 40.74836349487305|         5|                 N|-74.03119659423828| 40.73893356323242|           1|       70.0|  0.0|    0.5|     16.11|        9.75|                  0.3|       96.66|       2|\n",
            "| 2015-05-06 23:23:37|  2015-05-06 23:24:37|              7|          0.0|-74.04940032958984| 40.79024887084961|         5|                 N|-74.04940032958984| 40.79024887084961|           1|       70.0|  0.0|    0.5|       0.0|        9.75|                  0.3|       80.55|       2|\n",
            "+--------------------+---------------------+---------------+-------------+------------------+------------------+----------+------------------+------------------+------------------+------------+-----------+-----+-------+----------+------------+---------------------+------------+--------+\n",
            "only showing top 20 rows\n",
            "\n"
          ],
          "name": "stdout"
        }
      ]
    },
    {
      "cell_type": "markdown",
      "metadata": {
        "id": "IVz0SCVpC3ti",
        "colab_type": "text"
      },
      "source": [
        "3.What is the largest distance travelled during this month? Is it the first taxi on the moon?"
      ]
    },
    {
      "cell_type": "code",
      "metadata": {
        "id": "QrwUgRFpC4J6",
        "colab_type": "code",
        "colab": {}
      },
      "source": [
        "max_dist = filtered_df.agg({\"trip_distance\": \"max\"}).collect()\n"
      ],
      "execution_count": 0,
      "outputs": []
    },
    {
      "cell_type": "code",
      "metadata": {
        "id": "xLRpm9_bxk1Z",
        "colab_type": "code",
        "outputId": "7ffd455b-f282-4384-e281-c6065658b34b",
        "colab": {
          "base_uri": "https://localhost:8080/",
          "height": 36
        }
      },
      "source": [
        "print('Max distance travelled OMG =D : ', max_dist[0][0])"
      ],
      "execution_count": 0,
      "outputs": [
        {
          "output_type": "stream",
          "text": [
            "Max distance travelled OMG =D :  15700000.0\n"
          ],
          "name": "stdout"
        }
      ]
    },
    {
      "cell_type": "code",
      "metadata": {
        "id": "ddto9xVkDl-Z",
        "colab_type": "code",
        "outputId": "1acc9bc9-a7bb-43c2-9080-ebc2ed5c515a",
        "colab": {
          "base_uri": "https://localhost:8080/",
          "height": 149
        }
      },
      "source": [
        "filtered_df.filter(col('trip_distance')==15700000.0).show()"
      ],
      "execution_count": 0,
      "outputs": [
        {
          "output_type": "stream",
          "text": [
            "+--------------------+---------------------+---------------+-------------+------------------+-----------------+----------+------------------+------------------+-----------------+------------+-----------+-----+-------+----------+------------+---------------------+------------+--------+\n",
            "|tpep_pickup_datetime|tpep_dropoff_datetime|passenger_count|trip_distance|  pickup_longitude|  pickup_latitude|RateCodeID|store_and_fwd_flag| dropoff_longitude| dropoff_latitude|payment_type|fare_amount|extra|mta_tax|tip_amount|tolls_amount|improvement_surcharge|total_amount|VendorID|\n",
            "+--------------------+---------------------+---------------+-------------+------------------+-----------------+----------+------------------+------------------+-----------------+------------+-----------+-----+-------+----------+------------+---------------------+------------+--------+\n",
            "| 2015-05-31 10:07:08|  2015-05-31 10:32:34|              2|       1.57E7|-73.98420715332031|40.75499725341797|         1|                 N|-74.01142883300781|40.72285461425781|           2|       14.0|  0.0|    0.5|       0.0|         0.0|                  0.3|        14.8|       1|\n",
            "+--------------------+---------------------+---------------+-------------+------------------+-----------------+----------+------------------+------------------+-----------------+------------+-----------+-----+-------+----------+------------+---------------------+------------+--------+\n",
            "\n"
          ],
          "name": "stdout"
        }
      ]
    },
    {
      "cell_type": "markdown",
      "metadata": {
        "id": "6qTurQcOC7-V",
        "colab_type": "text"
      },
      "source": [
        "4.Plot the distribution of the trip_distance(using an histogram for instance) during year 2105. Focus on trips with non-zero trip distance and trip distance less than 30 miles."
      ]
    },
    {
      "cell_type": "code",
      "metadata": {
        "id": "jHxbHrnyGiwl",
        "colab_type": "code",
        "colab": {}
      },
      "source": [
        "# parque_2015_df = spark.read.option(\"mergeSchema\", \"true\").parquet(\"data/df_2015.parquet\")\n",
        "import pyarrow.parquet as pq\n",
        "df_dist = pq.read_pandas('data/df_2015.parquet', columns=['trip_distance']).to_pandas()\n",
        "filtered_dist = df_dist[(df_dist['trip_distance']>0)&(df_dist['trip_distance']<30) ]"
      ],
      "execution_count": 0,
      "outputs": []
    },
    {
      "cell_type": "code",
      "metadata": {
        "id": "MDgvmEuvN7U_",
        "colab_type": "code",
        "outputId": "f9f85856-70cb-4791-92c8-b4d1419ef016",
        "colab": {
          "base_uri": "https://localhost:8080/",
          "height": 295
        }
      },
      "source": [
        "plt.ticklabel_format(style = 'plain')\n",
        "plt.hist(filtered_dist['trip_distance'], bins=[0,5,10,15,20,25,30])\n",
        "plt.ylabel('Count of Trip Distances')\n",
        "plt.xlabel('Trip Distance')\n",
        "plt.title('Histogram of Trip Distances')\n",
        "plt.show()\n"
      ],
      "execution_count": 0,
      "outputs": [
        {
          "output_type": "display_data",
          "data": {
            "image/png": "[encoded data removed]",
            "text/plain": [
              "<Figure size 432x288 with 1 Axes>"
            ]
          },
          "metadata": {
            "tags": [],
            "needs_background": "light"
          }
        }
      ]
    },
    {
      "cell_type": "markdown",
      "metadata": {
        "id": "BOMgrYmnmUSl",
        "colab_type": "text"
      },
      "source": [
        "# Let’s look at what Spark does for these computations\n",
        "\n",
        "1.Use the explain method or have a look at the Spark UIto analyze the job. You should be able to assess \n",
        "- Parsed Logical Plan\n",
        "- Analyzed Logical Plan\n",
        "- Optimized Logical Plan\n",
        "- Physical Plan\n"
      ]
    },
    {
      "cell_type": "code",
      "metadata": {
        "id": "gO8hr9QhmYSi",
        "colab_type": "code",
        "outputId": "66ed489e-bd73-49cf-8271-644dc81c94be",
        "colab": {
          "base_uri": "https://localhost:8080/",
          "height": 175
        }
      },
      "source": [
        "parque_2015_df.filter(col('passenger_count')>=0).filter(col('passenger_count')<=6).explain(extended = True)"
      ],
      "execution_count": 0,
      "outputs": [
        {
          "output_type": "error",
          "ename": "NameError",
          "evalue": "ignored",
          "traceback": [
            "\u001b[0;31m---------------------------------------------------------------------------\u001b[0m",
            "\u001b[0;31mNameError\u001b[0m                                 Traceback (most recent call last)",
            "\u001b[0;32m<ipython-input-1-ac8ca133a8cc>\u001b[0m in \u001b[0;36m<module>\u001b[0;34m()\u001b[0m\n\u001b[0;32m----> 1\u001b[0;31m \u001b[0mparque_2015_df\u001b[0m\u001b[0;34m.\u001b[0m\u001b[0mfilter\u001b[0m\u001b[0;34m(\u001b[0m\u001b[0mcol\u001b[0m\u001b[0;34m(\u001b[0m\u001b[0;34m'passenger_count'\u001b[0m\u001b[0;34m)\u001b[0m\u001b[0;34m>=\u001b[0m\u001b[0;36m0\u001b[0m\u001b[0;34m)\u001b[0m\u001b[0;34m.\u001b[0m\u001b[0mfilter\u001b[0m\u001b[0;34m(\u001b[0m\u001b[0mcol\u001b[0m\u001b[0;34m(\u001b[0m\u001b[0;34m'passenger_count'\u001b[0m\u001b[0;34m)\u001b[0m\u001b[0;34m<=\u001b[0m\u001b[0;36m6\u001b[0m\u001b[0;34m)\u001b[0m\u001b[0;34m.\u001b[0m\u001b[0mexplain\u001b[0m\u001b[0;34m(\u001b[0m\u001b[0mextended\u001b[0m \u001b[0;34m=\u001b[0m \u001b[0;32mTrue\u001b[0m\u001b[0;34m)\u001b[0m\u001b[0;34m\u001b[0m\u001b[0;34m\u001b[0m\u001b[0m\n\u001b[0m",
            "\u001b[0;31mNameError\u001b[0m: name 'parque_2015_df' is not defined"
          ]
        }
      ]
    },
    {
      "cell_type": "markdown",
      "metadata": {
        "id": "XkKbwTcgmwF4",
        "colab_type": "text"
      },
      "source": [
        "2.Do the Analyzed Logical Plan and Optimized Logical Plan differ? Spot the differences if any.How would a RDBMS proceed with such a query?"
      ]
    },
    {
      "cell_type": "markdown",
      "metadata": {
        "id": "V4m_03L2ICLO",
        "colab_type": "text"
      },
      "source": [
        "Yes, they differ. In the optimized logical plan, Spark does optimization itself. It sees that there is no need for two filters. Instead, the same task can be done with only one filter using the and operator, so it does execution in one filter. RDBMS follows optimized logical plan."
      ]
    },
    {
      "cell_type": "markdown",
      "metadata": {
        "id": "wmkZoheAmxzB",
        "colab_type": "text"
      },
      "source": [
        "3.How does the physical plan differ from the Optimized Logical Plan? What are the keywords you would not expects in a RDBMS? What is their meaning?"
      ]
    },
    {
      "cell_type": "markdown",
      "metadata": {
        "id": "4VNTwzRLhqKw",
        "colab_type": "text"
      },
      "source": [
        "There are two types of plans.\n",
        "1. Logical \n",
        "  *   Parsed logical plan\n",
        "  *   Analysed Logical Plan\n",
        "  *   Optimized logical Plan\n",
        "\n",
        "2. physical\n",
        "\n",
        "Once Optimized Logical Plan is created, Physical Plan is generated. Physical plan is like the bridge between logical plan and spark dstaframe as execution layer does not understand logical plan. \n",
        "\n",
        "Physical plan is executed in two phases:\n",
        "Spark plan\n",
        "Executed plan\n",
        "\n",
        "There are some operators shown in query plan.\n",
        "*   FileScan: Represents reading a data from a file format \n",
        "*   Exchange: An operator that represents shuffle, physical data movement on cluster\n",
        "*   Aggregration: Represents data aggregation"
      ]
    },
    {
      "cell_type": "markdown",
      "metadata": {
        "id": "P3nEqb91m1_6",
        "colab_type": "text"
      },
      "source": [
        "4.Inspect the stages on Spark UI. How many stages are necessary to complete the Spark job? What are the roles of HashAggregate and Exchange hashpartitioning?"
      ]
    },
    {
      "cell_type": "markdown",
      "metadata": {
        "id": "WvUmAQl7nU2m",
        "colab_type": "text"
      },
      "source": [
        "**Stages:**\n",
        "\n",
        "Spark will fire a job when we call an action like collect, count, read etc. It is a sequence of stages or we can say that job is splited into stages. There are two types of transformation in stages:\n",
        "\n",
        "1.   Narrow (no dependency between partitions to apply action like map, filter)\n",
        "2.   Wide (dependency between partitions to apply action like join, groupBy Key)\n",
        "\n",
        "All narro transformations will be executed in one stage. Whenever a wide transformation is written a new stage will be created. For example \n",
        "df.filter.groupBy(key), an stage for df.filter is created and each partion will perform filter in that stage than another stage will be created for groupBy(key).\n",
        "\n",
        "Stages in Apache spark have two categories\n",
        "\n",
        "1. ShuffleMapStage in Spark\n",
        "2. ResultStage in Spark\n",
        "\n",
        "**Role of Exchange hashpartitioning:**\n",
        "\n",
        "Exchange is one of the operators of physical plan which is quite expensive as it is responsible for data movement and provide information about how data will be repartitioned when it is shuffled. Below are the types if data partitioning:\n",
        "\n",
        "\n",
        "*   hashpartitoning\n",
        "*   singlepartitioning\n",
        "*   roundrobinpartitioning\n",
        "*   rangeportioning\n",
        "\n",
        "Hashpartitioning may be used by following transformations:\n",
        "\n",
        "*   groupBy \n",
        "*   Joins\n",
        "*   Distinct\n",
        "*   Repartition\n",
        "*   Window.partitionBy\n",
        "\n",
        "\n",
        "**Role of HashAggregate:**\n",
        "\n",
        "In physical plan you may get one of these operators:\n",
        "\n",
        "*   HashAggregate \n",
        "*   SortAggregate\n",
        "*   ObjectHashAggregate\n",
        "\n",
        "Aggregation is induced by Groupby, Distinct etc\n",
        "\n",
        "This will be decided in spark plan in aggregation strategy. \n",
        "Logical plan only show that data is being aggregated but the aggregation staretegy is given in physical plan.\n",
        "\n",
        "HashAggregate is one of the physical plan aggregation which comes in pair. first aggregation is executed on each exector let say partial sum. Then the data might be shuffle and there is another hash aggregation which is going to combine or merge all partial sum.\n",
        "\n",
        "\n",
        "\n",
        "\n",
        "\n",
        "\n",
        "\n"
      ]
    },
    {
      "cell_type": "markdown",
      "metadata": {
        "id": "pfSibASnnDa6",
        "colab_type": "text"
      },
      "source": [
        "5.Does the physical plan perform shuffle operations? If yes how many?"
      ]
    },
    {
      "cell_type": "markdown",
      "metadata": {
        "id": "cPod1w9f-u9P",
        "colab_type": "text"
      },
      "source": [
        "Yes, physical plan perform shuffle operations. Shuffle refers to an operation where data is re-partitioned across a Cluster.\n",
        "\n",
        "If we are required to perform both the narrow and wide transformations than a shuffle operation is applied in between to shuffle the data before applying wide transformation. It is a costly operation. \n",
        "\n",
        "Three possible options for shuffle operations are:\n",
        "hash, sort, tungsten-sort"
      ]
    },
    {
      "cell_type": "markdown",
      "metadata": {
        "id": "dNgdH8LTnGGm",
        "colab_type": "text"
      },
      "source": [
        "6.What are tasks with respect to stages (in Spark language)? How many tasks are your stages smade of?"
      ]
    },
    {
      "cell_type": "markdown",
      "metadata": {
        "id": "t5pej5Ot8-2I",
        "colab_type": "text"
      },
      "source": [
        "Tasks are indidvidual transformation on stages like map or filter. A driver ask executor to run tasks. If the data has n number of partitions the opertaion will trigger n number of task, one for each partition. \n",
        "\n",
        "Our stages made of two tasks as there are two partitions."
      ]
    },
    {
      "cell_type": "markdown",
      "metadata": {
        "id": "OTjVErAznW4A",
        "colab_type": "text"
      },
      "source": [
        "**Now, compute the following and produce relevant plots:**\n"
      ]
    },
    {
      "cell_type": "code",
      "metadata": {
        "id": "LOdjCndGy_pt",
        "colab_type": "code",
        "colab": {}
      },
      "source": [
        "df = parque_2015_df.select(\"tpep_pickup_datetime\", \"trip_distance\",\"pickup_longitude\",\"pickup_latitude\",\"tip_amount\", \"fare_amount\", \"extra\")"
      ],
      "execution_count": 0,
      "outputs": []
    },
    {
      "cell_type": "markdown",
      "metadata": {
        "id": "CSQ_9E8Ry6_Y",
        "colab_type": "text"
      },
      "source": [
        "1.Break down the trip distance distribution for each day of week"
      ]
    },
    {
      "cell_type": "code",
      "metadata": {
        "id": "XwqUHqkKnYuG",
        "colab_type": "code",
        "outputId": "ee04796d-4469-4fdf-816c-35fc0e22c553",
        "colab": {
          "base_uri": "https://localhost:8080/",
          "height": 235
        }
      },
      "source": [
        "df = df.withColumn(\"day_of_week\", func.date_format(col(\"tpep_pickup_datetime\"), \"EEEE\"))\n",
        "df.groupBy('day_of_week').sum(\"trip_distance\").show()"
      ],
      "execution_count": 0,
      "outputs": [
        {
          "output_type": "stream",
          "text": [
            "+-----------+--------------------+\n",
            "|day_of_week|  sum(trip_distance)|\n",
            "+-----------+--------------------+\n",
            "|  Wednesday| 2.863614903000005E7|\n",
            "|    Tuesday|1.8856138529999882E7|\n",
            "|     Friday|   9924172.209999489|\n",
            "|   Thursday|   6833885.990000111|\n",
            "|   Saturday| 6.011142927999992E7|\n",
            "|     Monday|   5436735.240000058|\n",
            "|     Sunday| 4.959584710000025E7|\n",
            "+-----------+--------------------+\n",
            "\n"
          ],
          "name": "stdout"
        }
      ]
    },
    {
      "cell_type": "markdown",
      "metadata": {
        "id": "hIBmLItmnfRR",
        "colab_type": "text"
      },
      "source": [
        "2.Count the number of distinct pickup location"
      ]
    },
    {
      "cell_type": "code",
      "metadata": {
        "id": "ntFNjyp7nflf",
        "colab_type": "code",
        "outputId": "917cfece-bd3f-4e99-a39d-d129825c1c40",
        "colab": {
          "base_uri": "https://localhost:8080/",
          "height": 35
        }
      },
      "source": [
        "df = df.withColumn(\"location\", func.concat(func.round(col(\"pickup_longitude\")),func.lit(\",\"),func.round(col(\"pickup_latitude\"))))\n",
        "df.select(\"location\").distinct().count()"
      ],
      "execution_count": 0,
      "outputs": [
        {
          "output_type": "execute_result",
          "data": {
            "text/plain": [
              "189"
            ]
          },
          "metadata": {
            "tags": []
          },
          "execution_count": 126
        }
      ]
    },
    {
      "cell_type": "markdown",
      "metadata": {
        "id": "7XBZkH3Rnhsb",
        "colab_type": "text"
      },
      "source": [
        "3.Compute and display tips and profits as a function of the pickup location"
      ]
    },
    {
      "cell_type": "code",
      "metadata": {
        "id": "YXYuMnYczJ49",
        "colab_type": "code",
        "outputId": "85bf0e74-b505-43b1-9078-f775dd65816f",
        "colab": {
          "base_uri": "https://localhost:8080/",
          "height": 363
        }
      },
      "source": [
        "df = df.withColumn(\"profit\", col(\"fare_amount\")+col(\"extra\"))\n",
        "df = df.groupBy('location').avg(\"tip_amount\",\"profit\")\n",
        "df = df.select(col(\"location\"),col(\"avg(tip_amount)\").alias(\"avg_tip_amount\"), col(\"avg(profit)\").alias(\"avg_profit\"))\n",
        "df = df.toPandas()\n",
        "df.head(10)"
      ],
      "execution_count": 0,
      "outputs": [
        {
          "output_type": "execute_result",
          "data": {
            "text/html": [
              "<div>\n",
              "<style scoped>\n",
              "    .dataframe tbody tr th:only-of-type {\n",
              "        vertical-align: middle;\n",
              "    }\n",
              "\n",
              "    .dataframe tbody tr th {\n",
              "        vertical-align: top;\n",
              "    }\n",
              "\n",
              "    .dataframe thead th {\n",
              "        text-align: right;\n",
              "    }\n",
              "</style>\n",
              "<table border=\"1\" class=\"dataframe\">\n",
              "  <thead>\n",
              "    <tr style=\"text-align: right;\">\n",
              "      <th></th>\n",
              "      <th>location</th>\n",
              "      <th>avg_tip_amount</th>\n",
              "      <th>avg_profit</th>\n",
              "    </tr>\n",
              "  </thead>\n",
              "  <tbody>\n",
              "    <tr>\n",
              "      <th>0</th>\n",
              "      <td>-78.0,30.0</td>\n",
              "      <td>0.000000</td>\n",
              "      <td>27.750000</td>\n",
              "    </tr>\n",
              "    <tr>\n",
              "      <th>1</th>\n",
              "      <td>-76.0,36.0</td>\n",
              "      <td>0.000000</td>\n",
              "      <td>9.500000</td>\n",
              "    </tr>\n",
              "    <tr>\n",
              "      <th>2</th>\n",
              "      <td>-84.0,34.0</td>\n",
              "      <td>2.760000</td>\n",
              "      <td>13.000000</td>\n",
              "    </tr>\n",
              "    <tr>\n",
              "      <th>3</th>\n",
              "      <td>-79.0,43.0</td>\n",
              "      <td>0.000000</td>\n",
              "      <td>6.000000</td>\n",
              "    </tr>\n",
              "    <tr>\n",
              "      <th>4</th>\n",
              "      <td>-89.0,43.0</td>\n",
              "      <td>0.000000</td>\n",
              "      <td>9.000000</td>\n",
              "    </tr>\n",
              "    <tr>\n",
              "      <th>5</th>\n",
              "      <td>-66.0,42.0</td>\n",
              "      <td>0.000000</td>\n",
              "      <td>6.500000</td>\n",
              "    </tr>\n",
              "    <tr>\n",
              "      <th>6</th>\n",
              "      <td>-76.0,30.0</td>\n",
              "      <td>1.000000</td>\n",
              "      <td>8.500000</td>\n",
              "    </tr>\n",
              "    <tr>\n",
              "      <th>7</th>\n",
              "      <td>-82.0,47.0</td>\n",
              "      <td>0.000000</td>\n",
              "      <td>15.500000</td>\n",
              "    </tr>\n",
              "    <tr>\n",
              "      <th>8</th>\n",
              "      <td>-74.0,39.0</td>\n",
              "      <td>12.533333</td>\n",
              "      <td>214.066667</td>\n",
              "    </tr>\n",
              "    <tr>\n",
              "      <th>9</th>\n",
              "      <td>-72.0,42.0</td>\n",
              "      <td>0.000000</td>\n",
              "      <td>243.750000</td>\n",
              "    </tr>\n",
              "  </tbody>\n",
              "</table>\n",
              "</div>"
            ],
            "text/plain": [
              "     location  avg_tip_amount  avg_profit\n",
              "0  -78.0,30.0        0.000000   27.750000\n",
              "1  -76.0,36.0        0.000000    9.500000\n",
              "2  -84.0,34.0        2.760000   13.000000\n",
              "3  -79.0,43.0        0.000000    6.000000\n",
              "4  -89.0,43.0        0.000000    9.000000\n",
              "5  -66.0,42.0        0.000000    6.500000\n",
              "6  -76.0,30.0        1.000000    8.500000\n",
              "7  -82.0,47.0        0.000000   15.500000\n",
              "8  -74.0,39.0       12.533333  214.066667\n",
              "9  -72.0,42.0        0.000000  243.750000"
            ]
          },
          "metadata": {
            "tags": []
          },
          "execution_count": 127
        }
      ]
    },
    {
      "cell_type": "code",
      "metadata": {
        "id": "m_8Ko_zOlABx",
        "colab_type": "code",
        "colab": {}
      },
      "source": [
        "def location(df,loc):\n",
        "  df1 = df.loc[df['location']==loc]\n",
        "  ax = df1.plot(x=\"location\", y=[\"avg_profit\",\"avg_tip_amount\"], kind=\"barh\",figsize=(5,5),rot=0,width=0.1)\n",
        "  ax.set_xlabel(\"Average\")\n",
        "  ax.set_ylabel(\"Location\")\n"
      ],
      "execution_count": 0,
      "outputs": []
    },
    {
      "cell_type": "code",
      "metadata": {
        "id": "Wm8Cjh9Elfzr",
        "colab_type": "code",
        "outputId": "b670af43-7e90-4d69-94d2-d73154994644",
        "colab": {
          "base_uri": "https://localhost:8080/",
          "height": 53
        }
      },
      "source": [
        "longitude = input(\"logitude:\")\n",
        "latitude = input(\"logitude:\")\n",
        "loc = longitude +\",\"+latitude"
      ],
      "execution_count": 0,
      "outputs": [
        {
          "output_type": "stream",
          "text": [
            "logitude:-84.0\n",
            "logitude:34.0\n"
          ],
          "name": "stdout"
        }
      ]
    },
    {
      "cell_type": "code",
      "metadata": {
        "id": "DhDyxxTqm5FG",
        "colab_type": "code",
        "outputId": "ecf85602-0b16-4cc2-a220-e2ae318120f2",
        "colab": {
          "base_uri": "https://localhost:8080/",
          "height": 334
        }
      },
      "source": [
        "location(df,loc)"
      ],
      "execution_count": 0,
      "outputs": [
        {
          "output_type": "display_data",
          "data": {
            "image/png": "[encoded data removed]",
            "text/plain": [
              "<Figure size 360x360 with 1 Axes>"
            ]
          },
          "metadata": {
            "tags": [],
            "needs_background": "light"
          }
        }
      ]
    },
    {
      "cell_type": "markdown",
      "metadata": {
        "id": "EHg-CxBinj6Y",
        "colab_type": "text"
      },
      "source": [
        "#4  Investigate one month of trips data in 2015 and 2018\n",
        "\n",
        "\n",
        "Consider one month of trips data fromyellowtaxis for each year1.Filter and cache/persist the result"
      ]
    },
    {
      "cell_type": "code",
      "metadata": {
        "id": "n8C3iCP5nk5v",
        "colab_type": "code",
        "colab": {}
      },
      "source": [
        ""
      ],
      "execution_count": 0,
      "outputs": []
    },
    {
      "cell_type": "markdown",
      "metadata": {
        "id": "0jgZoKLfnuhB",
        "colab_type": "text"
      },
      "source": [
        "## 4.1  Assessing seasonalities and looking at time series"
      ]
    },
    {
      "cell_type": "code",
      "metadata": {
        "id": "uizsqrewnvGa",
        "colab_type": "code",
        "colab": {}
      },
      "source": [
        ""
      ],
      "execution_count": 0,
      "outputs": []
    },
    {
      "cell_type": "markdown",
      "metadata": {
        "id": "URXofp-hnxrH",
        "colab_type": "text"
      },
      "source": [
        "Compute and plot the following time series indexed by day of the week and hour of day:\n",
        "\n",
        "1. The number of pickups\n",
        "2. The average fare\n",
        "3. The average trip duration\n",
        "4. Plot the average number of ongoing trips"
      ]
    },
    {
      "cell_type": "code",
      "metadata": {
        "id": "rapADg00n26L",
        "colab_type": "code",
        "colab": {}
      },
      "source": [
        ""
      ],
      "execution_count": 0,
      "outputs": []
    },
    {
      "cell_type": "markdown",
      "metadata": {
        "id": "6puI1LIuoBMB",
        "colab_type": "text"
      },
      "source": [
        "##4.2  Rides to the airports"
      ]
    },
    {
      "cell_type": "code",
      "metadata": {
        "id": "_8D25sJxoCh6",
        "colab_type": "code",
        "colab": {}
      },
      "source": [
        ""
      ],
      "execution_count": 0,
      "outputs": []
    },
    {
      "cell_type": "markdown",
      "metadata": {
        "id": "1rWUK9owoIpn",
        "colab_type": "text"
      },
      "source": [
        "In order to find the longitude and lattitude of JFK and Newark airport as well as the longitudeand magnitudes of Manhattan, you can use a service like geojson.io. Plot the following time series,indexed the day of the week and hour of the day\n",
        "1. Median duration of taxi trip leaving Midtown (Southern Manhattan) headed for JFK Airport\n",
        "2. Median taxi duration of trip leaving from JFK Airport to Midtown (Southern Manhattan)"
      ]
    },
    {
      "cell_type": "code",
      "metadata": {
        "id": "Z8hY7jH_oPKs",
        "colab_type": "code",
        "colab": {}
      },
      "source": [
        ""
      ],
      "execution_count": 0,
      "outputs": []
    },
    {
      "cell_type": "markdown",
      "metadata": {
        "id": "S_yXzWUJoRRw",
        "colab_type": "text"
      },
      "source": [
        "##4.3  Geographic information\n",
        "\n",
        "For this, you will need to find tools to display maps and to build choropeth maps. We let you lookand find relevant tools to do this."
      ]
    },
    {
      "cell_type": "markdown",
      "metadata": {
        "id": "BEJt-9sioauj",
        "colab_type": "text"
      },
      "source": [
        "1. Build a heatmap where color is a function of\n",
        "   1. number ofpickups\n",
        "   2. number ofdropoffs\n",
        "   3. number ofpickupswith dropoff at some airport (JFK, LaGuardia, Newark)"
      ]
    },
    {
      "cell_type": "code",
      "metadata": {
        "id": "73XaijAJoSXQ",
        "colab_type": "code",
        "colab": {}
      },
      "source": [
        ""
      ],
      "execution_count": 0,
      "outputs": []
    },
    {
      "cell_type": "markdown",
      "metadata": {
        "id": "uZvwrAxdoh8Z",
        "colab_type": "text"
      },
      "source": [
        "2. Build a choropeth map where color is a function of\n",
        "  1. number of pickups in the area\n",
        "  2. ratio of number of payments by card/number of cash payments for pickups in the area \n",
        "  3. ratio of total fare/trip duration for dropoff in the area"
      ]
    },
    {
      "cell_type": "code",
      "metadata": {
        "id": "Hly3OkdLomg7",
        "colab_type": "code",
        "colab": {}
      },
      "source": [
        ""
      ],
      "execution_count": 0,
      "outputs": []
    },
    {
      "cell_type": "markdown",
      "metadata": {
        "id": "CIp7zVwroo2P",
        "colab_type": "text"
      },
      "source": [
        "3. Build an interactive chorophet with a slider allowing the user to select anhour of dayandwhere the color is a function of\n",
        "  1. average number of dropoffs in the area during that hour the day \n",
        "  2. average ratio of tip over total fare amount for pickups in the area at given hour of theday"
      ]
    },
    {
      "cell_type": "code",
      "metadata": {
        "id": "yfwMbCYBovtK",
        "colab_type": "code",
        "colab": {}
      },
      "source": [
        ""
      ],
      "execution_count": 0,
      "outputs": []
    }
  ]
}