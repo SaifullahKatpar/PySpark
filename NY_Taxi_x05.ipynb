{
  "nbformat": 4,
  "nbformat_minor": 0,
  "metadata": {
    "colab": {
      "name": "NY_Taxi_x05.ipynb",
      "provenance": [],
      "collapsed_sections": [],
      "include_colab_link": true
    },
    "kernelspec": {
      "name": "python3",
      "display_name": "Python 3"
    },
    "accelerator": "GPU"
  },
  "cells": [
    {
      "cell_type": "markdown",
      "metadata": {
        "id": "view-in-github",
        "colab_type": "text"
      },
      "source": [
        "<a href=\"https://colab.research.google.com/github/SaifullahKatpar/PySpark/blob/master/NY_Taxi_x05.ipynb\" target=\"_parent\"><img src=\"https://colab.research.google.com/assets/colab-badge.svg\" alt=\"Open In Colab\"/></a>"
      ]
    },
    {
      "cell_type": "markdown",
      "metadata": {
        "id": "IWBJsWoVBcxL",
        "colab_type": "text"
      },
      "source": [
        "# Setup Spark"
      ]
    },
    {
      "cell_type": "code",
      "metadata": {
        "id": "ApKDFLVg6gV5",
        "colab_type": "code",
        "colab": {}
      },
      "source": [
        "!apt-get install openjdk-8-jdk-headless -qq > /dev/null\n",
        "!wget -q https://www-us.apache.org/dist/spark/spark-2.3.4/spark-2.3.4-bin-hadoop2.7.tgz\n",
        "!tar xf spark-2.3.4-bin-hadoop2.7.tgz\n",
        "!pip install -q findspark\n",
        "\n",
        "import os\n",
        "os.environ[\"JAVA_HOME\"] = \"/usr/lib/jvm/java-8-openjdk-amd64\"\n",
        "os.environ[\"SPARK_HOME\"] = \"/content/spark-2.3.4-bin-hadoop2.7\"\n",
        "\n",
        "import findspark\n",
        "findspark.init()"
      ],
      "execution_count": 0,
      "outputs": []
    },
    {
      "cell_type": "code",
      "metadata": {
        "id": "Nhl-NVc7Hz8g",
        "colab_type": "code",
        "outputId": "ec01b375-d436-42f0-f70c-e117ef67b612",
        "colab": {
          "base_uri": "https://localhost:8080/",
          "height": 36
        }
      },
      "source": [
        "from pyspark import SparkConf\n",
        "SparkConf().set(\"spark.executor.memory\", \"13g\")"
      ],
      "execution_count": 0,
      "outputs": [
        {
          "output_type": "execute_result",
          "data": {
            "text/plain": [
              "<pyspark.conf.SparkConf at 0x7f18bb3bd4e0>"
            ]
          },
          "metadata": {
            "tags": []
          },
          "execution_count": 2
        }
      ]
    },
    {
      "cell_type": "code",
      "metadata": {
        "id": "KkynRKqAP16O",
        "colab_type": "code",
        "outputId": "0e055c80-bc54-4e15-8c6a-eff538348f77",
        "colab": {
          "base_uri": "https://localhost:8080/",
          "height": 279
        }
      },
      "source": [
        "!wget https://bin.equinox.io/c/4VmDzA7iaHb/ngrok-stable-linux-amd64.zip\n",
        "!unzip ngrok-stable-linux-amd64.zip\n",
        "get_ipython().system_raw('./ngrok http 4050 &')\n",
        "!curl -s http://localhost:4040/api/tunnels | python3 -c \\\n",
        "    \"import sys, json; print(json.load(sys.stdin)['tunnels'][0]['public_url'])\""
      ],
      "execution_count": 0,
      "outputs": [
        {
          "output_type": "stream",
          "text": [
            "--2020-05-26 05:10:08--  https://bin.equinox.io/c/4VmDzA7iaHb/ngrok-stable-linux-amd64.zip\n",
            "Resolving bin.equinox.io (bin.equinox.io)... 3.229.211.71, 52.54.235.191, 52.206.116.16, ...\n",
            "Connecting to bin.equinox.io (bin.equinox.io)|3.229.211.71|:443... connected.\n",
            "HTTP request sent, awaiting response... 200 OK\n",
            "Length: 13773305 (13M) [application/octet-stream]\n",
            "Saving to: ‘ngrok-stable-linux-amd64.zip’\n",
            "\n",
            "\r          ngrok-sta   0%[                    ]       0  --.-KB/s               \r         ngrok-stab   0%[                    ]  95.55K   373KB/s               \r        ngrok-stabl   6%[>                   ] 892.64K  1.71MB/s               \r       ngrok-stable  45%[========>           ]   5.98M  7.80MB/s               \r      ngrok-stable-  98%[==================> ]  12.97M  12.7MB/s               \rngrok-stable-linux- 100%[===================>]  13.13M  12.8MB/s    in 1.0s    \n",
            "\n",
            "2020-05-26 05:10:09 (12.8 MB/s) - ‘ngrok-stable-linux-amd64.zip’ saved [13773305/13773305]\n",
            "\n",
            "Archive:  ngrok-stable-linux-amd64.zip\n",
            "  inflating: ngrok                   \n",
            "https://f4e308b4.ngrok.io\n"
          ],
          "name": "stdout"
        }
      ]
    },
    {
      "cell_type": "code",
      "metadata": {
        "id": "Vvkfzo9Cgzt0",
        "colab_type": "code",
        "outputId": "d5e5f5b5-267b-469b-9e71-e68df2c4f240",
        "colab": {
          "base_uri": "https://localhost:8080/",
          "height": 224
        }
      },
      "source": [
        "# Install dependencies\n",
        "!pip install pyshp"
      ],
      "execution_count": 0,
      "outputs": [
        {
          "output_type": "stream",
          "text": [
            "Collecting pyshp\n",
            "\u001b[?25l  Downloading https://files.pythonhosted.org/packages/27/16/3bf15aa864fb77845fab8007eda22c2bd67bd6c1fd13496df452c8c43621/pyshp-2.1.0.tar.gz (215kB)\n",
            "\r\u001b[K     |█▌                              | 10kB 25.1MB/s eta 0:00:01\r\u001b[K     |███                             | 20kB 6.3MB/s eta 0:00:01\r\u001b[K     |████▋                           | 30kB 8.9MB/s eta 0:00:01\r\u001b[K     |██████                          | 40kB 11.1MB/s eta 0:00:01\r\u001b[K     |███████▋                        | 51kB 7.2MB/s eta 0:00:01\r\u001b[K     |█████████▏                      | 61kB 8.5MB/s eta 0:00:01\r\u001b[K     |██████████▋                     | 71kB 9.6MB/s eta 0:00:01\r\u001b[K     |████████████▏                   | 81kB 10.6MB/s eta 0:00:01\r\u001b[K     |█████████████▊                  | 92kB 8.5MB/s eta 0:00:01\r\u001b[K     |███████████████▏                | 102kB 9.3MB/s eta 0:00:01\r\u001b[K     |████████████████▊               | 112kB 9.3MB/s eta 0:00:01\r\u001b[K     |██████████████████▎             | 122kB 9.3MB/s eta 0:00:01\r\u001b[K     |███████████████████▉            | 133kB 9.3MB/s eta 0:00:01\r\u001b[K     |█████████████████████▎          | 143kB 9.3MB/s eta 0:00:01\r\u001b[K     |██████████████████████▉         | 153kB 9.3MB/s eta 0:00:01\r\u001b[K     |████████████████████████▍       | 163kB 9.3MB/s eta 0:00:01\r\u001b[K     |█████████████████████████▉      | 174kB 9.3MB/s eta 0:00:01\r\u001b[K     |███████████████████████████▍    | 184kB 9.3MB/s eta 0:00:01\r\u001b[K     |█████████████████████████████   | 194kB 9.3MB/s eta 0:00:01\r\u001b[K     |██████████████████████████████▍ | 204kB 9.3MB/s eta 0:00:01\r\u001b[K     |████████████████████████████████| 215kB 9.3MB/s eta 0:00:01\r\u001b[K     |████████████████████████████████| 225kB 9.3MB/s \n",
            "\u001b[?25hBuilding wheels for collected packages: pyshp\n",
            "  Building wheel for pyshp (setup.py) ... \u001b[?25l\u001b[?25hdone\n",
            "  Created wheel for pyshp: filename=pyshp-2.1.0-cp36-none-any.whl size=32609 sha256=557afd0c74dd48c6ad8014dbaf44d32abce1f80fd9893c8b9bb768598e69b4c3\n",
            "  Stored in directory: /root/.cache/pip/wheels/a6/0c/de/321b5192ad416b328975a2f0385f72c64db4656501eba7cc1a\n",
            "Successfully built pyshp\n",
            "Installing collected packages: pyshp\n",
            "Successfully installed pyshp-2.1.0\n"
          ],
          "name": "stdout"
        }
      ]
    },
    {
      "cell_type": "code",
      "metadata": {
        "id": "gZjVXnaz5hZd",
        "colab_type": "code",
        "outputId": "b0a05bed-88bf-4b1a-87db-374b15846921",
        "colab": {
          "base_uri": "https://localhost:8080/",
          "height": 36
        }
      },
      "source": [
        "# Import the PySpark module\n",
        "from pyspark.sql import SparkSession\n",
        "\n",
        "# Create SparkSession object\n",
        "spark = SparkSession.builder \\\n",
        "                    .master('local[*]') \\\n",
        "                    .appName('test') \\\n",
        "                    .getOrCreate()\n",
        "\n",
        "\n",
        "# What version of Spark?\n",
        "print(spark.version)"
      ],
      "execution_count": 0,
      "outputs": [
        {
          "output_type": "stream",
          "text": [
            "2.3.4\n"
          ],
          "name": "stdout"
        }
      ]
    },
    {
      "cell_type": "markdown",
      "metadata": {
        "id": "LEyrkSGjpqzK",
        "colab_type": "text"
      },
      "source": [
        "# Libaries"
      ]
    },
    {
      "cell_type": "code",
      "metadata": {
        "id": "vnMy6_BweXQa",
        "colab_type": "code",
        "colab": {}
      },
      "source": [
        "from pyspark import SparkFiles\n",
        "import time\n",
        "import pandas as pd\n",
        "from pyspark.sql.types import IntegerType, TimestampType, DoubleType, StringType, DoubleType, StructType, StructField\n",
        "from pyspark.sql.functions import col\n",
        "import shapefile"
      ],
      "execution_count": 0,
      "outputs": []
    },
    {
      "cell_type": "markdown",
      "metadata": {
        "id": "XSiAm-rRB0wU",
        "colab_type": "text"
      },
      "source": [
        " # 2. Loading data as parquet files"
      ]
    },
    {
      "cell_type": "markdown",
      "metadata": {
        "id": "mpzMe_HYP-6B",
        "colab_type": "text"
      },
      "source": [
        "##Part-I"
      ]
    },
    {
      "cell_type": "markdown",
      "metadata": {
        "id": "oYoaNg5LCDyE",
        "colab_type": "text"
      },
      "source": [
        "## 1. Read without imposing a schema.\n",
        "\n",
        "**Answer:** Read with inferSchema as None. If None is set, it uses the default value, false.\n"
      ]
    },
    {
      "cell_type": "code",
      "metadata": {
        "id": "gtov0_3_CBsO",
        "colab_type": "code",
        "colab": {}
      },
      "source": [
        "url_2015 = \"https://s3.amazonaws.com/nyc-tlc/trip+data/yellow_tripdata_2015-05.csv\"\n",
        "spark.sparkContext.addFile(url_2015)\n",
        "df_2015 = spark.read.csv(\"file://\"+SparkFiles.get(\"yellow_tripdata_2015-05.csv\"), header=True)\n"
      ],
      "execution_count": 0,
      "outputs": []
    },
    {
      "cell_type": "code",
      "metadata": {
        "id": "X4dWZeu7CGo6",
        "colab_type": "code",
        "colab": {}
      },
      "source": [
        "url_2018 = \"https://s3.amazonaws.com/nyc-tlc/trip+data/yellow_tripdata_2018-05.csv\"\n",
        "spark.sparkContext.addFile(url_2018)\n",
        "df_2018 = spark.read.csv(\"file://\"+SparkFiles.get(\"yellow_tripdata_2018-05.csv\"), header=True)\n"
      ],
      "execution_count": 0,
      "outputs": []
    },
    {
      "cell_type": "markdown",
      "metadata": {
        "id": "jBwwn9chCL7-",
        "colab_type": "text"
      },
      "source": [
        "##2. Inspect the inferred schema. Do you agree with Spark’s typing decision?\n",
        "\n",
        "**Answer:** No. I disagree with the inferred schema as it sets the datatype of every column to string regardless of the value present in column"
      ]
    },
    {
      "cell_type": "code",
      "metadata": {
        "id": "qQB0QdEOCS_h",
        "colab_type": "code",
        "outputId": "1f37579d-64f1-4656-fade-85190072e4fc",
        "colab": {
          "base_uri": "https://localhost:8080/",
          "height": 409
        }
      },
      "source": [
        "df_2015.printSchema()"
      ],
      "execution_count": 0,
      "outputs": [
        {
          "output_type": "stream",
          "text": [
            "root\n",
            " |-- VendorID: string (nullable = true)\n",
            " |-- tpep_pickup_datetime: string (nullable = true)\n",
            " |-- tpep_dropoff_datetime: string (nullable = true)\n",
            " |-- passenger_count: string (nullable = true)\n",
            " |-- trip_distance: string (nullable = true)\n",
            " |-- pickup_longitude: string (nullable = true)\n",
            " |-- pickup_latitude: string (nullable = true)\n",
            " |-- RateCodeID: string (nullable = true)\n",
            " |-- store_and_fwd_flag: string (nullable = true)\n",
            " |-- dropoff_longitude: string (nullable = true)\n",
            " |-- dropoff_latitude: string (nullable = true)\n",
            " |-- payment_type: string (nullable = true)\n",
            " |-- fare_amount: string (nullable = true)\n",
            " |-- extra: string (nullable = true)\n",
            " |-- mta_tax: string (nullable = true)\n",
            " |-- tip_amount: string (nullable = true)\n",
            " |-- tolls_amount: string (nullable = true)\n",
            " |-- improvement_surcharge: string (nullable = true)\n",
            " |-- total_amount: string (nullable = true)\n",
            "\n"
          ],
          "name": "stdout"
        }
      ]
    },
    {
      "cell_type": "code",
      "metadata": {
        "id": "P0orMPFTCXg0",
        "colab_type": "code",
        "outputId": "d23b5ee4-a1ce-426a-ce77-b9f20b0768e3",
        "colab": {
          "base_uri": "https://localhost:8080/",
          "height": 372
        }
      },
      "source": [
        "df_2018.printSchema()"
      ],
      "execution_count": 0,
      "outputs": [
        {
          "output_type": "stream",
          "text": [
            "root\n",
            " |-- VendorID: string (nullable = true)\n",
            " |-- tpep_pickup_datetime: string (nullable = true)\n",
            " |-- tpep_dropoff_datetime: string (nullable = true)\n",
            " |-- passenger_count: string (nullable = true)\n",
            " |-- trip_distance: string (nullable = true)\n",
            " |-- RatecodeID: string (nullable = true)\n",
            " |-- store_and_fwd_flag: string (nullable = true)\n",
            " |-- PULocationID: string (nullable = true)\n",
            " |-- DOLocationID: string (nullable = true)\n",
            " |-- payment_type: string (nullable = true)\n",
            " |-- fare_amount: string (nullable = true)\n",
            " |-- extra: string (nullable = true)\n",
            " |-- mta_tax: string (nullable = true)\n",
            " |-- tip_amount: string (nullable = true)\n",
            " |-- tolls_amount: string (nullable = true)\n",
            " |-- improvement_surcharge: string (nullable = true)\n",
            " |-- total_amount: string (nullable = true)\n",
            "\n"
          ],
          "name": "stdout"
        }
      ]
    },
    {
      "cell_type": "markdown",
      "metadata": {
        "id": "Bo4wCe9gCq3d",
        "colab_type": "text"
      },
      "source": [
        "##3. Eventually correct the schema and read again the data.\n",
        "\n",
        "**Answer**: There are two ways to correct the schema. "
      ]
    },
    {
      "cell_type": "markdown",
      "metadata": {
        "id": "3vEhf2vjn5-J",
        "colab_type": "text"
      },
      "source": [
        "\n",
        "**1. While reading data, set inferSchema = True. It requires one extra pass over the data to get the input schema automatically from data.**\n"
      ]
    },
    {
      "cell_type": "code",
      "metadata": {
        "id": "HE4QsHcpj3RD",
        "colab_type": "code",
        "colab": {}
      },
      "source": [
        "# df_2015_inferred = spark.read.csv(\"file://\"+SparkFiles.get(\"yellow_tripdata_2015-01.csv\"), header=True, inferSchema = True)"
      ],
      "execution_count": 0,
      "outputs": []
    },
    {
      "cell_type": "code",
      "metadata": {
        "id": "cc6dGTBLj5OS",
        "colab_type": "code",
        "colab": {}
      },
      "source": [
        "# df_2018_inferred = spark.read.csv(\"file://\"+SparkFiles.get(\"yellow_tripdata_2018-01.csv\"), header=True, inferSchema = True)"
      ],
      "execution_count": 0,
      "outputs": []
    },
    {
      "cell_type": "code",
      "metadata": {
        "id": "vL-QN0CRlg7Q",
        "colab_type": "code",
        "outputId": "1eda13c8-01a9-4a78-d325-f73e8e82ba3e",
        "colab": {
          "base_uri": "https://localhost:8080/",
          "height": 766
        }
      },
      "source": [
        "# df_2015_inferred.printSchema()\n",
        "# df_2018_inferred.printSchema()"
      ],
      "execution_count": 0,
      "outputs": [
        {
          "output_type": "stream",
          "text": [
            "root\n",
            " |-- VendorID: integer (nullable = true)\n",
            " |-- tpep_pickup_datetime: timestamp (nullable = true)\n",
            " |-- tpep_dropoff_datetime: timestamp (nullable = true)\n",
            " |-- passenger_count: integer (nullable = true)\n",
            " |-- trip_distance: double (nullable = true)\n",
            " |-- pickup_longitude: double (nullable = true)\n",
            " |-- pickup_latitude: double (nullable = true)\n",
            " |-- RateCodeID: integer (nullable = true)\n",
            " |-- store_and_fwd_flag: string (nullable = true)\n",
            " |-- dropoff_longitude: double (nullable = true)\n",
            " |-- dropoff_latitude: double (nullable = true)\n",
            " |-- payment_type: integer (nullable = true)\n",
            " |-- fare_amount: double (nullable = true)\n",
            " |-- extra: double (nullable = true)\n",
            " |-- mta_tax: double (nullable = true)\n",
            " |-- tip_amount: double (nullable = true)\n",
            " |-- tolls_amount: double (nullable = true)\n",
            " |-- improvement_surcharge: double (nullable = true)\n",
            " |-- total_amount: double (nullable = true)\n",
            "\n",
            "root\n",
            " |-- VendorID: integer (nullable = true)\n",
            " |-- tpep_pickup_datetime: timestamp (nullable = true)\n",
            " |-- tpep_dropoff_datetime: timestamp (nullable = true)\n",
            " |-- passenger_count: integer (nullable = true)\n",
            " |-- trip_distance: double (nullable = true)\n",
            " |-- RatecodeID: integer (nullable = true)\n",
            " |-- store_and_fwd_flag: string (nullable = true)\n",
            " |-- PULocationID: integer (nullable = true)\n",
            " |-- DOLocationID: integer (nullable = true)\n",
            " |-- payment_type: integer (nullable = true)\n",
            " |-- fare_amount: double (nullable = true)\n",
            " |-- extra: double (nullable = true)\n",
            " |-- mta_tax: double (nullable = true)\n",
            " |-- tip_amount: double (nullable = true)\n",
            " |-- tolls_amount: double (nullable = true)\n",
            " |-- improvement_surcharge: double (nullable = true)\n",
            " |-- total_amount: double (nullable = true)\n",
            "\n"
          ],
          "name": "stdout"
        }
      ]
    },
    {
      "cell_type": "markdown",
      "metadata": {
        "id": "mDSckZEWoEmB",
        "colab_type": "text"
      },
      "source": [
        "**2. Force schema**"
      ]
    },
    {
      "cell_type": "code",
      "metadata": {
        "id": "IA7JnyMSlV7B",
        "colab_type": "code",
        "colab": {}
      },
      "source": [
        "schema_2015 = StructType([\n",
        "    StructField(\"VendorID\", IntegerType()),\n",
        "    StructField(\"tpep_pickup_datetime\", TimestampType()),\n",
        "    StructField(\"tpep_dropoff_datetime\", TimestampType()),\n",
        "    StructField(\"passenger_count\", IntegerType()),\n",
        "    StructField(\"trip_distance\", DoubleType()),\n",
        "    StructField(\"pickup_longitude\", DoubleType()),\n",
        "    StructField(\"pickup_latitude\", DoubleType()),\n",
        "    StructField(\"RateCodeID\", IntegerType()),\n",
        "    StructField(\"store_and_fwd_flag\", StringType()),\n",
        "    StructField(\"dropoff_longitude\", DoubleType()),\n",
        "    StructField(\"dropoff_latitude\", DoubleType()),\n",
        "    StructField(\"payment_type\", IntegerType()),\n",
        "    StructField(\"fare_amount\", DoubleType()),\n",
        "    StructField(\"extra\", DoubleType()),\n",
        "    StructField(\"mta_tax\", DoubleType()),\n",
        "    StructField(\"tip_amount\", DoubleType()),\n",
        "    StructField(\"tolls_amount\", DoubleType()),\n",
        "    StructField(\"improvement_surcharge\", DoubleType()),\n",
        "    StructField(\"total_amount\", DoubleType())\n",
        "])\n",
        "\n",
        "schema_2018 = StructType([\n",
        "    StructField(\"VendorID\", IntegerType()),\n",
        "    StructField(\"tpep_pickup_datetime\", TimestampType()),\n",
        "    StructField(\"tpep_dropoff_datetime\", TimestampType()),\n",
        "    StructField(\"passenger_count\", IntegerType()),\n",
        "    StructField(\"trip_distance\", DoubleType()),\n",
        "    StructField(\"RateCodeID\", IntegerType()),\n",
        "    StructField(\"store_and_fwd_flag\", StringType()),\n",
        "    StructField(\"PULocationID\", IntegerType()),\n",
        "    StructField(\"DOLocationID\", IntegerType()),\n",
        "    StructField(\"payment_type\", IntegerType()),\n",
        "    StructField(\"fare_amount\", DoubleType()),\n",
        "    StructField(\"extra\", DoubleType()),\n",
        "    StructField(\"mta_tax\", DoubleType()),\n",
        "    StructField(\"tip_amount\", DoubleType()),\n",
        "    StructField(\"tolls_amount\", DoubleType()),\n",
        "    StructField(\"improvement_surcharge\", DoubleType()),\n",
        "    StructField(\"total_amount\", DoubleType())\n",
        "])"
      ],
      "execution_count": 0,
      "outputs": []
    },
    {
      "cell_type": "code",
      "metadata": {
        "id": "Y7t7kWnalV-R",
        "colab_type": "code",
        "colab": {}
      },
      "source": [
        "url_2015 = \"https://s3.amazonaws.com/nyc-tlc/trip+data/yellow_tripdata_2015-05.csv\"\n",
        "spark.sparkContext.addFile(url_2015)\n",
        "df_2015_schema = spark.read.csv(\"file://\"+SparkFiles.get(\"yellow_tripdata_2015-05.csv\"), header=True, nullValue='NA', schema=schema_2015)"
      ],
      "execution_count": 0,
      "outputs": []
    },
    {
      "cell_type": "code",
      "metadata": {
        "id": "hw7Q4HjwNqUW",
        "colab_type": "code",
        "colab": {}
      },
      "source": [
        "url_2018 = \"https://s3.amazonaws.com/nyc-tlc/trip+data/yellow_tripdata_2018-05.csv\"\n",
        "spark.sparkContext.addFile(url_2018)\n",
        "df_2018_schema = spark.read.csv(\"file://\"+SparkFiles.get(\"yellow_tripdata_2018-05.csv\"), header=True, nullValue='NA', schema=schema_2018)"
      ],
      "execution_count": 0,
      "outputs": []
    },
    {
      "cell_type": "markdown",
      "metadata": {
        "id": "9E7PwtfFLzcj",
        "colab_type": "text"
      },
      "source": [
        "**Get Lat/Long for LocationIDs**"
      ]
    },
    {
      "cell_type": "code",
      "metadata": {
        "id": "5NFAXRnILrYo",
        "colab_type": "code",
        "colab": {}
      },
      "source": [
        "def get_lat_lon(sf):\n",
        "    content = []\n",
        "    for sr in sf.shapeRecords():\n",
        "        shape = sr.shape\n",
        "        rec = sr.record\n",
        "        loc_id = rec[shp_dic['LocationID']]\n",
        "        \n",
        "        x = (shape.bbox[0]+shape.bbox[2])/2\n",
        "        y = (shape.bbox[1]+shape.bbox[3])/2\n",
        "        \n",
        "        content.append((loc_id, x, y))\n",
        "    return pd.DataFrame(content, columns=[\"LocationID\", \"longitude\", \"latitude\"])\n"
      ],
      "execution_count": 0,
      "outputs": []
    },
    {
      "cell_type": "code",
      "metadata": {
        "id": "RUHcFUsgMCsj",
        "colab_type": "code",
        "outputId": "8fd67b74-ec3d-4463-face-c64d53a30d72",
        "colab": {
          "base_uri": "https://localhost:8080/",
          "height": 206
        }
      },
      "source": [
        "sf = shapefile.Reader(\"taxi_zones.shp\")\n",
        "fields_name = [field[0] for field in sf.fields[1:]]\n",
        "shp_dic = dict(zip(fields_name, list(range(len(fields_name)))))\n",
        "attributes = sf.records()\n",
        "shp_attr = [dict(zip(fields_name, attr)) for attr in attributes]\n",
        "\n",
        "df_loc = pd.DataFrame(shp_attr).join(get_lat_lon(sf).set_index(\"LocationID\"), on=\"LocationID\")\n",
        "df_loc.head()\n"
      ],
      "execution_count": 0,
      "outputs": [
        {
          "output_type": "execute_result",
          "data": {
            "text/html": [
              "<div>\n",
              "<style scoped>\n",
              "    .dataframe tbody tr th:only-of-type {\n",
              "        vertical-align: middle;\n",
              "    }\n",
              "\n",
              "    .dataframe tbody tr th {\n",
              "        vertical-align: top;\n",
              "    }\n",
              "\n",
              "    .dataframe thead th {\n",
              "        text-align: right;\n",
              "    }\n",
              "</style>\n",
              "<table border=\"1\" class=\"dataframe\">\n",
              "  <thead>\n",
              "    <tr style=\"text-align: right;\">\n",
              "      <th></th>\n",
              "      <th>OBJECTID</th>\n",
              "      <th>Shape_Leng</th>\n",
              "      <th>Shape_Area</th>\n",
              "      <th>zone</th>\n",
              "      <th>LocationID</th>\n",
              "      <th>borough</th>\n",
              "      <th>longitude</th>\n",
              "      <th>latitude</th>\n",
              "    </tr>\n",
              "  </thead>\n",
              "  <tbody>\n",
              "    <tr>\n",
              "      <th>0</th>\n",
              "      <td>1</td>\n",
              "      <td>0.116357</td>\n",
              "      <td>0.000782</td>\n",
              "      <td>Newark Airport</td>\n",
              "      <td>1</td>\n",
              "      <td>EWR</td>\n",
              "      <td>9.366817e+05</td>\n",
              "      <td>190522.130278</td>\n",
              "    </tr>\n",
              "    <tr>\n",
              "      <th>1</th>\n",
              "      <td>2</td>\n",
              "      <td>0.433470</td>\n",
              "      <td>0.004866</td>\n",
              "      <td>Jamaica Bay</td>\n",
              "      <td>2</td>\n",
              "      <td>Queens</td>\n",
              "      <td>1.033536e+06</td>\n",
              "      <td>161853.982300</td>\n",
              "    </tr>\n",
              "    <tr>\n",
              "      <th>2</th>\n",
              "      <td>3</td>\n",
              "      <td>0.084341</td>\n",
              "      <td>0.000314</td>\n",
              "      <td>Allerton/Pelham Gardens</td>\n",
              "      <td>3</td>\n",
              "      <td>Bronx</td>\n",
              "      <td>1.027136e+06</td>\n",
              "      <td>254730.010849</td>\n",
              "    </tr>\n",
              "    <tr>\n",
              "      <th>3</th>\n",
              "      <td>4</td>\n",
              "      <td>0.043567</td>\n",
              "      <td>0.000112</td>\n",
              "      <td>Alphabet City</td>\n",
              "      <td>4</td>\n",
              "      <td>Manhattan</td>\n",
              "      <td>9.904240e+05</td>\n",
              "      <td>203100.040432</td>\n",
              "    </tr>\n",
              "    <tr>\n",
              "      <th>4</th>\n",
              "      <td>5</td>\n",
              "      <td>0.092146</td>\n",
              "      <td>0.000498</td>\n",
              "      <td>Arden Heights</td>\n",
              "      <td>5</td>\n",
              "      <td>Staten Island</td>\n",
              "      <td>9.321332e+05</td>\n",
              "      <td>139954.541936</td>\n",
              "    </tr>\n",
              "  </tbody>\n",
              "</table>\n",
              "</div>"
            ],
            "text/plain": [
              "   OBJECTID  Shape_Leng  Shape_Area  ...        borough     longitude       latitude\n",
              "0         1    0.116357    0.000782  ...            EWR  9.366817e+05  190522.130278\n",
              "1         2    0.433470    0.004866  ...         Queens  1.033536e+06  161853.982300\n",
              "2         3    0.084341    0.000314  ...          Bronx  1.027136e+06  254730.010849\n",
              "3         4    0.043567    0.000112  ...      Manhattan  9.904240e+05  203100.040432\n",
              "4         5    0.092146    0.000498  ...  Staten Island  9.321332e+05  139954.541936\n",
              "\n",
              "[5 rows x 8 columns]"
            ]
          },
          "metadata": {
            "tags": []
          },
          "execution_count": 11
        }
      ]
    },
    {
      "cell_type": "markdown",
      "metadata": {
        "id": "sKN7rO0nZ5H6",
        "colab_type": "text"
      },
      "source": [
        "** Lookup Longitude and Latitude for Pick Up and Drop Off Location IDs for df_2018_schema. Then merge df_2015_schema and df_2018_updated.**"
      ]
    },
    {
      "cell_type": "code",
      "metadata": {
        "id": "kLeiantsbxqE",
        "colab_type": "code",
        "colab": {}
      },
      "source": [
        "df_loc=df_loc[['LocationID','longitude','latitude']]\n",
        "loc_schema = StructType([\n",
        "    StructField(\"LocationID\", IntegerType()),\n",
        "    StructField(\"longitude\", DoubleType()),\n",
        "    StructField(\"latitude\", DoubleType())])\n",
        "dfspark_loc=spark.createDataFrame(df_loc, schema=loc_schema )"
      ],
      "execution_count": 0,
      "outputs": []
    },
    {
      "cell_type": "code",
      "metadata": {
        "id": "EdZTPQQ3cq_F",
        "colab_type": "code",
        "colab": {}
      },
      "source": [
        "# spark.sparkContext._jvm.System.gc()"
      ],
      "execution_count": 0,
      "outputs": []
    },
    {
      "cell_type": "code",
      "metadata": {
        "id": "ShdlHk0UcmXR",
        "colab_type": "code",
        "colab": {}
      },
      "source": [
        "dfspark_loc=dfspark_loc.select(col('LocationID').alias('PULocationID'),col('longitude'),col('latitude'))\n",
        "PULocation_df = df_2018_schema.join( dfspark_loc ,on='PULocationID',how='left')"
      ],
      "execution_count": 0,
      "outputs": []
    },
    {
      "cell_type": "code",
      "metadata": {
        "id": "O7U74YJLdTRo",
        "colab_type": "code",
        "outputId": "e9488ff5-ee03-41d7-8948-bf7575747fcb",
        "colab": {
          "base_uri": "https://localhost:8080/",
          "height": 894
        }
      },
      "source": [
        "PULocation_df = PULocation_df.select(\n",
        " col('PULocationID'),\n",
        " col('VendorID'),\n",
        " col('tpep_pickup_datetime'),\n",
        " col('tpep_dropoff_datetime'),\n",
        " col('passenger_count'),\n",
        " col('trip_distance'),\n",
        " col('RateCodeID'),\n",
        " col('store_and_fwd_flag'),\n",
        " col('DOLocationID'),\n",
        " col('payment_type'),\n",
        " col('fare_amount'),\n",
        " col('extra'),\n",
        " col('mta_tax'),\n",
        " col('tip_amount'),\n",
        " col('tolls_amount'),\n",
        " col('improvement_surcharge'),\n",
        " col('total_amount'),    \n",
        "col('longitude').alias('pickup_longitude'),\n",
        "col('latitude').alias('pickup_latitude')).collect()"
      ],
      "execution_count": 0,
      "outputs": [
        {
          "output_type": "error",
          "ename": "Py4JJavaError",
          "evalue": "ignored",
          "traceback": [
            "\u001b[0;31m---------------------------------------------------------------------------\u001b[0m",
            "\u001b[0;31mPy4JJavaError\u001b[0m                             Traceback (most recent call last)",
            "\u001b[0;32m<ipython-input-20-a7e2975cdc96>\u001b[0m in \u001b[0;36m<module>\u001b[0;34m()\u001b[0m\n\u001b[1;32m     18\u001b[0m  \u001b[0mcol\u001b[0m\u001b[0;34m(\u001b[0m\u001b[0;34m'total_amount'\u001b[0m\u001b[0;34m)\u001b[0m\u001b[0;34m,\u001b[0m\u001b[0;34m\u001b[0m\u001b[0;34m\u001b[0m\u001b[0m\n\u001b[1;32m     19\u001b[0m \u001b[0mcol\u001b[0m\u001b[0;34m(\u001b[0m\u001b[0;34m'longitude'\u001b[0m\u001b[0;34m)\u001b[0m\u001b[0;34m.\u001b[0m\u001b[0malias\u001b[0m\u001b[0;34m(\u001b[0m\u001b[0;34m'pickup_longitude'\u001b[0m\u001b[0;34m)\u001b[0m\u001b[0;34m,\u001b[0m\u001b[0;34m\u001b[0m\u001b[0;34m\u001b[0m\u001b[0m\n\u001b[0;32m---> 20\u001b[0;31m col('latitude').alias('pickup_latitude')).collect()\n\u001b[0m",
            "\u001b[0;32m/content/spark-2.3.4-bin-hadoop2.7/python/pyspark/sql/dataframe.py\u001b[0m in \u001b[0;36mcollect\u001b[0;34m(self)\u001b[0m\n\u001b[1;32m    464\u001b[0m         \"\"\"\n\u001b[1;32m    465\u001b[0m         \u001b[0;32mwith\u001b[0m \u001b[0mSCCallSiteSync\u001b[0m\u001b[0;34m(\u001b[0m\u001b[0mself\u001b[0m\u001b[0;34m.\u001b[0m\u001b[0m_sc\u001b[0m\u001b[0;34m)\u001b[0m \u001b[0;32mas\u001b[0m \u001b[0mcss\u001b[0m\u001b[0;34m:\u001b[0m\u001b[0;34m\u001b[0m\u001b[0;34m\u001b[0m\u001b[0m\n\u001b[0;32m--> 466\u001b[0;31m             \u001b[0msock_info\u001b[0m \u001b[0;34m=\u001b[0m \u001b[0mself\u001b[0m\u001b[0;34m.\u001b[0m\u001b[0m_jdf\u001b[0m\u001b[0;34m.\u001b[0m\u001b[0mcollectToPython\u001b[0m\u001b[0;34m(\u001b[0m\u001b[0;34m)\u001b[0m\u001b[0;34m\u001b[0m\u001b[0;34m\u001b[0m\u001b[0m\n\u001b[0m\u001b[1;32m    467\u001b[0m         \u001b[0;32mreturn\u001b[0m \u001b[0mlist\u001b[0m\u001b[0;34m(\u001b[0m\u001b[0m_load_from_socket\u001b[0m\u001b[0;34m(\u001b[0m\u001b[0msock_info\u001b[0m\u001b[0;34m,\u001b[0m \u001b[0mBatchedSerializer\u001b[0m\u001b[0;34m(\u001b[0m\u001b[0mPickleSerializer\u001b[0m\u001b[0;34m(\u001b[0m\u001b[0;34m)\u001b[0m\u001b[0;34m)\u001b[0m\u001b[0;34m)\u001b[0m\u001b[0;34m)\u001b[0m\u001b[0;34m\u001b[0m\u001b[0;34m\u001b[0m\u001b[0m\n\u001b[1;32m    468\u001b[0m \u001b[0;34m\u001b[0m\u001b[0m\n",
            "\u001b[0;32m/content/spark-2.3.4-bin-hadoop2.7/python/lib/py4j-0.10.7-src.zip/py4j/java_gateway.py\u001b[0m in \u001b[0;36m__call__\u001b[0;34m(self, *args)\u001b[0m\n\u001b[1;32m   1255\u001b[0m         \u001b[0manswer\u001b[0m \u001b[0;34m=\u001b[0m \u001b[0mself\u001b[0m\u001b[0;34m.\u001b[0m\u001b[0mgateway_client\u001b[0m\u001b[0;34m.\u001b[0m\u001b[0msend_command\u001b[0m\u001b[0;34m(\u001b[0m\u001b[0mcommand\u001b[0m\u001b[0;34m)\u001b[0m\u001b[0;34m\u001b[0m\u001b[0;34m\u001b[0m\u001b[0m\n\u001b[1;32m   1256\u001b[0m         return_value = get_return_value(\n\u001b[0;32m-> 1257\u001b[0;31m             answer, self.gateway_client, self.target_id, self.name)\n\u001b[0m\u001b[1;32m   1258\u001b[0m \u001b[0;34m\u001b[0m\u001b[0m\n\u001b[1;32m   1259\u001b[0m         \u001b[0;32mfor\u001b[0m \u001b[0mtemp_arg\u001b[0m \u001b[0;32min\u001b[0m \u001b[0mtemp_args\u001b[0m\u001b[0;34m:\u001b[0m\u001b[0;34m\u001b[0m\u001b[0;34m\u001b[0m\u001b[0m\n",
            "\u001b[0;32m/content/spark-2.3.4-bin-hadoop2.7/python/pyspark/sql/utils.py\u001b[0m in \u001b[0;36mdeco\u001b[0;34m(*a, **kw)\u001b[0m\n\u001b[1;32m     61\u001b[0m     \u001b[0;32mdef\u001b[0m \u001b[0mdeco\u001b[0m\u001b[0;34m(\u001b[0m\u001b[0;34m*\u001b[0m\u001b[0ma\u001b[0m\u001b[0;34m,\u001b[0m \u001b[0;34m**\u001b[0m\u001b[0mkw\u001b[0m\u001b[0;34m)\u001b[0m\u001b[0;34m:\u001b[0m\u001b[0;34m\u001b[0m\u001b[0;34m\u001b[0m\u001b[0m\n\u001b[1;32m     62\u001b[0m         \u001b[0;32mtry\u001b[0m\u001b[0;34m:\u001b[0m\u001b[0;34m\u001b[0m\u001b[0;34m\u001b[0m\u001b[0m\n\u001b[0;32m---> 63\u001b[0;31m             \u001b[0;32mreturn\u001b[0m \u001b[0mf\u001b[0m\u001b[0;34m(\u001b[0m\u001b[0;34m*\u001b[0m\u001b[0ma\u001b[0m\u001b[0;34m,\u001b[0m \u001b[0;34m**\u001b[0m\u001b[0mkw\u001b[0m\u001b[0;34m)\u001b[0m\u001b[0;34m\u001b[0m\u001b[0;34m\u001b[0m\u001b[0m\n\u001b[0m\u001b[1;32m     64\u001b[0m         \u001b[0;32mexcept\u001b[0m \u001b[0mpy4j\u001b[0m\u001b[0;34m.\u001b[0m\u001b[0mprotocol\u001b[0m\u001b[0;34m.\u001b[0m\u001b[0mPy4JJavaError\u001b[0m \u001b[0;32mas\u001b[0m \u001b[0me\u001b[0m\u001b[0;34m:\u001b[0m\u001b[0;34m\u001b[0m\u001b[0;34m\u001b[0m\u001b[0m\n\u001b[1;32m     65\u001b[0m             \u001b[0ms\u001b[0m \u001b[0;34m=\u001b[0m \u001b[0me\u001b[0m\u001b[0;34m.\u001b[0m\u001b[0mjava_exception\u001b[0m\u001b[0;34m.\u001b[0m\u001b[0mtoString\u001b[0m\u001b[0;34m(\u001b[0m\u001b[0;34m)\u001b[0m\u001b[0;34m\u001b[0m\u001b[0;34m\u001b[0m\u001b[0m\n",
            "\u001b[0;32m/content/spark-2.3.4-bin-hadoop2.7/python/lib/py4j-0.10.7-src.zip/py4j/protocol.py\u001b[0m in \u001b[0;36mget_return_value\u001b[0;34m(answer, gateway_client, target_id, name)\u001b[0m\n\u001b[1;32m    326\u001b[0m                 raise Py4JJavaError(\n\u001b[1;32m    327\u001b[0m                     \u001b[0;34m\"An error occurred while calling {0}{1}{2}.\\n\"\u001b[0m\u001b[0;34m.\u001b[0m\u001b[0;34m\u001b[0m\u001b[0;34m\u001b[0m\u001b[0m\n\u001b[0;32m--> 328\u001b[0;31m                     format(target_id, \".\", name), value)\n\u001b[0m\u001b[1;32m    329\u001b[0m             \u001b[0;32melse\u001b[0m\u001b[0;34m:\u001b[0m\u001b[0;34m\u001b[0m\u001b[0;34m\u001b[0m\u001b[0m\n\u001b[1;32m    330\u001b[0m                 raise Py4JError(\n",
            "\u001b[0;31mPy4JJavaError\u001b[0m: An error occurred while calling o309.collectToPython.\n: java.lang.OutOfMemoryError: GC overhead limit exceeded\n\tat org.apache.spark.sql.execution.SparkPlan$$anon$1.next(SparkPlan.scala:280)\n\tat org.apache.spark.sql.execution.SparkPlan$$anon$1.next(SparkPlan.scala:276)\n\tat scala.collection.Iterator$class.foreach(Iterator.scala:893)\n\tat org.apache.spark.sql.execution.SparkPlan$$anon$1.foreach(SparkPlan.scala:276)\n\tat org.apache.spark.sql.execution.SparkPlan$$anonfun$executeCollect$1.apply(SparkPlan.scala:298)\n\tat org.apache.spark.sql.execution.SparkPlan$$anonfun$executeCollect$1.apply(SparkPlan.scala:297)\n\tat scala.collection.IndexedSeqOptimized$class.foreach(IndexedSeqOptimized.scala:33)\n\tat scala.collection.mutable.ArrayOps$ofRef.foreach(ArrayOps.scala:186)\n\tat org.apache.spark.sql.execution.SparkPlan.executeCollect(SparkPlan.scala:297)\n\tat org.apache.spark.sql.Dataset$$anonfun$collectToPython$1.apply(Dataset.scala:3206)\n\tat org.apache.spark.sql.Dataset$$anonfun$collectToPython$1.apply(Dataset.scala:3203)\n\tat org.apache.spark.sql.Dataset$$anonfun$51.apply(Dataset.scala:3265)\n\tat org.apache.spark.sql.execution.SQLExecution$.withNewExecutionId(SQLExecution.scala:77)\n\tat org.apache.spark.sql.Dataset.withAction(Dataset.scala:3264)\n\tat org.apache.spark.sql.Dataset.collectToPython(Dataset.scala:3203)\n\tat sun.reflect.NativeMethodAccessorImpl.invoke0(Native Method)\n\tat sun.reflect.NativeMethodAccessorImpl.invoke(NativeMethodAccessorImpl.java:62)\n\tat sun.reflect.DelegatingMethodAccessorImpl.invoke(DelegatingMethodAccessorImpl.java:43)\n\tat java.lang.reflect.Method.invoke(Method.java:498)\n\tat py4j.reflection.MethodInvoker.invoke(MethodInvoker.java:244)\n\tat py4j.reflection.ReflectionEngine.invoke(ReflectionEngine.java:357)\n\tat py4j.Gateway.invoke(Gateway.java:282)\n\tat py4j.commands.AbstractCommand.invokeMethod(AbstractCommand.java:132)\n\tat py4j.commands.CallCommand.execute(CallCommand.java:79)\n\tat py4j.GatewayConnection.run(GatewayConnection.java:238)\n\tat java.lang.Thread.run(Thread.java:748)\n"
          ]
        }
      ]
    },
    {
      "cell_type": "code",
      "metadata": {
        "id": "OTkczM20etf9",
        "colab_type": "code",
        "outputId": "66899e7b-09a6-4628-88c6-e954366fa52d",
        "colab": {
          "base_uri": "https://localhost:8080/",
          "height": 187
        }
      },
      "source": [
        "PULocation_df.show(2)"
      ],
      "execution_count": 0,
      "outputs": [
        {
          "output_type": "stream",
          "text": [
            "+------------+--------+--------------------+---------------------+---------------+-------------+----------+------------------+------------+------------+-----------+-----+-------+----------+------------+---------------------+------------+-----------------+------------------+\n",
            "|PULocationID|VendorID|tpep_pickup_datetime|tpep_dropoff_datetime|passenger_count|trip_distance|RateCodeID|store_and_fwd_flag|DOLocationID|payment_type|fare_amount|extra|mta_tax|tip_amount|tolls_amount|improvement_surcharge|total_amount|        longitude|          latitude|\n",
            "+------------+--------+--------------------+---------------------+---------------+-------------+----------+------------------+------------+------------+-----------+-----+-------+----------+------------+---------------------+------------+-----------------+------------------+\n",
            "|         148|       1| 2018-05-01 00:08:57|  2018-05-01 00:18:15|              2|          1.7|         1|                 N|          13|           2|        8.5|  0.5|    0.5|       0.0|         0.0|                  0.3|         9.8|986837.8532487378|201264.70001680404|\n",
            "|         148|       1| 2018-05-01 00:45:27|  2018-05-01 00:55:17|              1|          1.3|         2|                 N|         231|           1|       52.0|  0.0|    0.5|     10.55|         0.0|                  0.3|       63.35|986837.8532487378|201264.70001680404|\n",
            "+------------+--------+--------------------+---------------------+---------------+-------------+----------+------------------+------------+------------+-----------+-----+-------+----------+------------+---------------------+------------+-----------------+------------------+\n",
            "only showing top 2 rows\n",
            "\n"
          ],
          "name": "stdout"
        }
      ]
    },
    {
      "cell_type": "code",
      "metadata": {
        "id": "Up8_Tx_Ftl8_",
        "colab_type": "code",
        "outputId": "0a8f2a6b-9511-4b32-cd09-17f2def4ccb8",
        "colab": {
          "base_uri": "https://localhost:8080/",
          "height": 167
        }
      },
      "source": [
        "dfspark_loc.show(2)"
      ],
      "execution_count": 0,
      "outputs": [
        {
          "output_type": "stream",
          "text": [
            "+------------+------------------+------------------+\n",
            "|PULocationID|         longitude|          latitude|\n",
            "+------------+------------------+------------------+\n",
            "|           1| 936681.7498053049|190522.13027768553|\n",
            "|           2|1033536.0827942044|161853.98229982704|\n",
            "+------------+------------------+------------------+\n",
            "only showing top 2 rows\n",
            "\n"
          ],
          "name": "stdout"
        }
      ]
    },
    {
      "cell_type": "code",
      "metadata": {
        "id": "WS_Lsml_etmQ",
        "colab_type": "code",
        "colab": {}
      },
      "source": [
        "dfspark_loc=dfspark_loc.select(col('PULocationID').alias('DOLocationID'),col('longitude'),col('latitude'))\n",
        "df_2018_updated = PULocation_df.join( dfspark_loc ,on='DOLocationID',how='left').select(\n",
        " col('VendorID'),\n",
        " col('tpep_pickup_datetime'),\n",
        " col('tpep_dropoff_datetime'),\n",
        " col('passenger_count'),\n",
        " col('trip_distance'),\n",
        " col('pickup_latitude'),\n",
        " col('pickup_longitude'),\n",
        " col('RateCodeID'),\n",
        " col('store_and_fwd_flag'),\n",
        " col('longitude').alias('dropoff_longitude'),\n",
        " col('latitude').alias('dropoff_latitude'),\n",
        " col('payment_type'),\n",
        " col('fare_amount'),\n",
        " col('extra'),\n",
        " col('mta_tax'),\n",
        " col('tip_amount'),\n",
        " col('tolls_amount'),\n",
        " col('improvement_surcharge'),\n",
        " col('total_amount')).collect()"
      ],
      "execution_count": 0,
      "outputs": []
    },
    {
      "cell_type": "code",
      "metadata": {
        "id": "MD17J08zetpq",
        "colab_type": "code",
        "outputId": "2c013ce9-bb7c-4488-a5a9-40ff26f62a79",
        "colab": {
          "base_uri": "https://localhost:8080/",
          "height": 187
        }
      },
      "source": [
        "DOLocationID_df.show(2)"
      ],
      "execution_count": 0,
      "outputs": [
        {
          "output_type": "stream",
          "text": [
            "+------------+------------+--------+--------------------+---------------------+---------------+-------------+----------+------------------+------------+-----------+-----+-------+----------+------------+---------------------+------------+-----------------+------------------+-----------------+------------------+\n",
            "|DOLocationID|PULocationID|VendorID|tpep_pickup_datetime|tpep_dropoff_datetime|passenger_count|trip_distance|RateCodeID|store_and_fwd_flag|payment_type|fare_amount|extra|mta_tax|tip_amount|tolls_amount|improvement_surcharge|total_amount| pickup_longitude|   pickup_latitude|        longitude|          latitude|\n",
            "+------------+------------+--------+--------------------+---------------------+---------------+-------------+----------+------------------+------------+-----------+-----+-------+----------+------------+---------------------+------------+-----------------+------------------+-----------------+------------------+\n",
            "|         148|         148|       1| 2018-05-01 00:39:45|  2018-05-01 00:41:20|              1|          0.2|         1|                 N|           2|        3.5|  0.5|    0.5|       0.0|         0.0|                  0.3|         4.8|986837.8532487378|201264.70001680404|986837.8532487378|201264.70001680404|\n",
            "|         148|         148|       1| 2018-05-01 00:21:29|  2018-05-01 00:21:52|              1|          0.1|         2|                 N|           2|       52.0|  0.0|    0.5|       0.0|         0.0|                  0.3|        52.8|986837.8532487378|201264.70001680404|986837.8532487378|201264.70001680404|\n",
            "+------------+------------+--------+--------------------+---------------------+---------------+-------------+----------+------------------+------------+-----------+-----+-------+----------+------------+---------------------+------------+-----------------+------------------+-----------------+------------------+\n",
            "only showing top 2 rows\n",
            "\n"
          ],
          "name": "stdout"
        }
      ]
    },
    {
      "cell_type": "code",
      "metadata": {
        "id": "RG3guItIauCH",
        "colab_type": "code",
        "colab": {}
      },
      "source": [
        "from functools import reduce  # For Python 3.x\n",
        "from pyspark.sql import DataFrame\n",
        "\n",
        "def unionAll(*dfs):\n",
        "    return reduce(DataFrame.unionAll, dfs)\n",
        "\n",
        "ny_taxi_df =unionAll(df_2015_schema,df_2018_updated)"
      ],
      "execution_count": 0,
      "outputs": []
    },
    {
      "cell_type": "code",
      "metadata": {
        "id": "9exASbHGTXBu",
        "colab_type": "code",
        "outputId": "4c3ec0c4-03e3-498b-de67-ff983e5892e2",
        "colab": {
          "base_uri": "https://localhost:8080/",
          "height": 187
        }
      },
      "source": [
        "ny_taxi_df.show(2)"
      ],
      "execution_count": 0,
      "outputs": [
        {
          "output_type": "stream",
          "text": [
            "+--------+--------------------+---------------------+---------------+-------------+------------------+------------------+----------+------------------+------------------+------------------+------------+-----------+-----+-------+----------+------------+---------------------+------------+\n",
            "|VendorID|tpep_pickup_datetime|tpep_dropoff_datetime|passenger_count|trip_distance|  pickup_longitude|   pickup_latitude|RateCodeID|store_and_fwd_flag| dropoff_longitude|  dropoff_latitude|payment_type|fare_amount|extra|mta_tax|tip_amount|tolls_amount|improvement_surcharge|total_amount|\n",
            "+--------+--------------------+---------------------+---------------+-------------+------------------+------------------+----------+------------------+------------------+------------------+------------+-----------+-----+-------+----------+------------+---------------------+------------+\n",
            "|       1| 2015-05-05 23:37:40|  2015-05-05 23:45:41|              1|          2.0|-74.00167846679688| 40.73931121826172|         1|                 N| -73.9782943725586| 40.75210952758789|           2|        8.5|  0.5|    0.5|       0.0|         0.0|                  0.3|         9.8|\n",
            "|       2| 2015-05-05 23:37:40|  2015-05-05 23:40:36|              1|         0.54|-73.93083953857422|40.744789123535156|         1|                 N|-73.93751525878906|40.749359130859375|           2|        4.5|  0.5|    0.5|       0.0|         0.0|                  0.3|         5.8|\n",
            "+--------+--------------------+---------------------+---------------+-------------+------------------+------------------+----------+------------------+------------------+------------------+------------+-----------+-----+-------+----------+------------+---------------------+------------+\n",
            "only showing top 2 rows\n",
            "\n"
          ],
          "name": "stdout"
        }
      ]
    },
    {
      "cell_type": "code",
      "metadata": {
        "id": "B2oltsy3VZDr",
        "colab_type": "code",
        "outputId": "2d0e13e8-abb8-4321-9d6d-e69daf3a649c",
        "colab": {
          "base_uri": "https://localhost:8080/",
          "height": 167
        }
      },
      "source": [
        "ny_taxi_df.groupby('VendorID').count().show()"
      ],
      "execution_count": 0,
      "outputs": [
        {
          "output_type": "stream",
          "text": [
            "+--------+--------+\n",
            "|VendorID|   count|\n",
            "+--------+--------+\n",
            "|       1|10305945|\n",
            "|       4|    1130|\n",
            "|       2|12084280|\n",
            "+--------+--------+\n",
            "\n"
          ],
          "name": "stdout"
        }
      ]
    },
    {
      "cell_type": "markdown",
      "metadata": {
        "id": "DL816nfeFunA",
        "colab_type": "text"
      },
      "source": [
        "## 4. Save the data into parquet files given number of partitions and partition column"
      ]
    },
    {
      "cell_type": "code",
      "metadata": {
        "id": "y_KOSdCiFu2r",
        "colab_type": "code",
        "colab": {}
      },
      "source": [
        "# df_2015.repartition(3).write.partitionBy('RateCodeID').mode(\n",
        "# \"overwrite\").parquet(\"data/df_2015.parquet\")"
      ],
      "execution_count": 0,
      "outputs": []
    },
    {
      "cell_type": "code",
      "metadata": {
        "id": "UyZebbA8F0HK",
        "colab_type": "code",
        "colab": {}
      },
      "source": [
        "# df_2018.repartition(2).write.partitionBy('RateCodeID').mode(\n",
        "# \"overwrite\").parquet(\"data/df_2018.parquet\")"
      ],
      "execution_count": 0,
      "outputs": []
    },
    {
      "cell_type": "code",
      "metadata": {
        "id": "8AMTZLjOWoVj",
        "colab_type": "code",
        "colab": {}
      },
      "source": [
        "#  there are two cores in Colab processor, so we should create at least 2 partitions. Since There are 3 dinstinct VendorIDs with \n",
        "#  most data skewed over 1 and 2. So we use VendorID as partitioning column and specify 1 parquet file in each partition. \n",
        "ny_taxi_df.repartition(1).write.partitionBy('VendorID').mode(\n",
        "\"overwrite\").parquet(\"data/NY-Taxi.parquet\")"
      ],
      "execution_count": 0,
      "outputs": []
    },
    {
      "cell_type": "code",
      "metadata": {
        "id": "Trj1r20mXkmv",
        "colab_type": "code",
        "outputId": "8ae226c3-e37e-4e69-c817-adc65e45172b",
        "colab": {
          "base_uri": "https://localhost:8080/",
          "height": 1000
        }
      },
      "source": [
        "# !cat /proc/cpuinfo"
      ],
      "execution_count": 0,
      "outputs": [
        {
          "output_type": "stream",
          "text": [
            "processor\t: 0\n",
            "vendor_id\t: GenuineIntel\n",
            "cpu family\t: 6\n",
            "model\t\t: 79\n",
            "model name\t: Intel(R) Xeon(R) CPU @ 2.20GHz\n",
            "stepping\t: 0\n",
            "microcode\t: 0x1\n",
            "cpu MHz\t\t: 2200.196\n",
            "cache size\t: 56320 KB\n",
            "physical id\t: 0\n",
            "siblings\t: 2\n",
            "core id\t\t: 0\n",
            "cpu cores\t: 1\n",
            "apicid\t\t: 0\n",
            "initial apicid\t: 0\n",
            "fpu\t\t: yes\n",
            "fpu_exception\t: yes\n",
            "cpuid level\t: 13\n",
            "wp\t\t: yes\n",
            "flags\t\t: fpu vme de pse tsc msr pae mce cx8 apic sep mtrr pge mca cmov pat pse36 clflush mmx fxsr sse sse2 ss ht syscall nx pdpe1gb rdtscp lm constant_tsc rep_good nopl xtopology nonstop_tsc cpuid tsc_known_freq pni pclmulqdq ssse3 fma cx16 pcid sse4_1 sse4_2 x2apic movbe popcnt aes xsave avx f16c rdrand hypervisor lahf_lm abm 3dnowprefetch invpcid_single ssbd ibrs ibpb stibp fsgsbase tsc_adjust bmi1 hle avx2 smep bmi2 erms invpcid rtm rdseed adx smap xsaveopt arat md_clear arch_capabilities\n",
            "bugs\t\t: cpu_meltdown spectre_v1 spectre_v2 spec_store_bypass l1tf mds swapgs taa itlb_multihit\n",
            "bogomips\t: 4400.39\n",
            "clflush size\t: 64\n",
            "cache_alignment\t: 64\n",
            "address sizes\t: 46 bits physical, 48 bits virtual\n",
            "power management:\n",
            "\n",
            "processor\t: 1\n",
            "vendor_id\t: GenuineIntel\n",
            "cpu family\t: 6\n",
            "model\t\t: 79\n",
            "model name\t: Intel(R) Xeon(R) CPU @ 2.20GHz\n",
            "stepping\t: 0\n",
            "microcode\t: 0x1\n",
            "cpu MHz\t\t: 2200.196\n",
            "cache size\t: 56320 KB\n",
            "physical id\t: 0\n",
            "siblings\t: 2\n",
            "core id\t\t: 0\n",
            "cpu cores\t: 1\n",
            "apicid\t\t: 1\n",
            "initial apicid\t: 1\n",
            "fpu\t\t: yes\n",
            "fpu_exception\t: yes\n",
            "cpuid level\t: 13\n",
            "wp\t\t: yes\n",
            "flags\t\t: fpu vme de pse tsc msr pae mce cx8 apic sep mtrr pge mca cmov pat pse36 clflush mmx fxsr sse sse2 ss ht syscall nx pdpe1gb rdtscp lm constant_tsc rep_good nopl xtopology nonstop_tsc cpuid tsc_known_freq pni pclmulqdq ssse3 fma cx16 pcid sse4_1 sse4_2 x2apic movbe popcnt aes xsave avx f16c rdrand hypervisor lahf_lm abm 3dnowprefetch invpcid_single ssbd ibrs ibpb stibp fsgsbase tsc_adjust bmi1 hle avx2 smep bmi2 erms invpcid rtm rdseed adx smap xsaveopt arat md_clear arch_capabilities\n",
            "bugs\t\t: cpu_meltdown spectre_v1 spectre_v2 spec_store_bypass l1tf mds swapgs taa itlb_multihit\n",
            "bogomips\t: 4400.39\n",
            "clflush size\t: 64\n",
            "cache_alignment\t: 64\n",
            "address sizes\t: 46 bits physical, 48 bits virtual\n",
            "power management:\n",
            "\n"
          ],
          "name": "stdout"
        }
      ]
    },
    {
      "cell_type": "markdown",
      "metadata": {
        "id": "mmd0vpCoEvqq",
        "colab_type": "text"
      },
      "source": [
        "##Part-II\n",
        "**1. What is the StorageLevel of the dataframe after reading the csv files?**\n",
        "\n",
        "**Answer:** df.storageLevel(useDisk, useMemory, useOffHeap, deserialized, replication)"
      ]
    },
    {
      "cell_type": "code",
      "metadata": {
        "id": "r3gdvBYZvirW",
        "colab_type": "code",
        "outputId": "c3715780-7da0-4584-c0a1-1b994576baa7",
        "colab": {
          "base_uri": "https://localhost:8080/",
          "height": 36
        }
      },
      "source": [
        "df_2015.storageLevel"
      ],
      "execution_count": 0,
      "outputs": [
        {
          "output_type": "execute_result",
          "data": {
            "text/plain": [
              "StorageLevel(False, False, False, False, 1)"
            ]
          },
          "metadata": {
            "tags": []
          },
          "execution_count": 15
        }
      ]
    },
    {
      "cell_type": "code",
      "metadata": {
        "id": "29DFTKJIE4H5",
        "colab_type": "code",
        "outputId": "7f414891-1990-4b6a-c673-5f76810f512f",
        "colab": {
          "base_uri": "https://localhost:8080/",
          "height": 36
        }
      },
      "source": [
        "df_2018.storageLevel"
      ],
      "execution_count": 0,
      "outputs": [
        {
          "output_type": "execute_result",
          "data": {
            "text/plain": [
              "StorageLevel(False, False, False, False, 1)"
            ]
          },
          "metadata": {
            "tags": []
          },
          "execution_count": 16
        }
      ]
    },
    {
      "cell_type": "markdown",
      "metadata": {
        "id": "oQ9TU4JmE8JY",
        "colab_type": "text"
      },
      "source": [
        "**2. What is the number of partitions of the dataframe?**\n",
        "\n",
        "**Answer:**"
      ]
    },
    {
      "cell_type": "code",
      "metadata": {
        "id": "EBsivIIouDub",
        "colab_type": "code",
        "outputId": "baf770c5-f095-4315-8a23-e2ff0b4df2a7",
        "colab": {
          "base_uri": "https://localhost:8080/",
          "height": 36
        }
      },
      "source": [
        "df_2015.rdd.getNumPartitions()"
      ],
      "execution_count": 0,
      "outputs": [
        {
          "output_type": "execute_result",
          "data": {
            "text/plain": [
              "15"
            ]
          },
          "metadata": {
            "tags": []
          },
          "execution_count": 17
        }
      ]
    },
    {
      "cell_type": "code",
      "metadata": {
        "id": "I__ltdcdFAyg",
        "colab_type": "code",
        "outputId": "41260b14-0d5e-4d5c-e039-839bfb84cd5b",
        "colab": {
          "base_uri": "https://localhost:8080/",
          "height": 36
        }
      },
      "source": [
        "df_2018.rdd.getNumPartitions()"
      ],
      "execution_count": 0,
      "outputs": [
        {
          "output_type": "execute_result",
          "data": {
            "text/plain": [
              "6"
            ]
          },
          "metadata": {
            "tags": []
          },
          "execution_count": 18
        }
      ]
    },
    {
      "cell_type": "markdown",
      "metadata": {
        "id": "oaH-28PLFFN9",
        "colab_type": "text"
      },
      "source": [
        "**3.Is it possible to tune this number at loading time?**\n",
        "\n",
        "**Answer:** Yes, we can tune the number of partitions at loading time with coalesce(n)."
      ]
    },
    {
      "cell_type": "code",
      "metadata": {
        "id": "qdrbFSLXvdLr",
        "colab_type": "code",
        "colab": {}
      },
      "source": [
        "df_2015_tuned = spark.read.csv(\"file://\"+SparkFiles.get(\"yellow_tripdata_2015-01.csv\"), header=True, nullValue='NA', schema=schema_2015).coalesce(10)\n"
      ],
      "execution_count": 0,
      "outputs": []
    },
    {
      "cell_type": "code",
      "metadata": {
        "id": "XkBV5WKNx5Wp",
        "colab_type": "code",
        "colab": {}
      },
      "source": [
        "df_2018_tuned = spark.read.csv(\"file://\"+SparkFiles.get(\"yellow_tripdata_2018-01.csv\"), header=True, nullValue='NA', schema=schema_2018).coalesce(3)\n"
      ],
      "execution_count": 0,
      "outputs": []
    },
    {
      "cell_type": "code",
      "metadata": {
        "id": "izVpKNTGvdOi",
        "colab_type": "code",
        "outputId": "be0f6174-0e68-4245-d0f0-50a234c39848",
        "colab": {
          "base_uri": "https://localhost:8080/",
          "height": 36
        }
      },
      "source": [
        "df_2015_tuned.rdd.getNumPartitions()"
      ],
      "execution_count": 0,
      "outputs": [
        {
          "output_type": "execute_result",
          "data": {
            "text/plain": [
              "10"
            ]
          },
          "metadata": {
            "tags": []
          },
          "execution_count": 23
        }
      ]
    },
    {
      "cell_type": "code",
      "metadata": {
        "id": "8QkH6flLyOLl",
        "colab_type": "code",
        "outputId": "24afe285-4dd8-46d7-c5d8-267769a451db",
        "colab": {
          "base_uri": "https://localhost:8080/",
          "height": 36
        }
      },
      "source": [
        "df_2018_tuned.rdd.getNumPartitions()"
      ],
      "execution_count": 0,
      "outputs": [
        {
          "output_type": "execute_result",
          "data": {
            "text/plain": [
              "3"
            ]
          },
          "metadata": {
            "tags": []
          },
          "execution_count": 24
        }
      ]
    },
    {
      "cell_type": "markdown",
      "metadata": {
        "id": "xyfeImUAFXgb",
        "colab_type": "text"
      },
      "source": [
        "**4. Why would we want to modify the number of partitions when creating the parquet files?**\n",
        "\n",
        "**Answer:** Becaue we want to utilize the distributive power of Spark and process data efficiently."
      ]
    },
    {
      "cell_type": "markdown",
      "metadata": {
        "id": "3u2kNw8CWw9d",
        "colab_type": "text"
      },
      "source": [
        "#3. Investigate (at least) one month of data in 2015\n",
        "The following longitudes and lattitudes encompass Newark and JFK airports, Northern Manhattanand Verazzano bridge"
      ]
    },
    {
      "cell_type": "markdown",
      "metadata": {
        "id": "YG3J8ZCgb9uy",
        "colab_type": "text"
      },
      "source": [
        "**Read parquet files**"
      ]
    },
    {
      "cell_type": "code",
      "metadata": {
        "id": "1WGpq6YGcBzd",
        "colab_type": "code",
        "colab": {}
      },
      "source": [
        "parque_df = spark.read.option(\"mergeSchema\", \"true\").parquet(\"data/NY-Taxi.parquet\")"
      ],
      "execution_count": 0,
      "outputs": []
    },
    {
      "cell_type": "code",
      "metadata": {
        "id": "5Pp2BheHdQ6U",
        "colab_type": "code",
        "outputId": "3e76eef5-fa51-4a48-9e76-8042bfc56cf3",
        "colab": {
          "base_uri": "https://localhost:8080/",
          "height": 187
        }
      },
      "source": [
        "parque_df.show(2)"
      ],
      "execution_count": 0,
      "outputs": [
        {
          "output_type": "stream",
          "text": [
            "+--------------------+---------------------+---------------+-------------+------------------+------------------+----------+------------------+-----------------+------------------+------------+-----------+-----+-------+----------+------------+---------------------+------------+--------+\n",
            "|tpep_pickup_datetime|tpep_dropoff_datetime|passenger_count|trip_distance|  pickup_longitude|   pickup_latitude|RateCodeID|store_and_fwd_flag|dropoff_longitude|  dropoff_latitude|payment_type|fare_amount|extra|mta_tax|tip_amount|tolls_amount|improvement_surcharge|total_amount|VendorID|\n",
            "+--------------------+---------------------+---------------+-------------+------------------+------------------+----------+------------------+-----------------+------------------+------------+-----------+-----+-------+----------+------------+---------------------+------------+--------+\n",
            "| 2018-05-15 13:12:38|  2018-05-15 13:21:44|              2|         0.88|219305.44864677638| 993768.7833131626|         1|                 N|991876.7479660362|215015.15063039213|           2|        7.0|  0.0|    0.5|       0.0|         0.0|                  0.3|         7.8|       2|\n",
            "| 2015-05-31 13:01:32|  2015-05-31 14:00:37|              1|         20.4| -73.7812728881836|40.644893646240234|         2|                 N|-73.9923324584961| 40.73209762573242|           1|       52.0|  0.0|    0.5|     11.67|        5.54|                  0.3|       70.01|       2|\n",
            "+--------------------+---------------------+---------------+-------------+------------------+------------------+----------+------------------+-----------------+------------------+------------+-----------+-----+-------+----------+------------+---------------------+------------+--------+\n",
            "only showing top 2 rows\n",
            "\n"
          ],
          "name": "stdout"
        }
      ]
    },
    {
      "cell_type": "code",
      "metadata": {
        "id": "ZRcJSIk0GiW2",
        "colab_type": "code",
        "colab": {}
      },
      "source": [
        "long_min=-74.10\n",
        "long_max=-73.70\n",
        "lat_min=40.58\n",
        "lat_max=40.90"
      ],
      "execution_count": 0,
      "outputs": []
    },
    {
      "cell_type": "markdown",
      "metadata": {
        "id": "n1DHn1pmBvOB",
        "colab_type": "text"
      },
      "source": [
        "Using these boundaries,filter the 2015 data(using pickup and dropoff longitude andlatitude) and count the number of trips for each value of passenger_count and make a plot of that."
      ]
    },
    {
      "cell_type": "code",
      "metadata": {
        "id": "gKAwHALgW2ZO",
        "colab_type": "code",
        "colab": {}
      },
      "source": [
        "import pyspark.sql.functions as func\n",
        "filtered_df = parque_df.filter( \n",
        "    (func.round(col('pickup_longitude'),2)>= long_min) & \n",
        "    (func.round(col('pickup_longitude'),2)<= long_max ) &\n",
        "    (func.round(col('pickup_latitude'),2)>= lat_min ) & \n",
        "    (func.round(col('pickup_latitude'),2)<=  lat_max) &\n",
        "    (func.round(col('dropoff_longitude'),2)>= long_min) & \n",
        "    (func.round(col('dropoff_longitude'),2)<= long_max ) &\n",
        "    (func.round(col('dropoff_latitude'),2)>= lat_min ) & \n",
        "    (func.round(col('dropoff_latitude'),2)<=  lat_max) \n",
        "    )"
      ],
      "execution_count": 0,
      "outputs": []
    },
    {
      "cell_type": "code",
      "metadata": {
        "id": "40blpKi1b8s8",
        "colab_type": "code",
        "outputId": "1d8351d9-ddd3-4644-89f1-05125ea4a6f8",
        "colab": {
          "base_uri": "https://localhost:8080/",
          "height": 36
        }
      },
      "source": [
        "filtered_df.count()"
      ],
      "execution_count": 0,
      "outputs": [
        {
          "output_type": "execute_result",
          "data": {
            "text/plain": [
              "12896295"
            ]
          },
          "metadata": {
            "tags": []
          },
          "execution_count": 30
        }
      ]
    },
    {
      "cell_type": "code",
      "metadata": {
        "id": "ArkWEDjZe_jR",
        "colab_type": "code",
        "colab": {}
      },
      "source": [
        "passenger_grouped = filtered_df.groupBy('passenger_count').count()"
      ],
      "execution_count": 0,
      "outputs": []
    },
    {
      "cell_type": "code",
      "metadata": {
        "id": "_L_Ctzr7iaR3",
        "colab_type": "code",
        "outputId": "d5d706a3-16b5-4e03-92e0-789129a95a8f",
        "colab": {
          "base_uri": "https://localhost:8080/",
          "height": 298
        }
      },
      "source": [
        "passenger_grouped.show()"
      ],
      "execution_count": 0,
      "outputs": [
        {
          "output_type": "stream",
          "text": [
            "+---------------+-------+\n",
            "|passenger_count|  count|\n",
            "+---------------+-------+\n",
            "|              1|9038276|\n",
            "|              6| 465291|\n",
            "|              3| 553508|\n",
            "|              5| 701952|\n",
            "|              9|      5|\n",
            "|              4| 261812|\n",
            "|              8|      6|\n",
            "|              7|     10|\n",
            "|              2|1872418|\n",
            "|              0|   3017|\n",
            "+---------------+-------+\n",
            "\n"
          ],
          "name": "stdout"
        }
      ]
    },
    {
      "cell_type": "code",
      "metadata": {
        "id": "bdqrByd0lMdb",
        "colab_type": "code",
        "outputId": "136311e5-0019-4c34-8fc8-c55d40db98cb",
        "colab": {
          "base_uri": "https://localhost:8080/",
          "height": 311
        }
      },
      "source": [
        "group_df = passenger_grouped.toPandas()\n",
        "ax = group_df.plot(kind='bar',x='passenger_count',y='count', title = 'No of trips for each value of passenger_count ') \n",
        "ax.set_xlabel(\"Passenger Count\")\n",
        "ax.set_ylabel(\"No of trips\")"
      ],
      "execution_count": 0,
      "outputs": [
        {
          "output_type": "execute_result",
          "data": {
            "text/plain": [
              "Text(0, 0.5, 'No of trips')"
            ]
          },
          "metadata": {
            "tags": []
          },
          "execution_count": 33
        },
        {
          "output_type": "display_data",
          "data": {
            "image/png": "[encoded data removed]",
            "text/plain": [
              "<Figure size 432x288 with 1 Axes>"
            ]
          },
          "metadata": {
            "tags": [],
            "needs_background": "light"
          }
        }
      ]
    },
    {
      "cell_type": "markdown",
      "metadata": {
        "id": "sC23JfpjCsSG",
        "colab_type": "text"
      },
      "source": [
        "**1.What’s special with trips with zero passengers**\n",
        "\n",
        "These trips do not have anything worth analysing. These trips have mostly 0 trip distance and were charged for that. It means these trips may either be mistakenly booked by the customer or made by the capton to complete his rides.\n"
      ]
    },
    {
      "cell_type": "code",
      "metadata": {
        "id": "2ExebPe8Cs5X",
        "colab_type": "code",
        "colab": {}
      },
      "source": [
        "trips_0 = filtered_df.filter(col('passenger_count')==0)"
      ],
      "execution_count": 0,
      "outputs": []
    },
    {
      "cell_type": "code",
      "metadata": {
        "id": "4XoNt7MIgiRH",
        "colab_type": "code",
        "outputId": "236ff92e-d2a2-4fe4-cfc0-92a072dd6719",
        "colab": {
          "base_uri": "https://localhost:8080/",
          "height": 524
        }
      },
      "source": [
        "trips_0.show()"
      ],
      "execution_count": 0,
      "outputs": [
        {
          "output_type": "stream",
          "text": [
            "+--------------------+---------------------+---------------+-------------+------------------+------------------+----------+------------------+------------------+------------------+------------+-----------+-----+-------+----------+------------+---------------------+------------+--------+\n",
            "|tpep_pickup_datetime|tpep_dropoff_datetime|passenger_count|trip_distance|  pickup_longitude|   pickup_latitude|RateCodeID|store_and_fwd_flag| dropoff_longitude|  dropoff_latitude|payment_type|fare_amount|extra|mta_tax|tip_amount|tolls_amount|improvement_surcharge|total_amount|VendorID|\n",
            "+--------------------+---------------------+---------------+-------------+------------------+------------------+----------+------------------+------------------+------------------+------------+-----------+-----+-------+----------+------------+---------------------+------------+--------+\n",
            "| 2015-05-22 02:25:56|  2015-05-22 02:27:56|              0|          0.0|-73.95744323730469|40.687721252441406|         5|                 N|-73.95984649658203| 40.68803787231445|           2|       48.5|  0.0|    0.5|       0.0|         0.0|                  0.3|        49.3|       2|\n",
            "| 2015-05-19 17:33:52|  2015-05-19 17:34:20|              0|          0.0| -74.0089111328125| 40.71749496459961|         5|                 N|-74.00886535644531| 40.71742630004883|           1|        0.0|  0.0|    0.5|      40.0|         0.0|                  0.3|        40.8|       2|\n",
            "| 2015-05-18 23:35:33|  2015-05-18 23:35:36|              0|         0.03|-74.00281524658203|40.724586486816406|         5|                 N|-74.00311279296875|40.724308013916016|           1|        8.5|  0.0|    0.5|      1.86|         0.0|                  0.3|       11.16|       2|\n",
            "| 2015-05-27 19:03:38|  2015-05-27 19:03:43|              0|          0.0|-73.87110900878906|40.774070739746094|         5|                 N|-73.87115478515625|  40.7740364074707|           1|      38.54|  0.0|    0.5|       0.0|         0.0|                  0.3|       39.34|       2|\n",
            "| 2015-05-22 20:18:05|  2015-05-22 20:18:19|              0|          0.0|-73.98314666748047|40.762760162353516|         5|                 N|-73.98306274414062|  40.7625617980957|           2|       60.0|  0.0|    0.5|       0.0|         0.0|                  0.3|        60.8|       2|\n",
            "| 2015-05-07 21:49:26|  2015-05-07 21:50:06|              0|          0.0|-73.98397827148438|    40.67626953125|         5|                 N|-73.98397827148438|40.676246643066406|           1|       28.0|  0.0|    0.5|      8.64|         0.0|                  0.3|       37.44|       2|\n",
            "| 2015-05-21 00:43:49|  2015-05-21 00:43:52|              0|          0.0|-74.00401306152344|40.742088317871094|         5|                 N|      -74.00390625|40.742103576660156|           1|      58.04|  0.0|    0.5|       5.0|         0.0|                  0.3|       63.84|       2|\n",
            "| 2015-05-08 00:46:16|  2015-05-08 00:46:20|              0|          0.0|-73.97332763671875| 40.74839782714844|         5|                 N|-73.97334289550781| 40.74838638305664|           1|       70.5|  0.0|    0.5|     14.26|         0.0|                  0.3|       85.56|       2|\n",
            "| 2015-05-17 01:48:39|  2015-05-17 01:48:49|              0|          0.0|-73.96612548828125| 40.75391387939453|         5|                 N|-73.96620178222656|40.753929138183594|           1|       14.5|  0.0|    0.5|       0.0|         0.0|                  0.3|        15.3|       2|\n",
            "| 2015-05-02 18:46:59|  2015-05-02 18:48:41|              0|         0.01|-73.98029327392578| 40.78556823730469|         5|                 N|-73.97895812988281| 40.78596115112305|           2|       25.3|  0.0|    0.0|       0.0|         0.0|                  0.3|        25.6|       2|\n",
            "| 2015-05-02 12:01:35|  2015-05-02 12:03:10|              0|         0.17| -73.9935302734375| 40.72722244262695|         5|                 N| -73.9957046508789|  40.7281494140625|           2|       60.0|  0.0|    0.0|       0.0|         0.0|                  0.3|        60.3|       2|\n",
            "| 2015-05-11 08:33:13|  2015-05-11 08:33:54|              0|          0.0|-73.95375061035156| 40.77680969238281|         5|                 N|-73.95358276367188| 40.77687454223633|           1|      15.08|  0.0|    0.5|      3.18|         0.0|                  0.3|       19.06|       2|\n",
            "| 2015-05-12 22:26:55|  2015-05-12 22:27:00|              0|          0.0|-73.98343658447266| 40.78126525878906|         5|                 N|-73.98344421386719|40.781272888183594|           2|       19.5|  0.0|    0.5|       0.0|         0.0|                  0.3|        20.3|       2|\n",
            "| 2015-05-10 23:00:00|  2015-05-10 23:00:03|              0|          0.0|-74.01595306396484|  40.7114143371582|         5|                 N|  -74.015869140625| 40.71141052246094|           1|       15.0|  0.0|    0.5|      3.16|         0.0|                  0.3|       18.96|       2|\n",
            "| 2015-05-10 15:15:13|  2015-05-10 15:15:39|              0|          0.0| -73.7904052734375| 40.64677429199219|         5|                 N| -73.7904281616211| 40.64679718017578|           2|       60.0|  0.0|    0.5|       0.0|         0.0|                  0.3|        60.8|       2|\n",
            "| 2015-05-31 04:48:52|  2015-05-31 05:12:44|              0|          0.0|-74.00869750976562| 40.63092041015625|         5|                 N|-74.00861358642578|40.630638122558594|           1|       34.0|  0.0|    0.5|     10.44|         0.0|                  0.3|       45.24|       2|\n",
            "| 2015-05-31 02:42:04|  2015-05-31 02:42:09|              0|          0.0| -74.0119857788086| 40.70759201049805|         5|                 N| -74.0119857788086|40.707584381103516|           1|        7.5|  0.0|    0.5|      1.48|         0.0|                  0.3|        9.78|       2|\n",
            "| 2015-05-19 15:12:52|  2015-05-19 15:13:24|              0|          0.0|-73.99871826171875|40.719539642333984|         5|                 N| -73.9987564086914|40.719459533691406|           1|       28.0|  0.0|    0.0|       1.0|         0.0|                  0.3|        29.3|       2|\n",
            "| 2015-05-07 18:03:57|  2015-05-07 18:04:19|              0|          0.0|-73.78178405761719|40.644412994384766|         5|                 N|-73.78178405761719|  40.6444206237793|           1|       60.0|  0.0|    0.5|      15.2|         0.0|                  0.3|        76.0|       2|\n",
            "| 2015-05-20 01:16:43|  2015-05-20 01:16:48|              0|          0.0|-73.93852233886719|  40.7216911315918|         5|                 N|-73.93852996826172| 40.72166061401367|           1|       13.5|  0.0|    0.5|       0.0|         0.0|                  0.3|        14.3|       2|\n",
            "+--------------------+---------------------+---------------+-------------+------------------+------------------+----------+------------------+------------------+------------------+------------+-----------+-----+-------+----------+------------+---------------------+------------+--------+\n",
            "only showing top 20 rows\n",
            "\n"
          ],
          "name": "stdout"
        }
      ]
    },
    {
      "cell_type": "markdown",
      "metadata": {
        "id": "CP1gMk1OCv3l",
        "colab_type": "text"
      },
      "source": [
        "2.What’s special with trips with more than 6 passengers?"
      ]
    },
    {
      "cell_type": "code",
      "metadata": {
        "id": "aHCFIhI1C1Xw",
        "colab_type": "code",
        "colab": {}
      },
      "source": [
        "trips_6 = filtered_df.filter(col('passenger_count')>6)"
      ],
      "execution_count": 0,
      "outputs": []
    },
    {
      "cell_type": "code",
      "metadata": {
        "id": "BxLcE8eQw4U9",
        "colab_type": "code",
        "colab": {}
      },
      "source": [
        ""
      ],
      "execution_count": 0,
      "outputs": []
    },
    {
      "cell_type": "markdown",
      "metadata": {
        "id": "IVz0SCVpC3ti",
        "colab_type": "text"
      },
      "source": [
        "3.What is the largest distance travelled during this month? Is it the first taxi on the moon?"
      ]
    },
    {
      "cell_type": "code",
      "metadata": {
        "id": "QrwUgRFpC4J6",
        "colab_type": "code",
        "colab": {}
      },
      "source": [
        "max_dist = filtered_df.agg({\"trip_distance\": \"max\"}).collect()\n"
      ],
      "execution_count": 0,
      "outputs": []
    },
    {
      "cell_type": "code",
      "metadata": {
        "id": "xLRpm9_bxk1Z",
        "colab_type": "code",
        "outputId": "cbc6ca61-3c7a-4727-d40a-c35ca896566f",
        "colab": {
          "base_uri": "https://localhost:8080/",
          "height": 36
        }
      },
      "source": [
        "print('Max distance travelled OMG =D : ', max_dist[0][0])"
      ],
      "execution_count": 0,
      "outputs": [
        {
          "output_type": "stream",
          "text": [
            "Max distance travelled OMG =D :  15700000.0\n"
          ],
          "name": "stdout"
        }
      ]
    },
    {
      "cell_type": "markdown",
      "metadata": {
        "id": "6qTurQcOC7-V",
        "colab_type": "text"
      },
      "source": [
        "4.Plot the distribution of the trip_distance(using an histogram for instance) during year 2105. Focus on trips with non-zero trip distance and trip distance less than 30 miles."
      ]
    },
    {
      "cell_type": "code",
      "metadata": {
        "id": "5hq7q8nJaS1h",
        "colab_type": "code",
        "colab": {}
      },
      "source": [
        "# spark.sparkContext._jvm.System.gc()"
      ],
      "execution_count": 0,
      "outputs": []
    },
    {
      "cell_type": "code",
      "metadata": {
        "id": "-Z-w2BK4C865",
        "colab_type": "code",
        "outputId": "0b9d7dc3-79b2-4857-819a-62fd2b9d9273",
        "colab": {
          "base_uri": "https://localhost:8080/",
          "height": 444
        }
      },
      "source": [
        "import seaborn as sns\n",
        "import matplotlib.pyplot as plt\n",
        "\n",
        "filtered_distance = filtered_df.filter( (col('trip_distance')>0) & (col('trip_distance')<30)).select('trip_distance').collect()\n",
        "df = filtered_distance.toPandas()\n",
        "sns.distplot(df.trip_distance)\n"
      ],
      "execution_count": 0,
      "outputs": [
        {
          "output_type": "error",
          "ename": "Py4JJavaError",
          "evalue": "ignored",
          "traceback": [
            "\u001b[0;31m---------------------------------------------------------------------------\u001b[0m",
            "\u001b[0;31mPy4JJavaError\u001b[0m                             Traceback (most recent call last)",
            "\u001b[0;32m<ipython-input-46-ac0dba4c3f20>\u001b[0m in \u001b[0;36m<module>\u001b[0;34m()\u001b[0m\n\u001b[1;32m      2\u001b[0m \u001b[0;32mimport\u001b[0m \u001b[0mmatplotlib\u001b[0m\u001b[0;34m.\u001b[0m\u001b[0mpyplot\u001b[0m \u001b[0;32mas\u001b[0m \u001b[0mplt\u001b[0m\u001b[0;34m\u001b[0m\u001b[0;34m\u001b[0m\u001b[0m\n\u001b[1;32m      3\u001b[0m \u001b[0;34m\u001b[0m\u001b[0m\n\u001b[0;32m----> 4\u001b[0;31m \u001b[0mfiltered_distance\u001b[0m \u001b[0;34m=\u001b[0m \u001b[0mfiltered_df\u001b[0m\u001b[0;34m.\u001b[0m\u001b[0mfilter\u001b[0m\u001b[0;34m(\u001b[0m \u001b[0;34m(\u001b[0m\u001b[0mcol\u001b[0m\u001b[0;34m(\u001b[0m\u001b[0;34m'trip_distance'\u001b[0m\u001b[0;34m)\u001b[0m\u001b[0;34m>\u001b[0m\u001b[0;36m0\u001b[0m\u001b[0;34m)\u001b[0m \u001b[0;34m&\u001b[0m \u001b[0;34m(\u001b[0m\u001b[0mcol\u001b[0m\u001b[0;34m(\u001b[0m\u001b[0;34m'trip_distance'\u001b[0m\u001b[0;34m)\u001b[0m\u001b[0;34m<\u001b[0m\u001b[0;36m30\u001b[0m\u001b[0;34m)\u001b[0m\u001b[0;34m)\u001b[0m\u001b[0;34m.\u001b[0m\u001b[0mselect\u001b[0m\u001b[0;34m(\u001b[0m\u001b[0;34m'trip_distance'\u001b[0m\u001b[0;34m)\u001b[0m\u001b[0;34m.\u001b[0m\u001b[0mcollect\u001b[0m\u001b[0;34m(\u001b[0m\u001b[0;34m)\u001b[0m\u001b[0;34m\u001b[0m\u001b[0;34m\u001b[0m\u001b[0m\n\u001b[0m\u001b[1;32m      5\u001b[0m \u001b[0mdf\u001b[0m \u001b[0;34m=\u001b[0m \u001b[0mfiltered_distance\u001b[0m\u001b[0;34m.\u001b[0m\u001b[0mtoPandas\u001b[0m\u001b[0;34m(\u001b[0m\u001b[0;34m)\u001b[0m\u001b[0;34m\u001b[0m\u001b[0;34m\u001b[0m\u001b[0m\n\u001b[1;32m      6\u001b[0m \u001b[0msns\u001b[0m\u001b[0;34m.\u001b[0m\u001b[0mdistplot\u001b[0m\u001b[0;34m(\u001b[0m\u001b[0mdf\u001b[0m\u001b[0;34m.\u001b[0m\u001b[0mtrip_distance\u001b[0m\u001b[0;34m)\u001b[0m\u001b[0;34m\u001b[0m\u001b[0;34m\u001b[0m\u001b[0m\n",
            "\u001b[0;32m/content/spark-2.3.4-bin-hadoop2.7/python/pyspark/sql/dataframe.py\u001b[0m in \u001b[0;36mcollect\u001b[0;34m(self)\u001b[0m\n\u001b[1;32m    464\u001b[0m         \"\"\"\n\u001b[1;32m    465\u001b[0m         \u001b[0;32mwith\u001b[0m \u001b[0mSCCallSiteSync\u001b[0m\u001b[0;34m(\u001b[0m\u001b[0mself\u001b[0m\u001b[0;34m.\u001b[0m\u001b[0m_sc\u001b[0m\u001b[0;34m)\u001b[0m \u001b[0;32mas\u001b[0m \u001b[0mcss\u001b[0m\u001b[0;34m:\u001b[0m\u001b[0;34m\u001b[0m\u001b[0;34m\u001b[0m\u001b[0m\n\u001b[0;32m--> 466\u001b[0;31m             \u001b[0msock_info\u001b[0m \u001b[0;34m=\u001b[0m \u001b[0mself\u001b[0m\u001b[0;34m.\u001b[0m\u001b[0m_jdf\u001b[0m\u001b[0;34m.\u001b[0m\u001b[0mcollectToPython\u001b[0m\u001b[0;34m(\u001b[0m\u001b[0;34m)\u001b[0m\u001b[0;34m\u001b[0m\u001b[0;34m\u001b[0m\u001b[0m\n\u001b[0m\u001b[1;32m    467\u001b[0m         \u001b[0;32mreturn\u001b[0m \u001b[0mlist\u001b[0m\u001b[0;34m(\u001b[0m\u001b[0m_load_from_socket\u001b[0m\u001b[0;34m(\u001b[0m\u001b[0msock_info\u001b[0m\u001b[0;34m,\u001b[0m \u001b[0mBatchedSerializer\u001b[0m\u001b[0;34m(\u001b[0m\u001b[0mPickleSerializer\u001b[0m\u001b[0;34m(\u001b[0m\u001b[0;34m)\u001b[0m\u001b[0;34m)\u001b[0m\u001b[0;34m)\u001b[0m\u001b[0;34m)\u001b[0m\u001b[0;34m\u001b[0m\u001b[0;34m\u001b[0m\u001b[0m\n\u001b[1;32m    468\u001b[0m \u001b[0;34m\u001b[0m\u001b[0m\n",
            "\u001b[0;32m/content/spark-2.3.4-bin-hadoop2.7/python/lib/py4j-0.10.7-src.zip/py4j/java_gateway.py\u001b[0m in \u001b[0;36m__call__\u001b[0;34m(self, *args)\u001b[0m\n\u001b[1;32m   1255\u001b[0m         \u001b[0manswer\u001b[0m \u001b[0;34m=\u001b[0m \u001b[0mself\u001b[0m\u001b[0;34m.\u001b[0m\u001b[0mgateway_client\u001b[0m\u001b[0;34m.\u001b[0m\u001b[0msend_command\u001b[0m\u001b[0;34m(\u001b[0m\u001b[0mcommand\u001b[0m\u001b[0;34m)\u001b[0m\u001b[0;34m\u001b[0m\u001b[0;34m\u001b[0m\u001b[0m\n\u001b[1;32m   1256\u001b[0m         return_value = get_return_value(\n\u001b[0;32m-> 1257\u001b[0;31m             answer, self.gateway_client, self.target_id, self.name)\n\u001b[0m\u001b[1;32m   1258\u001b[0m \u001b[0;34m\u001b[0m\u001b[0m\n\u001b[1;32m   1259\u001b[0m         \u001b[0;32mfor\u001b[0m \u001b[0mtemp_arg\u001b[0m \u001b[0;32min\u001b[0m \u001b[0mtemp_args\u001b[0m\u001b[0;34m:\u001b[0m\u001b[0;34m\u001b[0m\u001b[0;34m\u001b[0m\u001b[0m\n",
            "\u001b[0;32m/content/spark-2.3.4-bin-hadoop2.7/python/pyspark/sql/utils.py\u001b[0m in \u001b[0;36mdeco\u001b[0;34m(*a, **kw)\u001b[0m\n\u001b[1;32m     61\u001b[0m     \u001b[0;32mdef\u001b[0m \u001b[0mdeco\u001b[0m\u001b[0;34m(\u001b[0m\u001b[0;34m*\u001b[0m\u001b[0ma\u001b[0m\u001b[0;34m,\u001b[0m \u001b[0;34m**\u001b[0m\u001b[0mkw\u001b[0m\u001b[0;34m)\u001b[0m\u001b[0;34m:\u001b[0m\u001b[0;34m\u001b[0m\u001b[0;34m\u001b[0m\u001b[0m\n\u001b[1;32m     62\u001b[0m         \u001b[0;32mtry\u001b[0m\u001b[0;34m:\u001b[0m\u001b[0;34m\u001b[0m\u001b[0;34m\u001b[0m\u001b[0m\n\u001b[0;32m---> 63\u001b[0;31m             \u001b[0;32mreturn\u001b[0m \u001b[0mf\u001b[0m\u001b[0;34m(\u001b[0m\u001b[0;34m*\u001b[0m\u001b[0ma\u001b[0m\u001b[0;34m,\u001b[0m \u001b[0;34m**\u001b[0m\u001b[0mkw\u001b[0m\u001b[0;34m)\u001b[0m\u001b[0;34m\u001b[0m\u001b[0;34m\u001b[0m\u001b[0m\n\u001b[0m\u001b[1;32m     64\u001b[0m         \u001b[0;32mexcept\u001b[0m \u001b[0mpy4j\u001b[0m\u001b[0;34m.\u001b[0m\u001b[0mprotocol\u001b[0m\u001b[0;34m.\u001b[0m\u001b[0mPy4JJavaError\u001b[0m \u001b[0;32mas\u001b[0m \u001b[0me\u001b[0m\u001b[0;34m:\u001b[0m\u001b[0;34m\u001b[0m\u001b[0;34m\u001b[0m\u001b[0m\n\u001b[1;32m     65\u001b[0m             \u001b[0ms\u001b[0m \u001b[0;34m=\u001b[0m \u001b[0me\u001b[0m\u001b[0;34m.\u001b[0m\u001b[0mjava_exception\u001b[0m\u001b[0;34m.\u001b[0m\u001b[0mtoString\u001b[0m\u001b[0;34m(\u001b[0m\u001b[0;34m)\u001b[0m\u001b[0;34m\u001b[0m\u001b[0;34m\u001b[0m\u001b[0m\n",
            "\u001b[0;32m/content/spark-2.3.4-bin-hadoop2.7/python/lib/py4j-0.10.7-src.zip/py4j/protocol.py\u001b[0m in \u001b[0;36mget_return_value\u001b[0;34m(answer, gateway_client, target_id, name)\u001b[0m\n\u001b[1;32m    326\u001b[0m                 raise Py4JJavaError(\n\u001b[1;32m    327\u001b[0m                     \u001b[0;34m\"An error occurred while calling {0}{1}{2}.\\n\"\u001b[0m\u001b[0;34m.\u001b[0m\u001b[0;34m\u001b[0m\u001b[0;34m\u001b[0m\u001b[0m\n\u001b[0;32m--> 328\u001b[0;31m                     format(target_id, \".\", name), value)\n\u001b[0m\u001b[1;32m    329\u001b[0m             \u001b[0;32melse\u001b[0m\u001b[0;34m:\u001b[0m\u001b[0;34m\u001b[0m\u001b[0;34m\u001b[0m\u001b[0m\n\u001b[1;32m    330\u001b[0m                 raise Py4JError(\n",
            "\u001b[0;31mPy4JJavaError\u001b[0m: An error occurred while calling o352.collectToPython.\n: java.lang.OutOfMemoryError: Java heap space\n"
          ]
        }
      ]
    },
    {
      "cell_type": "markdown",
      "metadata": {
        "id": "BOMgrYmnmUSl",
        "colab_type": "text"
      },
      "source": [
        "# Let’s look at what Spark does for these computations\n",
        "\n",
        "1.Use the explain method or have a look at the Spark UIto analyze the job. You should be able to assess \n",
        "- Parsed Logical Plan\n",
        "- Analyzed Logical Plan\n",
        "- Optimized Logical Plan\n",
        "- Physical Plan\n"
      ]
    },
    {
      "cell_type": "code",
      "metadata": {
        "id": "gO8hr9QhmYSi",
        "colab_type": "code",
        "colab": {}
      },
      "source": [
        ""
      ],
      "execution_count": 0,
      "outputs": []
    },
    {
      "cell_type": "markdown",
      "metadata": {
        "id": "XkKbwTcgmwF4",
        "colab_type": "text"
      },
      "source": [
        "2.Do the Analyzed Logical Plan and Optimized Logical Plan differ? Spot the differences if any.How would a RDBMS proceed with such a query?"
      ]
    },
    {
      "cell_type": "code",
      "metadata": {
        "id": "SqnPvMDemxLa",
        "colab_type": "code",
        "colab": {}
      },
      "source": [
        ""
      ],
      "execution_count": 0,
      "outputs": []
    },
    {
      "cell_type": "markdown",
      "metadata": {
        "id": "wmkZoheAmxzB",
        "colab_type": "text"
      },
      "source": [
        "3.How does the physical plan differ from the Optimized Logical Plan? What are the keywordsyou would not expects in a RDBMS? What is their meaning?"
      ]
    },
    {
      "cell_type": "code",
      "metadata": {
        "id": "0RupaEm1m0j2",
        "colab_type": "code",
        "colab": {}
      },
      "source": [
        ""
      ],
      "execution_count": 0,
      "outputs": []
    },
    {
      "cell_type": "markdown",
      "metadata": {
        "id": "P3nEqb91m1_6",
        "colab_type": "text"
      },
      "source": [
        "4.Inspect the stages on Spark UI. How many stages are necessary to complete the Spark job? What are the roles of HashAggregate and Exchange hashpartitioning?"
      ]
    },
    {
      "cell_type": "code",
      "metadata": {
        "id": "QE6ARHzkm4It",
        "colab_type": "code",
        "colab": {}
      },
      "source": [
        ""
      ],
      "execution_count": 0,
      "outputs": []
    },
    {
      "cell_type": "markdown",
      "metadata": {
        "id": "pfSibASnnDa6",
        "colab_type": "text"
      },
      "source": [
        "5.Does the physical plan performshuffleoperations? If yes how many?"
      ]
    },
    {
      "cell_type": "code",
      "metadata": {
        "id": "5hKc1AfYnDsY",
        "colab_type": "code",
        "colab": {}
      },
      "source": [
        ""
      ],
      "execution_count": 0,
      "outputs": []
    },
    {
      "cell_type": "markdown",
      "metadata": {
        "id": "dNgdH8LTnGGm",
        "colab_type": "text"
      },
      "source": [
        "6.What are tasks with respect to stages (in Spark language)? How many tasks are your stagesmade of?"
      ]
    },
    {
      "cell_type": "code",
      "metadata": {
        "id": "ZnLpIUZfnGWx",
        "colab_type": "code",
        "colab": {}
      },
      "source": [
        ""
      ],
      "execution_count": 0,
      "outputs": []
    },
    {
      "cell_type": "markdown",
      "metadata": {
        "id": "OTjVErAznW4A",
        "colab_type": "text"
      },
      "source": [
        "**Now, compute the following and produce relevant plots:**\n",
        "\n",
        "1.Break down the trip distance distribution for each day of week"
      ]
    },
    {
      "cell_type": "code",
      "metadata": {
        "id": "XwqUHqkKnYuG",
        "colab_type": "code",
        "colab": {}
      },
      "source": [
        ""
      ],
      "execution_count": 0,
      "outputs": []
    },
    {
      "cell_type": "markdown",
      "metadata": {
        "id": "hIBmLItmnfRR",
        "colab_type": "text"
      },
      "source": [
        "2.Count the number of distinct pickup location"
      ]
    },
    {
      "cell_type": "code",
      "metadata": {
        "id": "ntFNjyp7nflf",
        "colab_type": "code",
        "colab": {}
      },
      "source": [
        ""
      ],
      "execution_count": 0,
      "outputs": []
    },
    {
      "cell_type": "markdown",
      "metadata": {
        "id": "7XBZkH3Rnhsb",
        "colab_type": "text"
      },
      "source": [
        "3.Compute and display tips and profits as a function of the pickup location"
      ]
    },
    {
      "cell_type": "code",
      "metadata": {
        "id": "WB0nZ_YNnh9o",
        "colab_type": "code",
        "colab": {}
      },
      "source": [
        ""
      ],
      "execution_count": 0,
      "outputs": []
    },
    {
      "cell_type": "markdown",
      "metadata": {
        "id": "EHg-CxBinj6Y",
        "colab_type": "text"
      },
      "source": [
        "#4  Investigate one month of trips data in 2015 and 2018\n",
        "\n",
        "\n",
        "Consider one month of trips data fromyellowtaxis for each year1.Filter and cache/persist the result"
      ]
    },
    {
      "cell_type": "code",
      "metadata": {
        "id": "n8C3iCP5nk5v",
        "colab_type": "code",
        "colab": {}
      },
      "source": [
        ""
      ],
      "execution_count": 0,
      "outputs": []
    },
    {
      "cell_type": "markdown",
      "metadata": {
        "id": "0jgZoKLfnuhB",
        "colab_type": "text"
      },
      "source": [
        "## 4.1  Assessing seasonalities and looking at time series"
      ]
    },
    {
      "cell_type": "code",
      "metadata": {
        "id": "uizsqrewnvGa",
        "colab_type": "code",
        "colab": {}
      },
      "source": [
        ""
      ],
      "execution_count": 0,
      "outputs": []
    },
    {
      "cell_type": "markdown",
      "metadata": {
        "id": "URXofp-hnxrH",
        "colab_type": "text"
      },
      "source": [
        "Compute and plot the following time series indexed by day of the week and hour of day:\n",
        "\n",
        "1. The number of pickups\n",
        "2. The average fare\n",
        "3. The average trip duration\n",
        "4. Plot the average number of ongoing trips"
      ]
    },
    {
      "cell_type": "code",
      "metadata": {
        "id": "rapADg00n26L",
        "colab_type": "code",
        "colab": {}
      },
      "source": [
        ""
      ],
      "execution_count": 0,
      "outputs": []
    },
    {
      "cell_type": "markdown",
      "metadata": {
        "id": "6puI1LIuoBMB",
        "colab_type": "text"
      },
      "source": [
        "##4.2  Rides to the airports"
      ]
    },
    {
      "cell_type": "code",
      "metadata": {
        "id": "_8D25sJxoCh6",
        "colab_type": "code",
        "colab": {}
      },
      "source": [
        ""
      ],
      "execution_count": 0,
      "outputs": []
    },
    {
      "cell_type": "markdown",
      "metadata": {
        "id": "1rWUK9owoIpn",
        "colab_type": "text"
      },
      "source": [
        "In order to find the longitude and lattitude of JFK and Newark airport as well as the longitudeand magnitudes of Manhattan, you can use a service like geojson.io. Plot the following time series,indexed the day of the week and hour of the day\n",
        "1. Median duration of taxi trip leaving Midtown (Southern Manhattan) headed for JFK Airport\n",
        "2. Median taxi duration of trip leaving from JFK Airport to Midtown (Southern Manhattan)"
      ]
    },
    {
      "cell_type": "code",
      "metadata": {
        "id": "Z8hY7jH_oPKs",
        "colab_type": "code",
        "colab": {}
      },
      "source": [
        ""
      ],
      "execution_count": 0,
      "outputs": []
    },
    {
      "cell_type": "markdown",
      "metadata": {
        "id": "S_yXzWUJoRRw",
        "colab_type": "text"
      },
      "source": [
        "##4.3  Geographic information\n",
        "\n",
        "For this, you will need to find tools to display maps and to build choropeth maps. We let you lookand find relevant tools to do this."
      ]
    },
    {
      "cell_type": "markdown",
      "metadata": {
        "id": "BEJt-9sioauj",
        "colab_type": "text"
      },
      "source": [
        "1. Build a heatmap where color is a function of\n",
        "   1. number ofpickups\n",
        "   2. number ofdropoffs\n",
        "   3. number ofpickupswith dropoff at some airport (JFK, LaGuardia, Newark)"
      ]
    },
    {
      "cell_type": "code",
      "metadata": {
        "id": "73XaijAJoSXQ",
        "colab_type": "code",
        "colab": {}
      },
      "source": [
        ""
      ],
      "execution_count": 0,
      "outputs": []
    },
    {
      "cell_type": "markdown",
      "metadata": {
        "id": "uZvwrAxdoh8Z",
        "colab_type": "text"
      },
      "source": [
        "2. Build a choropeth map where color is a function of\n",
        "  1. number of pickups in the area\n",
        "  2. ratio of number of payments by card/number of cash payments for pickups in the area \n",
        "  3. ratio of total fare/trip duration for dropoff in the area"
      ]
    },
    {
      "cell_type": "code",
      "metadata": {
        "id": "Hly3OkdLomg7",
        "colab_type": "code",
        "colab": {}
      },
      "source": [
        ""
      ],
      "execution_count": 0,
      "outputs": []
    },
    {
      "cell_type": "markdown",
      "metadata": {
        "id": "CIp7zVwroo2P",
        "colab_type": "text"
      },
      "source": [
        "3. Build an interactive chorophet with a slider allowing the user to select anhour of dayandwhere the color is a function of\n",
        "  1. average number of dropoffs in the area during that hour the day \n",
        "  2. average ratio of tip over total fare amount for pickups in the area at given hour of theday"
      ]
    },
    {
      "cell_type": "code",
      "metadata": {
        "id": "yfwMbCYBovtK",
        "colab_type": "code",
        "colab": {}
      },
      "source": [
        ""
      ],
      "execution_count": 0,
      "outputs": []
    }
  ]
}